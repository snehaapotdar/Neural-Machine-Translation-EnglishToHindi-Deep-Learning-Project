{
 "cells": [
  {
   "cell_type": "code",
   "execution_count": null,
   "metadata": {},
   "outputs": [],
   "source": [
    "## Model: GRU with Attention \n",
    "## Conversion: English to Hindi\n",
    "## BLEU 1-gram Score: 0.42\n",
    "## Loss @ Epoch 12: 0.0872"
   ]
  },
  {
   "cell_type": "code",
   "execution_count": 99,
   "metadata": {},
   "outputs": [],
   "source": [
    "import pandas as pd\n",
    "from nltk.translate.bleu_score import SmoothingFunction, sentence_bleu"
   ]
  },
  {
   "cell_type": "code",
   "execution_count": 35,
   "metadata": {},
   "outputs": [
    {
     "name": "stderr",
     "output_type": "stream",
     "text": [
      "C:\\Users\\Matt\\Anaconda3\\lib\\site-packages\\ipykernel_launcher.py:2: ParserWarning:\n",
      "\n",
      "Falling back to the 'python' engine because the 'c' engine does not support regex separators (separators > 1 char and different from '\\s+' are interpreted as regex); you can avoid this warning by specifying engine='python'.\n",
      "\n"
     ]
    },
    {
     "name": "stdout",
     "output_type": "stream",
     "text": [
      "84557\n"
     ]
    }
   ],
   "source": [
    "num_samples_en = 84557\n",
    "lines_en = pd.read_csv('trainen.txt',encoding='utf8', sep='delimiter', names=['eng'],header = None)\n",
    "lines_en = lines_en[0:num_samples_en]\n",
    "input_texts_en=len(lines_en)\n",
    "print(input_texts_en)"
   ]
  },
  {
   "cell_type": "code",
   "execution_count": 36,
   "metadata": {},
   "outputs": [
    {
     "data": {
      "text/html": [
       "<div>\n",
       "<style scoped>\n",
       "    .dataframe tbody tr th:only-of-type {\n",
       "        vertical-align: middle;\n",
       "    }\n",
       "\n",
       "    .dataframe tbody tr th {\n",
       "        vertical-align: top;\n",
       "    }\n",
       "\n",
       "    .dataframe thead th {\n",
       "        text-align: right;\n",
       "    }\n",
       "</style>\n",
       "<table border=\"1\" class=\"dataframe\">\n",
       "  <thead>\n",
       "    <tr style=\"text-align: right;\">\n",
       "      <th></th>\n",
       "      <th>eng</th>\n",
       "    </tr>\n",
       "  </thead>\n",
       "  <tbody>\n",
       "    <tr>\n",
       "      <th>0</th>\n",
       "      <td>And what is their Sigil?</td>\n",
       "    </tr>\n",
       "    <tr>\n",
       "      <th>1</th>\n",
       "      <td>I do not want to die.</td>\n",
       "    </tr>\n",
       "    <tr>\n",
       "      <th>2</th>\n",
       "      <td>It's the same country I think.</td>\n",
       "    </tr>\n",
       "    <tr>\n",
       "      <th>3</th>\n",
       "      <td>Then they'll be crying like babies.</td>\n",
       "    </tr>\n",
       "    <tr>\n",
       "      <th>4</th>\n",
       "      <td>- No, I need power up!</td>\n",
       "    </tr>\n",
       "  </tbody>\n",
       "</table>\n",
       "</div>"
      ],
      "text/plain": [
       "                                   eng\n",
       "0             And what is their Sigil?\n",
       "1                I do not want to die.\n",
       "2       It's the same country I think.\n",
       "3  Then they'll be crying like babies.\n",
       "4               - No, I need power up!"
      ]
     },
     "execution_count": 36,
     "metadata": {},
     "output_type": "execute_result"
    }
   ],
   "source": [
    "lines_en.head()"
   ]
  },
  {
   "cell_type": "code",
   "execution_count": 37,
   "metadata": {},
   "outputs": [
    {
     "data": {
      "text/plain": [
       "(84557, 1)"
      ]
     },
     "execution_count": 37,
     "metadata": {},
     "output_type": "execute_result"
    }
   ],
   "source": [
    "lines_en.shape"
   ]
  },
  {
   "cell_type": "code",
   "execution_count": 38,
   "metadata": {},
   "outputs": [
    {
     "name": "stderr",
     "output_type": "stream",
     "text": [
      "C:\\Users\\Matt\\Anaconda3\\lib\\site-packages\\ipykernel_launcher.py:2: ParserWarning:\n",
      "\n",
      "Falling back to the 'python' engine because the 'c' engine does not support regex separators (separators > 1 char and different from '\\s+' are interpreted as regex); you can avoid this warning by specifying engine='python'.\n",
      "\n"
     ]
    },
    {
     "name": "stdout",
     "output_type": "stream",
     "text": [
      "84557\n"
     ]
    }
   ],
   "source": [
    "num_samples_hi = 84557\n",
    "lines_hi = pd.read_csv('trainhi.txt',encoding='utf8', sep='delimiter', names=['hin'],header = None)\n",
    "lines_hi = lines_hi[0:num_samples_hi]\n",
    "input_texts_hi=len(lines_hi)\n",
    "print(input_texts_hi)"
   ]
  },
  {
   "cell_type": "code",
   "execution_count": 39,
   "metadata": {},
   "outputs": [
    {
     "data": {
      "text/html": [
       "<div>\n",
       "<style scoped>\n",
       "    .dataframe tbody tr th:only-of-type {\n",
       "        vertical-align: middle;\n",
       "    }\n",
       "\n",
       "    .dataframe tbody tr th {\n",
       "        vertical-align: top;\n",
       "    }\n",
       "\n",
       "    .dataframe thead th {\n",
       "        text-align: right;\n",
       "    }\n",
       "</style>\n",
       "<table border=\"1\" class=\"dataframe\">\n",
       "  <thead>\n",
       "    <tr style=\"text-align: right;\">\n",
       "      <th></th>\n",
       "      <th>hin</th>\n",
       "    </tr>\n",
       "  </thead>\n",
       "  <tbody>\n",
       "    <tr>\n",
       "      <th>0</th>\n",
       "      <td>और उनके Sigil क्या है?</td>\n",
       "    </tr>\n",
       "    <tr>\n",
       "      <th>1</th>\n",
       "      <td>मैं मरना नहीं चाहता.</td>\n",
       "    </tr>\n",
       "    <tr>\n",
       "      <th>2</th>\n",
       "      <td>यह मुझे लगता है कि एक ही देश है.</td>\n",
       "    </tr>\n",
       "    <tr>\n",
       "      <th>3</th>\n",
       "      <td>फिर ये नन्हें बच्चों की तरह रोएँगे।</td>\n",
       "    </tr>\n",
       "    <tr>\n",
       "      <th>4</th>\n",
       "      <td>नहीं, मुझे पावर की जरुरत है !</td>\n",
       "    </tr>\n",
       "  </tbody>\n",
       "</table>\n",
       "</div>"
      ],
      "text/plain": [
       "                                   hin\n",
       "0               और उनके Sigil क्या है?\n",
       "1                 मैं मरना नहीं चाहता.\n",
       "2     यह मुझे लगता है कि एक ही देश है.\n",
       "3  फिर ये नन्हें बच्चों की तरह रोएँगे।\n",
       "4        नहीं, मुझे पावर की जरुरत है !"
      ]
     },
     "execution_count": 39,
     "metadata": {},
     "output_type": "execute_result"
    }
   ],
   "source": [
    "lines_hi.head()"
   ]
  },
  {
   "cell_type": "code",
   "execution_count": 40,
   "metadata": {},
   "outputs": [
    {
     "data": {
      "text/plain": [
       "(84557, 1)"
      ]
     },
     "execution_count": 40,
     "metadata": {},
     "output_type": "execute_result"
    }
   ],
   "source": [
    "lines_hi.shape"
   ]
  },
  {
   "cell_type": "code",
   "execution_count": 41,
   "metadata": {},
   "outputs": [
    {
     "data": {
      "text/plain": [
       "(84557, 2)"
      ]
     },
     "execution_count": 41,
     "metadata": {},
     "output_type": "execute_result"
    }
   ],
   "source": [
    "data = pd.merge(lines_en, lines_hi, left_index=True, right_index=True)\n",
    "data.shape"
   ]
  },
  {
   "cell_type": "code",
   "execution_count": 42,
   "metadata": {},
   "outputs": [
    {
     "data": {
      "text/html": [
       "<div>\n",
       "<style scoped>\n",
       "    .dataframe tbody tr th:only-of-type {\n",
       "        vertical-align: middle;\n",
       "    }\n",
       "\n",
       "    .dataframe tbody tr th {\n",
       "        vertical-align: top;\n",
       "    }\n",
       "\n",
       "    .dataframe thead th {\n",
       "        text-align: right;\n",
       "    }\n",
       "</style>\n",
       "<table border=\"1\" class=\"dataframe\">\n",
       "  <thead>\n",
       "    <tr style=\"text-align: right;\">\n",
       "      <th></th>\n",
       "      <th>eng</th>\n",
       "      <th>hin</th>\n",
       "    </tr>\n",
       "  </thead>\n",
       "  <tbody>\n",
       "    <tr>\n",
       "      <th>0</th>\n",
       "      <td>And what is their Sigil?</td>\n",
       "      <td>और उनके Sigil क्या है?</td>\n",
       "    </tr>\n",
       "    <tr>\n",
       "      <th>1</th>\n",
       "      <td>I do not want to die.</td>\n",
       "      <td>मैं मरना नहीं चाहता.</td>\n",
       "    </tr>\n",
       "    <tr>\n",
       "      <th>2</th>\n",
       "      <td>It's the same country I think.</td>\n",
       "      <td>यह मुझे लगता है कि एक ही देश है.</td>\n",
       "    </tr>\n",
       "    <tr>\n",
       "      <th>3</th>\n",
       "      <td>Then they'll be crying like babies.</td>\n",
       "      <td>फिर ये नन्हें बच्चों की तरह रोएँगे।</td>\n",
       "    </tr>\n",
       "    <tr>\n",
       "      <th>4</th>\n",
       "      <td>- No, I need power up!</td>\n",
       "      <td>नहीं, मुझे पावर की जरुरत है !</td>\n",
       "    </tr>\n",
       "  </tbody>\n",
       "</table>\n",
       "</div>"
      ],
      "text/plain": [
       "                                   eng                                  hin\n",
       "0             And what is their Sigil?               और उनके Sigil क्या है?\n",
       "1                I do not want to die.                 मैं मरना नहीं चाहता.\n",
       "2       It's the same country I think.     यह मुझे लगता है कि एक ही देश है.\n",
       "3  Then they'll be crying like babies.  फिर ये नन्हें बच्चों की तरह रोएँगे।\n",
       "4               - No, I need power up!        नहीं, मुझे पावर की जरुरत है !"
      ]
     },
     "execution_count": 42,
     "metadata": {},
     "output_type": "execute_result"
    }
   ],
   "source": [
    "data.head()"
   ]
  },
  {
   "cell_type": "code",
   "execution_count": 46,
   "metadata": {},
   "outputs": [
    {
     "data": {
      "text/plain": [
       "(78475, 2)"
      ]
     },
     "execution_count": 46,
     "metadata": {},
     "output_type": "execute_result"
    }
   ],
   "source": [
    "df = data[~data['hin'].str.contains(\"[a-zA-Z]\").fillna(False)]\n",
    "df.shape"
   ]
  },
  {
   "cell_type": "code",
   "execution_count": 47,
   "metadata": {},
   "outputs": [
    {
     "data": {
      "text/html": [
       "<div>\n",
       "<style scoped>\n",
       "    .dataframe tbody tr th:only-of-type {\n",
       "        vertical-align: middle;\n",
       "    }\n",
       "\n",
       "    .dataframe tbody tr th {\n",
       "        vertical-align: top;\n",
       "    }\n",
       "\n",
       "    .dataframe thead th {\n",
       "        text-align: right;\n",
       "    }\n",
       "</style>\n",
       "<table border=\"1\" class=\"dataframe\">\n",
       "  <thead>\n",
       "    <tr style=\"text-align: right;\">\n",
       "      <th></th>\n",
       "      <th>eng</th>\n",
       "      <th>hin</th>\n",
       "    </tr>\n",
       "  </thead>\n",
       "  <tbody>\n",
       "    <tr>\n",
       "      <th>1</th>\n",
       "      <td>I do not want to die.</td>\n",
       "      <td>मैं मरना नहीं चाहता.</td>\n",
       "    </tr>\n",
       "    <tr>\n",
       "      <th>2</th>\n",
       "      <td>It's the same country I think.</td>\n",
       "      <td>यह मुझे लगता है कि एक ही देश है.</td>\n",
       "    </tr>\n",
       "    <tr>\n",
       "      <th>3</th>\n",
       "      <td>Then they'll be crying like babies.</td>\n",
       "      <td>फिर ये नन्हें बच्चों की तरह रोएँगे।</td>\n",
       "    </tr>\n",
       "    <tr>\n",
       "      <th>4</th>\n",
       "      <td>- No, I need power up!</td>\n",
       "      <td>नहीं, मुझे पावर की जरुरत है !</td>\n",
       "    </tr>\n",
       "    <tr>\n",
       "      <th>5</th>\n",
       "      <td>I will not eat him.</td>\n",
       "      <td>मैं उसे नहीं खा जाएगा.</td>\n",
       "    </tr>\n",
       "  </tbody>\n",
       "</table>\n",
       "</div>"
      ],
      "text/plain": [
       "                                   eng                                  hin\n",
       "1                I do not want to die.                 मैं मरना नहीं चाहता.\n",
       "2       It's the same country I think.     यह मुझे लगता है कि एक ही देश है.\n",
       "3  Then they'll be crying like babies.  फिर ये नन्हें बच्चों की तरह रोएँगे।\n",
       "4               - No, I need power up!        नहीं, मुझे पावर की जरुरत है !\n",
       "5                  I will not eat him.               मैं उसे नहीं खा जाएगा."
      ]
     },
     "execution_count": 47,
     "metadata": {},
     "output_type": "execute_result"
    }
   ],
   "source": [
    "df.head()"
   ]
  },
  {
   "cell_type": "code",
   "execution_count": 48,
   "metadata": {},
   "outputs": [],
   "source": [
    "df.to_csv('cleaned_data.csv', sep='\\t')\n"
   ]
  },
  {
   "cell_type": "code",
   "execution_count": 49,
   "metadata": {},
   "outputs": [
    {
     "data": {
      "text/html": [
       "        <script type=\"text/javascript\">\n",
       "        window.PlotlyConfig = {MathJaxConfig: 'local'};\n",
       "        if (window.MathJax) {MathJax.Hub.Config({SVG: {font: \"STIX-Web\"}});}\n",
       "        if (typeof require !== 'undefined') {\n",
       "        require.undef(\"plotly\");\n",
       "        requirejs.config({\n",
       "            paths: {\n",
       "                'plotly': ['https://cdn.plot.ly/plotly-latest.min']\n",
       "            }\n",
       "        });\n",
       "        require(['plotly'], function(Plotly) {\n",
       "            window._Plotly = Plotly;\n",
       "        });\n",
       "        }\n",
       "        </script>\n",
       "        "
      ]
     },
     "metadata": {},
     "output_type": "display_data"
    }
   ],
   "source": [
    "# Importing necessary modules\n",
    "import tensorflow as tf\n",
    "tf.enable_eager_execution()\n",
    "import matplotlib.pyplot as plt\n",
    "from sklearn.model_selection import train_test_split\n",
    "import unicodedata\n",
    "import re\n",
    "import numpy as np\n",
    "import os\n",
    "import time\n",
    "import string\n",
    "from chart_studio.plotly import plot, iplot\n",
    "import plotly\n",
    "import chart_studio.plotly as py\n",
    "from plotly.offline import init_notebook_mode, iplot\n",
    "plotly.offline.init_notebook_mode(connected=True)\n",
    "import plotly.graph_objs as go"
   ]
  },
  {
   "cell_type": "code",
   "execution_count": 50,
   "metadata": {},
   "outputs": [],
   "source": [
    "# Providing location of input data\n",
    "file_path = 'cleaned_data.txt'"
   ]
  },
  {
   "cell_type": "code",
   "execution_count": 51,
   "metadata": {},
   "outputs": [
    {
     "data": {
      "text/plain": [
       "['3258\\tTeach me? Oh, no!\\tमुझे सिखाने के लिए?',\n",
       " '3259\\tHe deserves to know.\\tहकदार करने के लिए पता है.',\n",
       " '3260\\tI was just getting to the ice cream.\\tमैं सिर्फ आइसक्रीम के लिए जा रहा था.',\n",
       " \"3261\\t-First off, I'm a big fan.\\t- सबसे पहले, मैं एक बड़ा प्रशंसक रहा हूँ।\",\n",
       " '3262\\tShiva will be born as someone who helps him.\\tशिव कोई है जो उसे मदद करता है के रूप में पैदा हो जाएगा.',\n",
       " '3263\\tHas my good time begun?\\tमेरा अच्छा समय शायद शुरू हो गया है?',\n",
       " '3264\\tYeah, for the minute.\\tहां, कुछ पल के लिए।',\n",
       " '3265\\tWould you read it to me, please?\\tक्या तुम कृपया मुझे यह पढ़कर सुनाओगी?',\n",
       " \"3266\\tIt's not going to kill me.\\tयह मुझे मारने के लिए नहीं जा रहा है.\",\n",
       " '3267\\tOkay, take care buddy.\\tठीक है, ध्यान दोस्त ले.']"
      ]
     },
     "execution_count": 51,
     "metadata": {},
     "output_type": "execute_result"
    }
   ],
   "source": [
    "# Opening file, reading it and delimiting it with tabs\n",
    "lines = open(file_path, encoding='UTF-8').read().strip().split('\\n')\n",
    "lines[3000:3010]"
   ]
  },
  {
   "cell_type": "code",
   "execution_count": 52,
   "metadata": {},
   "outputs": [],
   "source": [
    "# Performing basic cleanup\n",
    "exclude = set(string.punctuation) # Set of all special characters\n",
    "remove_digits = str.maketrans('', '', string.digits) # Set of all digits"
   ]
  },
  {
   "cell_type": "code",
   "execution_count": 53,
   "metadata": {},
   "outputs": [],
   "source": [
    "# Function to preprocess English sentences in file\n",
    "def preprocess_eng_sentence(sent):\n",
    "    sent = sent.lower() # lower casing\n",
    "    sent = re.sub(\"'\", '', sent) # remove the quotation marks if any\n",
    "    sent = ''.join(ch for ch in sent if ch not in exclude)\n",
    "    sent = sent.translate(remove_digits) # remove the digits\n",
    "    sent = sent.strip()\n",
    "    sent = re.sub(\" +\", \" \", sent) # remove extra spaces\n",
    "    sent = '<start> ' + sent + ' <end>' # add <start> and <end> tokens\n",
    "    return sent"
   ]
  },
  {
   "cell_type": "code",
   "execution_count": 54,
   "metadata": {},
   "outputs": [],
   "source": [
    "# Function to preprocess Hindi sentences in file\n",
    "def preprocess_hin_sentence(sent):\n",
    "    sent = re.sub(\"'\", '', sent) # remove the quotation marks if any\n",
    "    sent = ''.join(ch for ch in sent if ch not in exclude)\n",
    "    sent = re.sub(\"[२३०८१५७९४६]\", \"\", sent) # remove the digits\n",
    "    sent = sent.strip()\n",
    "    sent = re.sub(\" +\", \" \", sent) # remove extra spaces\n",
    "    sent = '<start> ' + sent + ' <end>' # add <start> and <end> tokens\n",
    "    return sent"
   ]
  },
  {
   "cell_type": "code",
   "execution_count": 55,
   "metadata": {},
   "outputs": [
    {
     "data": {
      "text/plain": [
       "[['<start> teach me oh no <end>', '<start> मुझे सिखाने के लिए <end>'],\n",
       " ['<start> he deserves to know <end>',\n",
       "  '<start> हकदार करने के लिए पता है <end>'],\n",
       " ['<start> i was just getting to the ice cream <end>',\n",
       "  '<start> मैं सिर्फ आइसक्रीम के लिए जा रहा था <end>'],\n",
       " ['<start> first off im a big fan <end>',\n",
       "  '<start> सबसे पहले मैं एक बड़ा प्रशंसक रहा हूँ। <end>'],\n",
       " ['<start> shiva will be born as someone who helps him <end>',\n",
       "  '<start> शिव कोई है जो उसे मदद करता है के रूप में पैदा हो जाएगा <end>'],\n",
       " ['<start> has my good time begun <end>',\n",
       "  '<start> मेरा अच्छा समय शायद शुरू हो गया है <end>'],\n",
       " ['<start> yeah for the minute <end>', '<start> हां कुछ पल के लिए। <end>'],\n",
       " ['<start> would you read it to me please <end>',\n",
       "  '<start> क्या तुम कृपया मुझे यह पढ़कर सुनाओगी <end>'],\n",
       " ['<start> its not going to kill me <end>',\n",
       "  '<start> यह मुझे मारने के लिए नहीं जा रहा है <end>'],\n",
       " ['<start> okay take care buddy <end>', '<start> ठीक है ध्यान दोस्त ले <end>']]"
      ]
     },
     "execution_count": 55,
     "metadata": {},
     "output_type": "execute_result"
    }
   ],
   "source": [
    "# Generate pairs of cleaned English and Hindi sentences\n",
    "sent_pairs = []\n",
    "for line in lines:\n",
    "    sent_pair = []\n",
    "    index, eng, hin = line.split('\\t')\n",
    "    eng = preprocess_eng_sentence(eng)\n",
    "    sent_pair.append(eng)\n",
    "    hin = preprocess_hin_sentence(hin)\n",
    "    sent_pair.append(hin)\n",
    "    sent_pairs.append(sent_pair)\n",
    "sent_pairs[3000:3010]"
   ]
  },
  {
   "cell_type": "code",
   "execution_count": 56,
   "metadata": {},
   "outputs": [],
   "source": [
    "# This class creates a word -> index mapping (e.g,. \"dad\" -> 5) and vice-versa \n",
    "# (e.g., 5 -> \"dad\") for each language,\n",
    "class LanguageIndex():\n",
    "    def __init__(self, lang):\n",
    "        self.lang = lang\n",
    "        self.word2idx = {}\n",
    "        self.idx2word = {}\n",
    "        self.vocab = set()\n",
    "        self.create_index()\n",
    "\n",
    "    def create_index(self):\n",
    "        for phrase in self.lang:\n",
    "            self.vocab.update(phrase.split(' '))\n",
    "        self.vocab = sorted(self.vocab)\n",
    "        self.word2idx['<pad>'] = 0\n",
    "        for index, word in enumerate(self.vocab):\n",
    "            self.word2idx[word] = index + 1\n",
    "        for word, index in self.word2idx.items():\n",
    "            self.idx2word[index] = word"
   ]
  },
  {
   "cell_type": "code",
   "execution_count": 57,
   "metadata": {},
   "outputs": [],
   "source": [
    "def max_length(tensor):\n",
    "    return max(len(t) for t in tensor)"
   ]
  },
  {
   "cell_type": "code",
   "execution_count": 58,
   "metadata": {},
   "outputs": [],
   "source": [
    "# Using the tf.data input pipeline to create dataset\n",
    "# and then load it in mini-batches\n",
    "def load_dataset(pairs, num_examples):\n",
    "    # pairs => already created cleaned input, output pairs\n",
    "    # index language using the class defined above    \n",
    "    inp_lang = LanguageIndex(en for en, hi in pairs)\n",
    "    targ_lang = LanguageIndex(hi for en, hi in pairs)\n",
    "    # Vectorize the input and target languages\n",
    "    # English sentences\n",
    "    input_tensor = [[inp_lang.word2idx[s] for s in en.split(' ')] for en, hi in pairs]\n",
    "    # Hindi sentences\n",
    "    target_tensor = [[targ_lang.word2idx[s] for s in hi.split(' ')] for en, hi in pairs]\n",
    "    # Calculate max_length of input and output tensor\n",
    "    # Here, we'll set those to the longest sentence in the dataset\n",
    "    max_length_inp, max_length_tar = max_length(input_tensor), max_length(target_tensor)\n",
    "    # Padding the input and output tensor to the maximum length\n",
    "    input_tensor = tf.keras.preprocessing.sequence.pad_sequences(input_tensor, \n",
    "                                                                 maxlen=max_length_inp,\n",
    "                                                                 padding='post')\n",
    "    target_tensor = tf.keras.preprocessing.sequence.pad_sequences(target_tensor, \n",
    "                                                                  maxlen=max_length_tar, \n",
    "                                                                  padding='post')\n",
    "    return input_tensor, target_tensor, inp_lang, targ_lang, max_length_inp, max_length_tar"
   ]
  },
  {
   "cell_type": "code",
   "execution_count": 59,
   "metadata": {},
   "outputs": [],
   "source": [
    "input_tensor, target_tensor, inp_lang, targ_lang, max_length_inp, max_length_targ = load_dataset(sent_pairs, len(lines))"
   ]
  },
  {
   "cell_type": "code",
   "execution_count": 60,
   "metadata": {},
   "outputs": [
    {
     "data": {
      "text/plain": [
       "(62780, 62780, 15695, 15695)"
      ]
     },
     "execution_count": 60,
     "metadata": {},
     "output_type": "execute_result"
    }
   ],
   "source": [
    "# Creating training and validation sets using an 80-20 split\n",
    "input_tensor_train, input_tensor_val, target_tensor_train, target_tensor_val = train_test_split(input_tensor,target_tensor, test_size=0.2,\n",
    "                                                          random_state = 101)\n",
    "# Show length\n",
    "len(input_tensor_train), len(target_tensor_train), len(input_tensor_val), len(target_tensor_val)"
   ]
  },
  {
   "cell_type": "code",
   "execution_count": 61,
   "metadata": {},
   "outputs": [
    {
     "name": "stdout",
     "output_type": "stream",
     "text": [
      "Yes\n"
     ]
    }
   ],
   "source": [
    "    if tf.test.is_gpu_available():\n",
    "        print(\"Yes\")"
   ]
  },
  {
   "cell_type": "code",
   "execution_count": 62,
   "metadata": {},
   "outputs": [],
   "source": [
    "BUFFER_SIZE = len(input_tensor_train)\n",
    "BATCH_SIZE = 8\n",
    "N_BATCH = BUFFER_SIZE//BATCH_SIZE\n",
    "embedding_dim = 256\n",
    "units = 1024\n",
    "vocab_inp_size = len(inp_lang.word2idx)\n",
    "vocab_tar_size = len(targ_lang.word2idx)\n",
    "dataset = tf.data.Dataset.from_tensor_slices((input_tensor_train,\n",
    "                                              target_tensor_train)).shuffle(BUFFER_SIZE)\n",
    "dataset = dataset.batch(BATCH_SIZE, drop_remainder=True)"
   ]
  },
  {
   "cell_type": "code",
   "execution_count": 63,
   "metadata": {},
   "outputs": [],
   "source": [
    "def gru(units):\n",
    "    if tf.test.is_gpu_available():\n",
    "        return tf.keras.layers.CuDNNGRU(units, \n",
    "                                        return_sequences=True, \n",
    "                                        return_state=True, \n",
    "                                        recurrent_initializer='glorot_uniform')\n",
    "    else:\n",
    "        return tf.keras.layers.GRU(units, \n",
    "                                   return_sequences=True, \n",
    "                                   return_state=True, \n",
    "                                   recurrent_activation='sigmoid', \n",
    "                                   recurrent_initializer='glorot_uniform')"
   ]
  },
  {
   "cell_type": "code",
   "execution_count": 64,
   "metadata": {},
   "outputs": [],
   "source": [
    "class Encoder(tf.keras.Model):\n",
    "    def __init__(self, vocab_size, embedding_dim, enc_units, batch_sz):\n",
    "        super(Encoder, self).__init__()\n",
    "        self.batch_sz = batch_sz\n",
    "        self.enc_units = enc_units\n",
    "        self.embedding = tf.keras.layers.Embedding(vocab_size, embedding_dim)\n",
    "        self.gru = gru(self.enc_units)\n",
    "        \n",
    "    def call(self, x, hidden):\n",
    "        x = self.embedding(x)\n",
    "        output, state = self.gru(x, initial_state = hidden)        \n",
    "        return output, state\n",
    "    \n",
    "    def initialize_hidden_state(self):\n",
    "        return tf.zeros((self.batch_sz, self.enc_units))"
   ]
  },
  {
   "cell_type": "code",
   "execution_count": 65,
   "metadata": {},
   "outputs": [],
   "source": [
    "class Decoder(tf.keras.Model):\n",
    "    def __init__(self, vocab_size, embedding_dim, dec_units, batch_sz):\n",
    "        super(Decoder, self).__init__()\n",
    "        self.batch_sz = batch_sz\n",
    "        self.dec_units = dec_units\n",
    "        self.embedding = tf.keras.layers.Embedding(vocab_size, embedding_dim)\n",
    "        self.gru = gru(self.dec_units)\n",
    "        self.fc = tf.keras.layers.Dense(vocab_size)\n",
    "        # used for attention\n",
    "        self.W1 = tf.keras.layers.Dense(self.dec_units)\n",
    "        self.W2 = tf.keras.layers.Dense(self.dec_units)\n",
    "        self.V = tf.keras.layers.Dense(1)  \n",
    "    def call(self, x, hidden, enc_output):\n",
    "        # enc_output shape == (batch_size, max_length, hidden_size)\n",
    "        # hidden shape == (batch_size, hidden size)\n",
    "        # hidden_with_time_axis shape == (batch_size, 1, hidden size)\n",
    "        # we are doing this to perform addition to calculate the score\n",
    "        hidden_with_time_axis = tf.expand_dims(hidden, 1)\n",
    "        # score shape == (batch_size, max_length, 1)\n",
    "        # we get 1 at the last axis because we are applying tanh(FC(EO) + FC(H)) to self.V\n",
    "        score = self.V(tf.nn.tanh(self.W1(enc_output) + self.W2(hidden_with_time_axis)))\n",
    "        # attention_weights shape == (batch_size, max_length, 1)\n",
    "        attention_weights = tf.nn.softmax(score, axis=1)\n",
    "        # context_vector shape after sum == (batch_size, hidden_size)\n",
    "        context_vector = attention_weights * enc_output\n",
    "        context_vector = tf.reduce_sum(context_vector, axis=1)\n",
    "        # x shape after passing through embedding == (batch_size, 1, embedding_dim)\n",
    "        x = self.embedding(x)\n",
    "        # x shape after concatenation == (batch_size, 1, embedding_dim + hidden_size)\n",
    "        x = tf.concat([tf.expand_dims(context_vector, 1), x], axis=-1)\n",
    "        # passing the concatenated vector to the GRU\n",
    "        output, state = self.gru(x)\n",
    "        # output shape == (batch_size * 1, hidden_size)\n",
    "        output = tf.reshape(output, (-1, output.shape[2]))\n",
    "        # output shape == (batch_size * 1, vocab)\n",
    "        x = self.fc(output)\n",
    "        return x, state, attention_weights\n",
    "    def initialize_hidden_state(self):\n",
    "        return tf.zeros((self.batch_sz, self.dec_units))"
   ]
  },
  {
   "cell_type": "code",
   "execution_count": 66,
   "metadata": {},
   "outputs": [],
   "source": [
    "# Defining Encoder and Decoder\n",
    "encoder = Encoder(vocab_inp_size, embedding_dim, units, BATCH_SIZE)\n",
    "decoder = Decoder(vocab_tar_size, embedding_dim, units, BATCH_SIZE)"
   ]
  },
  {
   "cell_type": "code",
   "execution_count": 67,
   "metadata": {},
   "outputs": [],
   "source": [
    "optimizer = tf.train.AdamOptimizer()\n",
    "\n",
    "def loss_function(real, pred):\n",
    "    mask = 1 - np.equal(real, 0)\n",
    "    loss_ = tf.nn.sparse_softmax_cross_entropy_with_logits(labels=real, logits=pred) * mask\n",
    "    return tf.reduce_mean(loss_)"
   ]
  },
  {
   "cell_type": "code",
   "execution_count": 68,
   "metadata": {},
   "outputs": [],
   "source": [
    "checkpoint_dir = './training_checkpoints'\n",
    "checkpoint_prefix = os.path.join(checkpoint_dir, \"ckpt\")\n",
    "checkpoint = tf.train.Checkpoint(optimizer=optimizer,\n",
    "                                 encoder=encoder,\n",
    "                                 decoder=decoder)"
   ]
  },
  {
   "cell_type": "code",
   "execution_count": 69,
   "metadata": {},
   "outputs": [
    {
     "name": "stdout",
     "output_type": "stream",
     "text": [
      "Epoch 1 Batch 0 Loss 0.9065\n",
      "Epoch 1 Batch 100 Loss 1.2213\n",
      "Epoch 1 Batch 200 Loss 0.7552\n",
      "Epoch 1 Batch 300 Loss 0.9301\n",
      "Epoch 1 Batch 400 Loss 0.5283\n",
      "Epoch 1 Batch 500 Loss 0.7284\n",
      "Epoch 1 Batch 600 Loss 0.7449\n",
      "Epoch 1 Batch 700 Loss 0.9785\n",
      "Epoch 1 Batch 800 Loss 0.5737\n",
      "Epoch 1 Batch 900 Loss 0.8370\n",
      "Epoch 1 Batch 1000 Loss 0.6845\n",
      "Epoch 1 Batch 1100 Loss 0.6943\n",
      "Epoch 1 Batch 1200 Loss 0.7626\n",
      "Epoch 1 Batch 1300 Loss 0.7437\n",
      "Epoch 1 Batch 1400 Loss 0.7046\n",
      "Epoch 1 Batch 1500 Loss 0.5377\n",
      "Epoch 1 Batch 1600 Loss 0.5774\n",
      "Epoch 1 Batch 1700 Loss 0.6236\n",
      "Epoch 1 Batch 1800 Loss 0.4947\n",
      "Epoch 1 Batch 1900 Loss 0.4772\n",
      "Epoch 1 Batch 2000 Loss 0.8902\n",
      "Epoch 1 Batch 2100 Loss 0.6045\n",
      "Epoch 1 Batch 2200 Loss 0.4486\n",
      "Epoch 1 Batch 2300 Loss 0.6592\n",
      "Epoch 1 Batch 2400 Loss 0.4383\n",
      "Epoch 1 Batch 2500 Loss 0.6742\n",
      "Epoch 1 Batch 2600 Loss 0.5375\n",
      "Epoch 1 Batch 2700 Loss 0.5837\n",
      "Epoch 1 Batch 2800 Loss 0.8184\n",
      "Epoch 1 Batch 2900 Loss 0.6738\n",
      "Epoch 1 Batch 3000 Loss 0.6010\n",
      "Epoch 1 Batch 3100 Loss 0.7166\n",
      "Epoch 1 Batch 3200 Loss 0.5951\n",
      "Epoch 1 Batch 3300 Loss 0.7243\n",
      "Epoch 1 Batch 3400 Loss 0.5547\n",
      "Epoch 1 Batch 3500 Loss 0.8259\n",
      "Epoch 1 Batch 3600 Loss 0.4729\n",
      "Epoch 1 Batch 3700 Loss 0.6780\n",
      "Epoch 1 Batch 3800 Loss 0.6381\n",
      "Epoch 1 Batch 3900 Loss 0.6312\n",
      "Epoch 1 Batch 4000 Loss 0.5332\n",
      "Epoch 1 Batch 4100 Loss 0.9339\n",
      "Epoch 1 Batch 4200 Loss 0.5294\n",
      "Epoch 1 Batch 4300 Loss 0.4298\n",
      "Epoch 1 Batch 4400 Loss 0.4381\n",
      "Epoch 1 Batch 4500 Loss 0.6522\n",
      "Epoch 1 Batch 4600 Loss 1.0877\n",
      "Epoch 1 Batch 4700 Loss 0.8076\n",
      "Epoch 1 Batch 4800 Loss 0.7929\n",
      "Epoch 1 Batch 4900 Loss 0.6858\n",
      "Epoch 1 Batch 5000 Loss 0.4694\n",
      "Epoch 1 Batch 5100 Loss 0.5341\n",
      "Epoch 1 Batch 5200 Loss 0.9201\n",
      "Epoch 1 Batch 5300 Loss 0.5246\n",
      "Epoch 1 Batch 5400 Loss 0.7496\n",
      "Epoch 1 Batch 5500 Loss 0.4711\n",
      "Epoch 1 Batch 5600 Loss 0.6425\n",
      "Epoch 1 Batch 5700 Loss 0.5657\n",
      "Epoch 1 Batch 5800 Loss 0.8112\n",
      "Epoch 1 Batch 5900 Loss 0.5228\n",
      "Epoch 1 Batch 6000 Loss 0.6331\n",
      "Epoch 1 Batch 6100 Loss 0.7275\n",
      "Epoch 1 Batch 6200 Loss 0.8611\n",
      "Epoch 1 Batch 6300 Loss 0.7281\n",
      "Epoch 1 Batch 6400 Loss 0.4675\n",
      "Epoch 1 Batch 6500 Loss 0.6850\n",
      "Epoch 1 Batch 6600 Loss 0.7445\n",
      "Epoch 1 Batch 6700 Loss 0.4706\n",
      "Epoch 1 Batch 6800 Loss 0.3878\n",
      "Epoch 1 Batch 6900 Loss 0.4013\n",
      "Epoch 1 Batch 7000 Loss 0.6595\n",
      "Epoch 1 Batch 7100 Loss 0.4225\n",
      "Epoch 1 Batch 7200 Loss 0.5723\n",
      "Epoch 1 Batch 7300 Loss 0.6283\n",
      "Epoch 1 Batch 7400 Loss 0.5642\n",
      "Epoch 1 Batch 7500 Loss 0.4468\n",
      "Epoch 1 Batch 7600 Loss 0.7015\n",
      "Epoch 1 Batch 7700 Loss 0.2369\n",
      "Epoch 1 Batch 7800 Loss 0.5000\n",
      "Epoch 1 Loss 0.6428\n",
      "Time taken for 1 epoch 9122.240404605865 sec\n",
      "\n",
      "Epoch 2 Batch 0 Loss 0.3801\n",
      "Epoch 2 Batch 100 Loss 0.4092\n",
      "Epoch 2 Batch 200 Loss 0.5808\n",
      "Epoch 2 Batch 300 Loss 0.3374\n",
      "Epoch 2 Batch 400 Loss 0.4636\n",
      "Epoch 2 Batch 500 Loss 0.3616\n",
      "Epoch 2 Batch 600 Loss 0.4969\n",
      "Epoch 2 Batch 700 Loss 0.4769\n",
      "Epoch 2 Batch 800 Loss 0.5985\n",
      "Epoch 2 Batch 900 Loss 0.4155\n",
      "Epoch 2 Batch 1000 Loss 0.5834\n",
      "Epoch 2 Batch 1100 Loss 0.4558\n",
      "Epoch 2 Batch 1200 Loss 0.4517\n",
      "Epoch 2 Batch 1300 Loss 0.3102\n",
      "Epoch 2 Batch 1400 Loss 0.6810\n",
      "Epoch 2 Batch 1500 Loss 0.5683\n",
      "Epoch 2 Batch 1600 Loss 0.5311\n",
      "Epoch 2 Batch 1700 Loss 0.3559\n",
      "Epoch 2 Batch 1800 Loss 0.4885\n",
      "Epoch 2 Batch 1900 Loss 0.8024\n",
      "Epoch 2 Batch 2000 Loss 0.8043\n",
      "Epoch 2 Batch 2100 Loss 0.6003\n",
      "Epoch 2 Batch 2200 Loss 0.4034\n",
      "Epoch 2 Batch 2300 Loss 0.4389\n",
      "Epoch 2 Batch 2400 Loss 0.5167\n",
      "Epoch 2 Batch 2500 Loss 0.7172\n",
      "Epoch 2 Batch 2600 Loss 0.5477\n",
      "Epoch 2 Batch 2700 Loss 0.6910\n",
      "Epoch 2 Batch 2800 Loss 0.8107\n",
      "Epoch 2 Batch 2900 Loss 0.4519\n",
      "Epoch 2 Batch 3000 Loss 0.3581\n",
      "Epoch 2 Batch 3100 Loss 0.2768\n",
      "Epoch 2 Batch 3200 Loss 0.7661\n",
      "Epoch 2 Batch 3300 Loss 0.5863\n",
      "Epoch 2 Batch 3400 Loss 0.5322\n",
      "Epoch 2 Batch 3500 Loss 0.5793\n",
      "Epoch 2 Batch 3600 Loss 0.5201\n",
      "Epoch 2 Batch 3700 Loss 0.4416\n",
      "Epoch 2 Batch 3800 Loss 0.5311\n",
      "Epoch 2 Batch 3900 Loss 0.7281\n",
      "Epoch 2 Batch 4000 Loss 0.4689\n",
      "Epoch 2 Batch 4100 Loss 0.6447\n",
      "Epoch 2 Batch 4200 Loss 1.0172\n",
      "Epoch 2 Batch 4300 Loss 0.4739\n",
      "Epoch 2 Batch 4400 Loss 0.6519\n",
      "Epoch 2 Batch 4500 Loss 0.4079\n",
      "Epoch 2 Batch 4600 Loss 0.3936\n",
      "Epoch 2 Batch 4700 Loss 0.5498\n",
      "Epoch 2 Batch 4800 Loss 0.2566\n",
      "Epoch 2 Batch 4900 Loss 0.6592\n",
      "Epoch 2 Batch 5000 Loss 0.7408\n",
      "Epoch 2 Batch 5100 Loss 0.7442\n",
      "Epoch 2 Batch 5200 Loss 0.4307\n",
      "Epoch 2 Batch 5300 Loss 0.4401\n",
      "Epoch 2 Batch 5400 Loss 0.5423\n",
      "Epoch 2 Batch 5500 Loss 0.6869\n",
      "Epoch 2 Batch 5600 Loss 0.3462\n",
      "Epoch 2 Batch 5700 Loss 0.6741\n",
      "Epoch 2 Batch 5800 Loss 0.4704\n",
      "Epoch 2 Batch 5900 Loss 0.5812\n",
      "Epoch 2 Batch 6000 Loss 0.3183\n",
      "Epoch 2 Batch 6100 Loss 0.4192\n",
      "Epoch 2 Batch 6200 Loss 0.5005\n",
      "Epoch 2 Batch 6300 Loss 0.4882\n",
      "Epoch 2 Batch 6400 Loss 0.5626\n",
      "Epoch 2 Batch 6500 Loss 0.4154\n",
      "Epoch 2 Batch 6600 Loss 0.8110\n",
      "Epoch 2 Batch 6700 Loss 0.4370\n",
      "Epoch 2 Batch 6800 Loss 0.3017\n",
      "Epoch 2 Batch 6900 Loss 0.4580\n",
      "Epoch 2 Batch 7000 Loss 0.4441\n",
      "Epoch 2 Batch 7100 Loss 0.4613\n",
      "Epoch 2 Batch 7200 Loss 0.7833\n",
      "Epoch 2 Batch 7300 Loss 0.3611\n",
      "Epoch 2 Batch 7400 Loss 0.4463\n",
      "Epoch 2 Batch 7500 Loss 0.5538\n",
      "Epoch 2 Batch 7600 Loss 0.3104\n",
      "Epoch 2 Batch 7700 Loss 0.3443\n",
      "Epoch 2 Batch 7800 Loss 0.3501\n",
      "Epoch 2 Loss 0.4872\n",
      "Time taken for 1 epoch 8935.399635076523 sec\n",
      "\n",
      "Epoch 3 Batch 0 Loss 0.3644\n",
      "Epoch 3 Batch 100 Loss 0.4170\n",
      "Epoch 3 Batch 200 Loss 0.4733\n",
      "Epoch 3 Batch 300 Loss 0.3111\n",
      "Epoch 3 Batch 400 Loss 0.3490\n",
      "Epoch 3 Batch 500 Loss 0.4502\n",
      "Epoch 3 Batch 600 Loss 0.2924\n",
      "Epoch 3 Batch 700 Loss 0.5648\n",
      "Epoch 3 Batch 800 Loss 0.3167\n",
      "Epoch 3 Batch 900 Loss 0.5559\n",
      "Epoch 3 Batch 1000 Loss 0.3055\n",
      "Epoch 3 Batch 1100 Loss 0.3166\n",
      "Epoch 3 Batch 1200 Loss 0.6030\n",
      "Epoch 3 Batch 1300 Loss 0.3849\n",
      "Epoch 3 Batch 1400 Loss 0.3988\n",
      "Epoch 3 Batch 1500 Loss 0.4462\n",
      "Epoch 3 Batch 1600 Loss 0.3977\n",
      "Epoch 3 Batch 1700 Loss 0.3097\n",
      "Epoch 3 Batch 1800 Loss 0.3044\n",
      "Epoch 3 Batch 1900 Loss 0.2676\n",
      "Epoch 3 Batch 2000 Loss 0.3201\n",
      "Epoch 3 Batch 2100 Loss 0.4654\n",
      "Epoch 3 Batch 2200 Loss 0.3113\n",
      "Epoch 3 Batch 2300 Loss 0.2855\n",
      "Epoch 3 Batch 2400 Loss 0.4133\n",
      "Epoch 3 Batch 2500 Loss 0.2430\n",
      "Epoch 3 Batch 2600 Loss 0.4077\n",
      "Epoch 3 Batch 2700 Loss 0.5608\n",
      "Epoch 3 Batch 2800 Loss 0.3324\n",
      "Epoch 3 Batch 2900 Loss 0.7538\n",
      "Epoch 3 Batch 3000 Loss 0.5614\n",
      "Epoch 3 Batch 3100 Loss 0.2158\n",
      "Epoch 3 Batch 3200 Loss 0.3015\n",
      "Epoch 3 Batch 3300 Loss 0.5557\n",
      "Epoch 3 Batch 3400 Loss 0.6183\n",
      "Epoch 3 Batch 3500 Loss 0.3369\n",
      "Epoch 3 Batch 3600 Loss 0.3649\n",
      "Epoch 3 Batch 3700 Loss 0.2612\n",
      "Epoch 3 Batch 3800 Loss 0.3896\n",
      "Epoch 3 Batch 3900 Loss 0.5272\n",
      "Epoch 3 Batch 4000 Loss 0.4046\n",
      "Epoch 3 Batch 4100 Loss 0.4590\n",
      "Epoch 3 Batch 4200 Loss 0.7652\n",
      "Epoch 3 Batch 4300 Loss 0.3342\n",
      "Epoch 3 Batch 4400 Loss 0.4014\n",
      "Epoch 3 Batch 4500 Loss 0.3840\n",
      "Epoch 3 Batch 4600 Loss 0.5962\n",
      "Epoch 3 Batch 4700 Loss 0.3515\n",
      "Epoch 3 Batch 4800 Loss 0.3938\n",
      "Epoch 3 Batch 4900 Loss 0.4181\n",
      "Epoch 3 Batch 5000 Loss 0.4079\n",
      "Epoch 3 Batch 5100 Loss 0.4557\n",
      "Epoch 3 Batch 5200 Loss 0.3439\n",
      "Epoch 3 Batch 5300 Loss 0.2642\n",
      "Epoch 3 Batch 5400 Loss 0.3343\n",
      "Epoch 3 Batch 5500 Loss 0.6347\n",
      "Epoch 3 Batch 5600 Loss 0.5525\n",
      "Epoch 3 Batch 5700 Loss 0.4206\n",
      "Epoch 3 Batch 5800 Loss 0.3212\n",
      "Epoch 3 Batch 5900 Loss 0.2704\n",
      "Epoch 3 Batch 6000 Loss 0.5214\n",
      "Epoch 3 Batch 6100 Loss 0.3545\n",
      "Epoch 3 Batch 6200 Loss 0.2550\n",
      "Epoch 3 Batch 6300 Loss 0.4077\n",
      "Epoch 3 Batch 6400 Loss 0.2597\n",
      "Epoch 3 Batch 6500 Loss 0.2895\n",
      "Epoch 3 Batch 6600 Loss 0.5174\n",
      "Epoch 3 Batch 6700 Loss 0.7100\n",
      "Epoch 3 Batch 6800 Loss 0.3386\n",
      "Epoch 3 Batch 6900 Loss 0.4197\n",
      "Epoch 3 Batch 7000 Loss 0.4821\n",
      "Epoch 3 Batch 7100 Loss 0.2616\n",
      "Epoch 3 Batch 7200 Loss 0.3950\n",
      "Epoch 3 Batch 7300 Loss 0.3911\n",
      "Epoch 3 Batch 7400 Loss 0.5464\n",
      "Epoch 3 Batch 7500 Loss 0.3346\n",
      "Epoch 3 Batch 7600 Loss 0.3490\n",
      "Epoch 3 Batch 7700 Loss 0.3712\n",
      "Epoch 3 Batch 7800 Loss 0.2937\n",
      "Epoch 3 Loss 0.3919\n",
      "Time taken for 1 epoch 8909.995745897293 sec\n",
      "\n",
      "Epoch 4 Batch 0 Loss 0.2403\n",
      "Epoch 4 Batch 100 Loss 0.3535\n",
      "Epoch 4 Batch 200 Loss 0.1446\n",
      "Epoch 4 Batch 300 Loss 0.2367\n",
      "Epoch 4 Batch 400 Loss 0.4403\n",
      "Epoch 4 Batch 500 Loss 0.2403\n",
      "Epoch 4 Batch 600 Loss 0.3759\n",
      "Epoch 4 Batch 700 Loss 0.2843\n",
      "Epoch 4 Batch 800 Loss 0.3253\n",
      "Epoch 4 Batch 900 Loss 0.2545\n",
      "Epoch 4 Batch 1000 Loss 0.2374\n",
      "Epoch 4 Batch 1100 Loss 0.2101\n",
      "Epoch 4 Batch 1200 Loss 0.2665\n",
      "Epoch 4 Batch 1300 Loss 0.2094\n",
      "Epoch 4 Batch 1400 Loss 0.3279\n",
      "Epoch 4 Batch 1500 Loss 0.3706\n",
      "Epoch 4 Batch 1600 Loss 0.2895\n",
      "Epoch 4 Batch 1700 Loss 0.1460\n",
      "Epoch 4 Batch 1800 Loss 0.2506\n",
      "Epoch 4 Batch 1900 Loss 0.2365\n",
      "Epoch 4 Batch 2000 Loss 0.3452\n",
      "Epoch 4 Batch 2100 Loss 0.1688\n",
      "Epoch 4 Batch 2200 Loss 0.3030\n"
     ]
    },
    {
     "name": "stdout",
     "output_type": "stream",
     "text": [
      "Epoch 4 Batch 2300 Loss 0.3911\n",
      "Epoch 4 Batch 2400 Loss 0.2367\n",
      "Epoch 4 Batch 2500 Loss 0.3128\n",
      "Epoch 4 Batch 2600 Loss 0.1596\n",
      "Epoch 4 Batch 2700 Loss 0.6558\n",
      "Epoch 4 Batch 2800 Loss 0.4000\n",
      "Epoch 4 Batch 2900 Loss 0.2968\n",
      "Epoch 4 Batch 3000 Loss 0.3409\n",
      "Epoch 4 Batch 3100 Loss 0.4119\n",
      "Epoch 4 Batch 3200 Loss 0.3675\n",
      "Epoch 4 Batch 3300 Loss 0.6223\n",
      "Epoch 4 Batch 3400 Loss 0.2314\n",
      "Epoch 4 Batch 3500 Loss 0.1792\n",
      "Epoch 4 Batch 3600 Loss 0.4532\n",
      "Epoch 4 Batch 3700 Loss 0.3080\n",
      "Epoch 4 Batch 3800 Loss 0.2697\n",
      "Epoch 4 Batch 3900 Loss 0.3455\n",
      "Epoch 4 Batch 4000 Loss 0.3017\n",
      "Epoch 4 Batch 4100 Loss 0.2686\n",
      "Epoch 4 Batch 4200 Loss 0.3585\n",
      "Epoch 4 Batch 4300 Loss 0.1613\n",
      "Epoch 4 Batch 4400 Loss 0.4682\n",
      "Epoch 4 Batch 4500 Loss 0.2023\n",
      "Epoch 4 Batch 4600 Loss 0.3261\n",
      "Epoch 4 Batch 4700 Loss 0.5573\n",
      "Epoch 4 Batch 4800 Loss 0.2952\n",
      "Epoch 4 Batch 4900 Loss 0.1687\n",
      "Epoch 4 Batch 5000 Loss 0.3102\n",
      "Epoch 4 Batch 5100 Loss 0.4082\n",
      "Epoch 4 Batch 5200 Loss 0.1665\n",
      "Epoch 4 Batch 5300 Loss 0.2877\n",
      "Epoch 4 Batch 5400 Loss 0.5048\n",
      "Epoch 4 Batch 5500 Loss 0.3418\n",
      "Epoch 4 Batch 5600 Loss 0.1815\n",
      "Epoch 4 Batch 5700 Loss 0.2453\n",
      "Epoch 4 Batch 5800 Loss 0.2450\n",
      "Epoch 4 Batch 5900 Loss 0.2623\n",
      "Epoch 4 Batch 6000 Loss 0.1895\n",
      "Epoch 4 Batch 6100 Loss 0.2295\n",
      "Epoch 4 Batch 6200 Loss 0.3191\n",
      "Epoch 4 Batch 6300 Loss 0.2774\n",
      "Epoch 4 Batch 6400 Loss 0.3633\n",
      "Epoch 4 Batch 6500 Loss 0.3683\n",
      "Epoch 4 Batch 6600 Loss 0.4129\n",
      "Epoch 4 Batch 6700 Loss 0.2729\n",
      "Epoch 4 Batch 6800 Loss 0.2348\n",
      "Epoch 4 Batch 6900 Loss 0.2645\n",
      "Epoch 4 Batch 7000 Loss 0.4226\n",
      "Epoch 4 Batch 7100 Loss 0.3016\n",
      "Epoch 4 Batch 7200 Loss 0.3867\n",
      "Epoch 4 Batch 7300 Loss 0.2345\n",
      "Epoch 4 Batch 7400 Loss 0.3004\n",
      "Epoch 4 Batch 7500 Loss 0.4746\n",
      "Epoch 4 Batch 7600 Loss 0.4921\n",
      "Epoch 4 Batch 7700 Loss 0.2866\n",
      "Epoch 4 Batch 7800 Loss 0.2741\n",
      "Epoch 4 Loss 0.3090\n",
      "Time taken for 1 epoch 9103.155211687088 sec\n",
      "\n",
      "Epoch 5 Batch 0 Loss 0.2489\n",
      "Epoch 5 Batch 100 Loss 0.1742\n",
      "Epoch 5 Batch 200 Loss 0.1449\n",
      "Epoch 5 Batch 300 Loss 0.1095\n",
      "Epoch 5 Batch 400 Loss 0.1837\n",
      "Epoch 5 Batch 500 Loss 0.3079\n",
      "Epoch 5 Batch 600 Loss 0.3480\n",
      "Epoch 5 Batch 700 Loss 0.3137\n",
      "Epoch 5 Batch 800 Loss 0.2257\n",
      "Epoch 5 Batch 900 Loss 0.2449\n",
      "Epoch 5 Batch 1000 Loss 0.1513\n",
      "Epoch 5 Batch 1100 Loss 0.2391\n",
      "Epoch 5 Batch 1200 Loss 0.3080\n",
      "Epoch 5 Batch 1300 Loss 0.2369\n",
      "Epoch 5 Batch 1400 Loss 0.1373\n",
      "Epoch 5 Batch 1500 Loss 0.2486\n",
      "Epoch 5 Batch 1600 Loss 0.2192\n",
      "Epoch 5 Batch 1700 Loss 0.1905\n",
      "Epoch 5 Batch 1800 Loss 0.1052\n",
      "Epoch 5 Batch 1900 Loss 0.2119\n",
      "Epoch 5 Batch 2000 Loss 0.1691\n",
      "Epoch 5 Batch 2100 Loss 0.2996\n",
      "Epoch 5 Batch 2200 Loss 0.2694\n",
      "Epoch 5 Batch 2300 Loss 0.1399\n",
      "Epoch 5 Batch 2400 Loss 0.1768\n",
      "Epoch 5 Batch 2500 Loss 0.3032\n",
      "Epoch 5 Batch 2600 Loss 0.2730\n",
      "Epoch 5 Batch 2700 Loss 0.1441\n",
      "Epoch 5 Batch 2800 Loss 0.1859\n",
      "Epoch 5 Batch 2900 Loss 0.1528\n",
      "Epoch 5 Batch 3000 Loss 0.4117\n",
      "Epoch 5 Batch 3100 Loss 0.3135\n",
      "Epoch 5 Batch 3200 Loss 0.2148\n",
      "Epoch 5 Batch 3300 Loss 0.3522\n",
      "Epoch 5 Batch 3400 Loss 0.1254\n",
      "Epoch 5 Batch 3500 Loss 0.1935\n",
      "Epoch 5 Batch 3600 Loss 0.3609\n",
      "Epoch 5 Batch 3700 Loss 0.3397\n",
      "Epoch 5 Batch 3800 Loss 0.1757\n",
      "Epoch 5 Batch 3900 Loss 0.1887\n",
      "Epoch 5 Batch 4000 Loss 0.2546\n",
      "Epoch 5 Batch 4100 Loss 0.2706\n",
      "Epoch 5 Batch 4200 Loss 0.3236\n",
      "Epoch 5 Batch 4300 Loss 0.2008\n",
      "Epoch 5 Batch 4400 Loss 0.1594\n",
      "Epoch 5 Batch 4500 Loss 0.2477\n",
      "Epoch 5 Batch 4600 Loss 0.3634\n",
      "Epoch 5 Batch 4700 Loss 0.2423\n",
      "Epoch 5 Batch 4800 Loss 0.3680\n",
      "Epoch 5 Batch 4900 Loss 0.3585\n",
      "Epoch 5 Batch 5000 Loss 0.2788\n",
      "Epoch 5 Batch 5100 Loss 0.2775\n",
      "Epoch 5 Batch 5200 Loss 0.2049\n",
      "Epoch 5 Batch 5300 Loss 0.3811\n",
      "Epoch 5 Batch 5400 Loss 0.2997\n",
      "Epoch 5 Batch 5500 Loss 0.2751\n",
      "Epoch 5 Batch 5600 Loss 0.4222\n",
      "Epoch 5 Batch 5700 Loss 0.2440\n",
      "Epoch 5 Batch 5800 Loss 0.3815\n",
      "Epoch 5 Batch 5900 Loss 0.1373\n",
      "Epoch 5 Batch 6000 Loss 0.2669\n",
      "Epoch 5 Batch 6100 Loss 0.2881\n",
      "Epoch 5 Batch 6200 Loss 0.1199\n",
      "Epoch 5 Batch 6300 Loss 0.3601\n",
      "Epoch 5 Batch 6400 Loss 0.3507\n",
      "Epoch 5 Batch 6500 Loss 0.2356\n",
      "Epoch 5 Batch 6600 Loss 0.2382\n",
      "Epoch 5 Batch 6700 Loss 0.5634\n",
      "Epoch 5 Batch 6800 Loss 0.3684\n",
      "Epoch 5 Batch 6900 Loss 0.3374\n",
      "Epoch 5 Batch 7000 Loss 0.2004\n",
      "Epoch 5 Batch 7100 Loss 0.1822\n",
      "Epoch 5 Batch 7200 Loss 0.2128\n",
      "Epoch 5 Batch 7300 Loss 0.1969\n",
      "Epoch 5 Batch 7400 Loss 0.4106\n",
      "Epoch 5 Batch 7500 Loss 0.2302\n",
      "Epoch 5 Batch 7600 Loss 0.1882\n",
      "Epoch 5 Batch 7700 Loss 0.3753\n",
      "Epoch 5 Batch 7800 Loss 0.1997\n",
      "Epoch 5 Loss 0.2438\n",
      "Time taken for 1 epoch 9120.295035123825 sec\n",
      "\n",
      "Epoch 6 Batch 0 Loss 0.1603\n",
      "Epoch 6 Batch 100 Loss 0.1214\n",
      "Epoch 6 Batch 200 Loss 0.2441\n",
      "Epoch 6 Batch 300 Loss 0.1070\n",
      "Epoch 6 Batch 400 Loss 0.1501\n",
      "Epoch 6 Batch 500 Loss 0.1650\n",
      "Epoch 6 Batch 600 Loss 0.1738\n",
      "Epoch 6 Batch 700 Loss 0.0800\n",
      "Epoch 6 Batch 800 Loss 0.2316\n",
      "Epoch 6 Batch 900 Loss 0.2721\n",
      "Epoch 6 Batch 1000 Loss 0.0530\n",
      "Epoch 6 Batch 1100 Loss 0.1360\n",
      "Epoch 6 Batch 1200 Loss 0.1413\n",
      "Epoch 6 Batch 1300 Loss 0.2015\n",
      "Epoch 6 Batch 1400 Loss 0.2486\n",
      "Epoch 6 Batch 1500 Loss 0.1068\n",
      "Epoch 6 Batch 1600 Loss 0.3005\n",
      "Epoch 6 Batch 1700 Loss 0.1799\n",
      "Epoch 6 Batch 1800 Loss 0.2318\n",
      "Epoch 6 Batch 1900 Loss 0.3401\n",
      "Epoch 6 Batch 2000 Loss 0.1782\n",
      "Epoch 6 Batch 2100 Loss 0.1189\n",
      "Epoch 6 Batch 2200 Loss 0.1459\n",
      "Epoch 6 Batch 2300 Loss 0.3030\n",
      "Epoch 6 Batch 2400 Loss 0.1009\n",
      "Epoch 6 Batch 2500 Loss 0.1131\n",
      "Epoch 6 Batch 2600 Loss 0.0909\n",
      "Epoch 6 Batch 2700 Loss 0.1578\n",
      "Epoch 6 Batch 2800 Loss 0.2724\n",
      "Epoch 6 Batch 2900 Loss 0.2275\n",
      "Epoch 6 Batch 3000 Loss 0.3688\n",
      "Epoch 6 Batch 3100 Loss 0.1231\n",
      "Epoch 6 Batch 3200 Loss 0.3513\n",
      "Epoch 6 Batch 3300 Loss 0.3275\n",
      "Epoch 6 Batch 3400 Loss 0.1651\n",
      "Epoch 6 Batch 3500 Loss 0.3328\n",
      "Epoch 6 Batch 3600 Loss 0.1013\n",
      "Epoch 6 Batch 3700 Loss 0.2189\n",
      "Epoch 6 Batch 3800 Loss 0.2361\n",
      "Epoch 6 Batch 3900 Loss 0.1379\n",
      "Epoch 6 Batch 4000 Loss 0.1973\n",
      "Epoch 6 Batch 4100 Loss 0.1765\n",
      "Epoch 6 Batch 4200 Loss 0.1307\n",
      "Epoch 6 Batch 4300 Loss 0.1525\n",
      "Epoch 6 Batch 4400 Loss 0.2110\n",
      "Epoch 6 Batch 4500 Loss 0.1165\n",
      "Epoch 6 Batch 4600 Loss 0.3862\n",
      "Epoch 6 Batch 4700 Loss 0.2908\n",
      "Epoch 6 Batch 4800 Loss 0.2896\n",
      "Epoch 6 Batch 4900 Loss 0.1674\n",
      "Epoch 6 Batch 5000 Loss 0.1754\n",
      "Epoch 6 Batch 5100 Loss 0.2104\n",
      "Epoch 6 Batch 5200 Loss 0.1183\n",
      "Epoch 6 Batch 5300 Loss 0.2454\n",
      "Epoch 6 Batch 5400 Loss 0.2078\n",
      "Epoch 6 Batch 5500 Loss 0.1854\n",
      "Epoch 6 Batch 5600 Loss 0.2114\n",
      "Epoch 6 Batch 5700 Loss 0.1921\n",
      "Epoch 6 Batch 5800 Loss 0.1785\n",
      "Epoch 6 Batch 5900 Loss 0.3057\n",
      "Epoch 6 Batch 6000 Loss 0.2957\n",
      "Epoch 6 Batch 6100 Loss 0.2819\n",
      "Epoch 6 Batch 6200 Loss 0.3612\n",
      "Epoch 6 Batch 6300 Loss 0.2252\n",
      "Epoch 6 Batch 6400 Loss 0.2061\n",
      "Epoch 6 Batch 6500 Loss 0.1713\n",
      "Epoch 6 Batch 6600 Loss 0.0889\n",
      "Epoch 6 Batch 6700 Loss 0.2224\n",
      "Epoch 6 Batch 6800 Loss 0.1837\n",
      "Epoch 6 Batch 6900 Loss 0.2424\n",
      "Epoch 6 Batch 7000 Loss 0.1792\n",
      "Epoch 6 Batch 7100 Loss 0.1085\n",
      "Epoch 6 Batch 7200 Loss 0.2458\n",
      "Epoch 6 Batch 7300 Loss 0.2835\n",
      "Epoch 6 Batch 7400 Loss 0.2509\n",
      "Epoch 6 Batch 7500 Loss 0.2079\n",
      "Epoch 6 Batch 7600 Loss 0.1979\n",
      "Epoch 6 Batch 7700 Loss 0.1977\n",
      "Epoch 6 Batch 7800 Loss 0.3234\n",
      "Epoch 6 Loss 0.1985\n",
      "Time taken for 1 epoch 9125.598165750504 sec\n",
      "\n",
      "Epoch 7 Batch 0 Loss 0.1562\n",
      "Epoch 7 Batch 100 Loss 0.0932\n",
      "Epoch 7 Batch 200 Loss 0.1022\n",
      "Epoch 7 Batch 300 Loss 0.2391\n",
      "Epoch 7 Batch 400 Loss 0.1400\n",
      "Epoch 7 Batch 500 Loss 0.1721\n",
      "Epoch 7 Batch 600 Loss 0.1377\n",
      "Epoch 7 Batch 700 Loss 0.1375\n",
      "Epoch 7 Batch 800 Loss 0.1203\n",
      "Epoch 7 Batch 900 Loss 0.1676\n",
      "Epoch 7 Batch 1000 Loss 0.1122\n",
      "Epoch 7 Batch 1100 Loss 0.0996\n",
      "Epoch 7 Batch 1200 Loss 0.1507\n",
      "Epoch 7 Batch 1300 Loss 0.1464\n",
      "Epoch 7 Batch 1400 Loss 0.0705\n",
      "Epoch 7 Batch 1500 Loss 0.1923\n",
      "Epoch 7 Batch 1600 Loss 0.1704\n",
      "Epoch 7 Batch 1700 Loss 0.1202\n",
      "Epoch 7 Batch 1800 Loss 0.1068\n",
      "Epoch 7 Batch 1900 Loss 0.1332\n",
      "Epoch 7 Batch 2000 Loss 0.0870\n",
      "Epoch 7 Batch 2100 Loss 0.1031\n",
      "Epoch 7 Batch 2200 Loss 0.1838\n",
      "Epoch 7 Batch 2300 Loss 0.1297\n",
      "Epoch 7 Batch 2400 Loss 0.1703\n",
      "Epoch 7 Batch 2500 Loss 0.1562\n",
      "Epoch 7 Batch 2600 Loss 0.0867\n",
      "Epoch 7 Batch 2700 Loss 0.1933\n",
      "Epoch 7 Batch 2800 Loss 0.1439\n",
      "Epoch 7 Batch 2900 Loss 0.0734\n",
      "Epoch 7 Batch 3000 Loss 0.1021\n",
      "Epoch 7 Batch 3100 Loss 0.2919\n",
      "Epoch 7 Batch 3200 Loss 0.1168\n",
      "Epoch 7 Batch 3300 Loss 0.0884\n",
      "Epoch 7 Batch 3400 Loss 0.3231\n",
      "Epoch 7 Batch 3500 Loss 0.2024\n",
      "Epoch 7 Batch 3600 Loss 0.2189\n",
      "Epoch 7 Batch 3700 Loss 0.3710\n",
      "Epoch 7 Batch 3800 Loss 0.2134\n",
      "Epoch 7 Batch 3900 Loss 0.1320\n",
      "Epoch 7 Batch 4000 Loss 0.1760\n",
      "Epoch 7 Batch 4100 Loss 0.0872\n",
      "Epoch 7 Batch 4200 Loss 0.1239\n",
      "Epoch 7 Batch 4300 Loss 0.2103\n",
      "Epoch 7 Batch 4400 Loss 0.2338\n",
      "Epoch 7 Batch 4500 Loss 0.0641\n"
     ]
    },
    {
     "name": "stdout",
     "output_type": "stream",
     "text": [
      "Epoch 7 Batch 4600 Loss 0.1296\n",
      "Epoch 7 Batch 4700 Loss 0.1620\n",
      "Epoch 7 Batch 4800 Loss 0.2036\n",
      "Epoch 7 Batch 4900 Loss 0.3018\n",
      "Epoch 7 Batch 5000 Loss 0.1761\n",
      "Epoch 7 Batch 5100 Loss 0.2040\n",
      "Epoch 7 Batch 5200 Loss 0.0930\n",
      "Epoch 7 Batch 5300 Loss 0.2200\n",
      "Epoch 7 Batch 5400 Loss 0.1527\n",
      "Epoch 7 Batch 5500 Loss 0.1475\n",
      "Epoch 7 Batch 5600 Loss 0.0841\n",
      "Epoch 7 Batch 5700 Loss 0.2997\n",
      "Epoch 7 Batch 5800 Loss 0.1214\n",
      "Epoch 7 Batch 5900 Loss 0.1426\n",
      "Epoch 7 Batch 6000 Loss 0.1155\n",
      "Epoch 7 Batch 6100 Loss 0.1047\n",
      "Epoch 7 Batch 6200 Loss 0.2938\n",
      "Epoch 7 Batch 6300 Loss 0.1658\n",
      "Epoch 7 Batch 6400 Loss 0.1947\n",
      "Epoch 7 Batch 6500 Loss 0.1619\n",
      "Epoch 7 Batch 6600 Loss 0.1932\n",
      "Epoch 7 Batch 6700 Loss 0.1001\n",
      "Epoch 7 Batch 6800 Loss 0.1729\n",
      "Epoch 7 Batch 6900 Loss 0.2715\n",
      "Epoch 7 Batch 7000 Loss 0.1437\n",
      "Epoch 7 Batch 7100 Loss 0.2314\n",
      "Epoch 7 Batch 7200 Loss 0.1436\n",
      "Epoch 7 Batch 7300 Loss 0.1771\n",
      "Epoch 7 Batch 7400 Loss 0.0950\n",
      "Epoch 7 Batch 7500 Loss 0.1973\n",
      "Epoch 7 Batch 7600 Loss 0.1459\n",
      "Epoch 7 Batch 7700 Loss 0.1467\n",
      "Epoch 7 Batch 7800 Loss 0.2385\n",
      "Epoch 7 Loss 0.1658\n",
      "Time taken for 1 epoch 9112.935555458069 sec\n",
      "\n",
      "Epoch 8 Batch 0 Loss 0.1391\n",
      "Epoch 8 Batch 100 Loss 0.0954\n",
      "Epoch 8 Batch 200 Loss 0.1473\n",
      "Epoch 8 Batch 300 Loss 0.1019\n",
      "Epoch 8 Batch 400 Loss 0.1074\n",
      "Epoch 8 Batch 500 Loss 0.0945\n",
      "Epoch 8 Batch 600 Loss 0.0814\n",
      "Epoch 8 Batch 700 Loss 0.2275\n",
      "Epoch 8 Batch 800 Loss 0.1196\n",
      "Epoch 8 Batch 900 Loss 0.0944\n",
      "Epoch 8 Batch 1000 Loss 0.1055\n",
      "Epoch 8 Batch 1100 Loss 0.1687\n",
      "Epoch 8 Batch 1200 Loss 0.0762\n",
      "Epoch 8 Batch 1300 Loss 0.1010\n",
      "Epoch 8 Batch 1400 Loss 0.0921\n",
      "Epoch 8 Batch 1500 Loss 0.1294\n",
      "Epoch 8 Batch 1600 Loss 0.1092\n",
      "Epoch 8 Batch 1700 Loss 0.0871\n",
      "Epoch 8 Batch 1800 Loss 0.1485\n",
      "Epoch 8 Batch 1900 Loss 0.1755\n",
      "Epoch 8 Batch 2000 Loss 0.0696\n",
      "Epoch 8 Batch 2100 Loss 0.1569\n",
      "Epoch 8 Batch 2200 Loss 0.1424\n",
      "Epoch 8 Batch 2300 Loss 0.1708\n",
      "Epoch 8 Batch 2400 Loss 0.0490\n",
      "Epoch 8 Batch 2500 Loss 0.1477\n",
      "Epoch 8 Batch 2600 Loss 0.1211\n",
      "Epoch 8 Batch 2700 Loss 0.1239\n",
      "Epoch 8 Batch 2800 Loss 0.2145\n",
      "Epoch 8 Batch 2900 Loss 0.1795\n",
      "Epoch 8 Batch 3000 Loss 0.2257\n",
      "Epoch 8 Batch 3100 Loss 0.1115\n",
      "Epoch 8 Batch 3200 Loss 0.1498\n",
      "Epoch 8 Batch 3300 Loss 0.2644\n",
      "Epoch 8 Batch 3400 Loss 0.0996\n",
      "Epoch 8 Batch 3500 Loss 0.0874\n",
      "Epoch 8 Batch 3600 Loss 0.2171\n",
      "Epoch 8 Batch 3700 Loss 0.1075\n",
      "Epoch 8 Batch 3800 Loss 0.1534\n",
      "Epoch 8 Batch 3900 Loss 0.1797\n",
      "Epoch 8 Batch 4000 Loss 0.1372\n",
      "Epoch 8 Batch 4100 Loss 0.2536\n",
      "Epoch 8 Batch 4200 Loss 0.1782\n",
      "Epoch 8 Batch 4300 Loss 0.1208\n",
      "Epoch 8 Batch 4400 Loss 0.0590\n",
      "Epoch 8 Batch 4500 Loss 0.1038\n",
      "Epoch 8 Batch 4600 Loss 0.1507\n",
      "Epoch 8 Batch 4700 Loss 0.1951\n",
      "Epoch 8 Batch 4800 Loss 0.1618\n",
      "Epoch 8 Batch 4900 Loss 0.1861\n",
      "Epoch 8 Batch 5000 Loss 0.0894\n",
      "Epoch 8 Batch 5100 Loss 0.0536\n",
      "Epoch 8 Batch 5200 Loss 0.0894\n",
      "Epoch 8 Batch 5300 Loss 0.1607\n",
      "Epoch 8 Batch 5400 Loss 0.1148\n",
      "Epoch 8 Batch 5500 Loss 0.2430\n",
      "Epoch 8 Batch 5600 Loss 0.2552\n",
      "Epoch 8 Batch 5700 Loss 0.1745\n",
      "Epoch 8 Batch 5800 Loss 0.2263\n",
      "Epoch 8 Batch 5900 Loss 0.1218\n",
      "Epoch 8 Batch 6000 Loss 0.1153\n",
      "Epoch 8 Batch 6100 Loss 0.1579\n",
      "Epoch 8 Batch 6200 Loss 0.0795\n",
      "Epoch 8 Batch 6300 Loss 0.1910\n",
      "Epoch 8 Batch 6400 Loss 0.1155\n",
      "Epoch 8 Batch 6500 Loss 0.2030\n",
      "Epoch 8 Batch 6600 Loss 0.0579\n",
      "Epoch 8 Batch 6700 Loss 0.0695\n",
      "Epoch 8 Batch 6800 Loss 0.1754\n",
      "Epoch 8 Batch 6900 Loss 0.2072\n",
      "Epoch 8 Batch 7000 Loss 0.2290\n",
      "Epoch 8 Batch 7100 Loss 0.1404\n",
      "Epoch 8 Batch 7200 Loss 0.2278\n",
      "Epoch 8 Batch 7300 Loss 0.1571\n",
      "Epoch 8 Batch 7400 Loss 0.1058\n",
      "Epoch 8 Batch 7500 Loss 0.2350\n",
      "Epoch 8 Batch 7600 Loss 0.1763\n",
      "Epoch 8 Batch 7700 Loss 0.3205\n",
      "Epoch 8 Batch 7800 Loss 0.1964\n",
      "Epoch 8 Loss 0.1408\n",
      "Time taken for 1 epoch 9119.041417121887 sec\n",
      "\n",
      "Epoch 9 Batch 0 Loss 0.0707\n",
      "Epoch 9 Batch 100 Loss 0.2487\n",
      "Epoch 9 Batch 200 Loss 0.1304\n",
      "Epoch 9 Batch 300 Loss 0.1577\n",
      "Epoch 9 Batch 400 Loss 0.0828\n",
      "Epoch 9 Batch 500 Loss 0.0639\n",
      "Epoch 9 Batch 600 Loss 0.0531\n",
      "Epoch 9 Batch 700 Loss 0.1623\n",
      "Epoch 9 Batch 800 Loss 0.0986\n",
      "Epoch 9 Batch 900 Loss 0.1179\n",
      "Epoch 9 Batch 1000 Loss 0.0882\n",
      "Epoch 9 Batch 1100 Loss 0.0892\n",
      "Epoch 9 Batch 1200 Loss 0.1052\n",
      "Epoch 9 Batch 1300 Loss 0.1568\n",
      "Epoch 9 Batch 1400 Loss 0.0956\n",
      "Epoch 9 Batch 1500 Loss 0.1271\n",
      "Epoch 9 Batch 1600 Loss 0.1465\n",
      "Epoch 9 Batch 1700 Loss 0.1125\n",
      "Epoch 9 Batch 1800 Loss 0.1240\n",
      "Epoch 9 Batch 1900 Loss 0.1330\n",
      "Epoch 9 Batch 2000 Loss 0.1033\n",
      "Epoch 9 Batch 2100 Loss 0.1626\n",
      "Epoch 9 Batch 2200 Loss 0.1101\n",
      "Epoch 9 Batch 2300 Loss 0.1964\n",
      "Epoch 9 Batch 2400 Loss 0.1294\n",
      "Epoch 9 Batch 2500 Loss 0.0383\n",
      "Epoch 9 Batch 2600 Loss 0.1496\n",
      "Epoch 9 Batch 2700 Loss 0.1236\n",
      "Epoch 9 Batch 2800 Loss 0.1892\n",
      "Epoch 9 Batch 2900 Loss 0.0789\n",
      "Epoch 9 Batch 3000 Loss 0.0873\n",
      "Epoch 9 Batch 3100 Loss 0.1861\n",
      "Epoch 9 Batch 3200 Loss 0.1289\n",
      "Epoch 9 Batch 3300 Loss 0.0845\n",
      "Epoch 9 Batch 3400 Loss 0.1982\n",
      "Epoch 9 Batch 3500 Loss 0.1232\n",
      "Epoch 9 Batch 3600 Loss 0.0778\n",
      "Epoch 9 Batch 3700 Loss 0.1047\n",
      "Epoch 9 Batch 3800 Loss 0.0536\n",
      "Epoch 9 Batch 3900 Loss 0.0944\n",
      "Epoch 9 Batch 4000 Loss 0.0969\n",
      "Epoch 9 Batch 4100 Loss 0.0697\n",
      "Epoch 9 Batch 4200 Loss 0.1058\n",
      "Epoch 9 Batch 4300 Loss 0.1234\n",
      "Epoch 9 Batch 4400 Loss 0.1165\n",
      "Epoch 9 Batch 4500 Loss 0.1735\n",
      "Epoch 9 Batch 4600 Loss 0.1474\n",
      "Epoch 9 Batch 4700 Loss 0.1611\n",
      "Epoch 9 Batch 4800 Loss 0.0673\n",
      "Epoch 9 Batch 4900 Loss 0.1306\n",
      "Epoch 9 Batch 5000 Loss 0.1078\n",
      "Epoch 9 Batch 5100 Loss 0.1843\n",
      "Epoch 9 Batch 5200 Loss 0.1177\n",
      "Epoch 9 Batch 5300 Loss 0.1170\n",
      "Epoch 9 Batch 5400 Loss 0.1910\n",
      "Epoch 9 Batch 5500 Loss 0.1198\n",
      "Epoch 9 Batch 5600 Loss 0.1732\n",
      "Epoch 9 Batch 5700 Loss 0.1523\n",
      "Epoch 9 Batch 5800 Loss 0.1373\n",
      "Epoch 9 Batch 5900 Loss 0.1124\n",
      "Epoch 9 Batch 6000 Loss 0.1545\n",
      "Epoch 9 Batch 6100 Loss 0.0458\n",
      "Epoch 9 Batch 6200 Loss 0.0958\n",
      "Epoch 9 Batch 6300 Loss 0.1145\n",
      "Epoch 9 Batch 6400 Loss 0.1031\n",
      "Epoch 9 Batch 6500 Loss 0.0796\n",
      "Epoch 9 Batch 6600 Loss 0.1099\n",
      "Epoch 9 Batch 6700 Loss 0.0919\n",
      "Epoch 9 Batch 6800 Loss 0.1429\n",
      "Epoch 9 Batch 6900 Loss 0.1772\n",
      "Epoch 9 Batch 7000 Loss 0.2092\n",
      "Epoch 9 Batch 7100 Loss 0.1963\n",
      "Epoch 9 Batch 7200 Loss 0.2122\n",
      "Epoch 9 Batch 7300 Loss 0.1012\n",
      "Epoch 9 Batch 7400 Loss 0.1630\n",
      "Epoch 9 Batch 7500 Loss 0.1120\n",
      "Epoch 9 Batch 7600 Loss 0.0992\n",
      "Epoch 9 Batch 7700 Loss 0.1283\n",
      "Epoch 9 Batch 7800 Loss 0.0833\n",
      "Epoch 9 Loss 0.1221\n",
      "Time taken for 1 epoch 9150.392658233643 sec\n",
      "\n",
      "Epoch 10 Batch 0 Loss 0.0779\n",
      "Epoch 10 Batch 100 Loss 0.0945\n",
      "Epoch 10 Batch 200 Loss 0.1634\n",
      "Epoch 10 Batch 300 Loss 0.0693\n",
      "Epoch 10 Batch 400 Loss 0.0899\n",
      "Epoch 10 Batch 500 Loss 0.0495\n",
      "Epoch 10 Batch 600 Loss 0.0767\n",
      "Epoch 10 Batch 700 Loss 0.0792\n",
      "Epoch 10 Batch 800 Loss 0.1235\n",
      "Epoch 10 Batch 900 Loss 0.0767\n",
      "Epoch 10 Batch 1000 Loss 0.0487\n",
      "Epoch 10 Batch 1100 Loss 0.0605\n",
      "Epoch 10 Batch 1200 Loss 0.0896\n",
      "Epoch 10 Batch 1300 Loss 0.0702\n",
      "Epoch 10 Batch 1400 Loss 0.0798\n",
      "Epoch 10 Batch 1500 Loss 0.0586\n",
      "Epoch 10 Batch 1600 Loss 0.1103\n",
      "Epoch 10 Batch 1700 Loss 0.0757\n",
      "Epoch 10 Batch 1800 Loss 0.0894\n",
      "Epoch 10 Batch 1900 Loss 0.2957\n",
      "Epoch 10 Batch 2000 Loss 0.1082\n",
      "Epoch 10 Batch 2100 Loss 0.0964\n",
      "Epoch 10 Batch 2200 Loss 0.1222\n",
      "Epoch 10 Batch 2300 Loss 0.0671\n",
      "Epoch 10 Batch 2400 Loss 0.1783\n",
      "Epoch 10 Batch 2500 Loss 0.0977\n",
      "Epoch 10 Batch 2600 Loss 0.1065\n",
      "Epoch 10 Batch 2700 Loss 0.1477\n",
      "Epoch 10 Batch 2800 Loss 0.0840\n",
      "Epoch 10 Batch 2900 Loss 0.1043\n",
      "Epoch 10 Batch 3000 Loss 0.1969\n",
      "Epoch 10 Batch 3100 Loss 0.1095\n",
      "Epoch 10 Batch 3200 Loss 0.0708\n",
      "Epoch 10 Batch 3300 Loss 0.1193\n",
      "Epoch 10 Batch 3400 Loss 0.1592\n",
      "Epoch 10 Batch 3500 Loss 0.1722\n",
      "Epoch 10 Batch 3600 Loss 0.0908\n",
      "Epoch 10 Batch 3700 Loss 0.1003\n",
      "Epoch 10 Batch 3800 Loss 0.1210\n",
      "Epoch 10 Batch 3900 Loss 0.0995\n",
      "Epoch 10 Batch 4000 Loss 0.0868\n",
      "Epoch 10 Batch 4100 Loss 0.0742\n",
      "Epoch 10 Batch 4200 Loss 0.1113\n",
      "Epoch 10 Batch 4300 Loss 0.0912\n",
      "Epoch 10 Batch 4400 Loss 0.1851\n",
      "Epoch 10 Batch 4500 Loss 0.0987\n",
      "Epoch 10 Batch 4600 Loss 0.0708\n",
      "Epoch 10 Batch 4700 Loss 0.2021\n",
      "Epoch 10 Batch 4800 Loss 0.1389\n",
      "Epoch 10 Batch 4900 Loss 0.0816\n",
      "Epoch 10 Batch 5000 Loss 0.3861\n",
      "Epoch 10 Batch 5100 Loss 0.0913\n",
      "Epoch 10 Batch 5200 Loss 0.1548\n",
      "Epoch 10 Batch 5300 Loss 0.1304\n",
      "Epoch 10 Batch 5400 Loss 0.0704\n",
      "Epoch 10 Batch 5500 Loss 0.1498\n",
      "Epoch 10 Batch 5600 Loss 0.1044\n",
      "Epoch 10 Batch 5700 Loss 0.1472\n",
      "Epoch 10 Batch 5800 Loss 0.1631\n",
      "Epoch 10 Batch 5900 Loss 0.2116\n",
      "Epoch 10 Batch 6000 Loss 0.1285\n",
      "Epoch 10 Batch 6100 Loss 0.1006\n",
      "Epoch 10 Batch 6200 Loss 0.1573\n",
      "Epoch 10 Batch 6300 Loss 0.1070\n",
      "Epoch 10 Batch 6400 Loss 0.2929\n",
      "Epoch 10 Batch 6500 Loss 0.0555\n"
     ]
    },
    {
     "name": "stdout",
     "output_type": "stream",
     "text": [
      "Epoch 10 Batch 6600 Loss 0.1421\n",
      "Epoch 10 Batch 6700 Loss 0.1375\n",
      "Epoch 10 Batch 6800 Loss 0.0992\n",
      "Epoch 10 Batch 6900 Loss 0.1172\n",
      "Epoch 10 Batch 7000 Loss 0.1151\n",
      "Epoch 10 Batch 7100 Loss 0.1090\n",
      "Epoch 10 Batch 7200 Loss 0.0552\n",
      "Epoch 10 Batch 7300 Loss 0.1226\n",
      "Epoch 10 Batch 7400 Loss 0.1200\n",
      "Epoch 10 Batch 7500 Loss 0.1620\n",
      "Epoch 10 Batch 7600 Loss 0.0964\n",
      "Epoch 10 Batch 7700 Loss 0.1759\n",
      "Epoch 10 Batch 7800 Loss 0.1280\n",
      "Epoch 10 Loss 0.1072\n",
      "Time taken for 1 epoch 9120.695286035538 sec\n",
      "\n",
      "Epoch 11 Batch 0 Loss 0.1029\n",
      "Epoch 11 Batch 100 Loss 0.0607\n",
      "Epoch 11 Batch 200 Loss 0.0550\n",
      "Epoch 11 Batch 300 Loss 0.0983\n",
      "Epoch 11 Batch 400 Loss 0.0580\n",
      "Epoch 11 Batch 500 Loss 0.0441\n",
      "Epoch 11 Batch 600 Loss 0.0614\n",
      "Epoch 11 Batch 700 Loss 0.1006\n",
      "Epoch 11 Batch 800 Loss 0.0486\n",
      "Epoch 11 Batch 900 Loss 0.0471\n",
      "Epoch 11 Batch 1000 Loss 0.0958\n",
      "Epoch 11 Batch 1100 Loss 0.1636\n",
      "Epoch 11 Batch 1200 Loss 0.0757\n",
      "Epoch 11 Batch 1300 Loss 0.0509\n",
      "Epoch 11 Batch 1400 Loss 0.0557\n",
      "Epoch 11 Batch 1500 Loss 0.0621\n",
      "Epoch 11 Batch 1600 Loss 0.0600\n",
      "Epoch 11 Batch 1700 Loss 0.1026\n",
      "Epoch 11 Batch 1800 Loss 0.1042\n",
      "Epoch 11 Batch 1900 Loss 0.0747\n",
      "Epoch 11 Batch 2000 Loss 0.0312\n",
      "Epoch 11 Batch 2100 Loss 0.0866\n",
      "Epoch 11 Batch 2200 Loss 0.0909\n",
      "Epoch 11 Batch 2300 Loss 0.1639\n",
      "Epoch 11 Batch 2400 Loss 0.1225\n",
      "Epoch 11 Batch 2500 Loss 0.0109\n",
      "Epoch 11 Batch 2600 Loss 0.1157\n",
      "Epoch 11 Batch 2700 Loss 0.1357\n",
      "Epoch 11 Batch 2800 Loss 0.1090\n",
      "Epoch 11 Batch 2900 Loss 0.1034\n",
      "Epoch 11 Batch 3000 Loss 0.0492\n",
      "Epoch 11 Batch 3100 Loss 0.0617\n",
      "Epoch 11 Batch 3200 Loss 0.0590\n",
      "Epoch 11 Batch 3300 Loss 0.0520\n",
      "Epoch 11 Batch 3400 Loss 0.1232\n",
      "Epoch 11 Batch 3500 Loss 0.0901\n",
      "Epoch 11 Batch 3600 Loss 0.0451\n",
      "Epoch 11 Batch 3700 Loss 0.1759\n",
      "Epoch 11 Batch 3800 Loss 0.0875\n",
      "Epoch 11 Batch 3900 Loss 0.0967\n",
      "Epoch 11 Batch 4000 Loss 0.1157\n",
      "Epoch 11 Batch 4100 Loss 0.0629\n",
      "Epoch 11 Batch 4200 Loss 0.1447\n",
      "Epoch 11 Batch 4300 Loss 0.0276\n",
      "Epoch 11 Batch 4400 Loss 0.0502\n",
      "Epoch 11 Batch 4500 Loss 0.0747\n",
      "Epoch 11 Batch 4600 Loss 0.1048\n",
      "Epoch 11 Batch 4700 Loss 0.0812\n",
      "Epoch 11 Batch 4800 Loss 0.0763\n",
      "Epoch 11 Batch 4900 Loss 0.0945\n",
      "Epoch 11 Batch 5000 Loss 0.0774\n",
      "Epoch 11 Batch 5100 Loss 0.0680\n",
      "Epoch 11 Batch 5200 Loss 0.1952\n",
      "Epoch 11 Batch 5300 Loss 0.0888\n",
      "Epoch 11 Batch 5400 Loss 0.0375\n",
      "Epoch 11 Batch 5500 Loss 0.0831\n",
      "Epoch 11 Batch 5600 Loss 0.1191\n",
      "Epoch 11 Batch 5700 Loss 0.0760\n",
      "Epoch 11 Batch 5800 Loss 0.1038\n",
      "Epoch 11 Batch 5900 Loss 0.1229\n",
      "Epoch 11 Batch 6000 Loss 0.0683\n",
      "Epoch 11 Batch 6100 Loss 0.1121\n",
      "Epoch 11 Batch 6200 Loss 0.0307\n",
      "Epoch 11 Batch 6300 Loss 0.1446\n",
      "Epoch 11 Batch 6400 Loss 0.1506\n",
      "Epoch 11 Batch 6500 Loss 0.0620\n",
      "Epoch 11 Batch 6600 Loss 0.0366\n",
      "Epoch 11 Batch 6700 Loss 0.1200\n",
      "Epoch 11 Batch 6800 Loss 0.0853\n",
      "Epoch 11 Batch 6900 Loss 0.1084\n",
      "Epoch 11 Batch 7000 Loss 0.1063\n",
      "Epoch 11 Batch 7100 Loss 0.0989\n",
      "Epoch 11 Batch 7200 Loss 0.1088\n",
      "Epoch 11 Batch 7300 Loss 0.1351\n",
      "Epoch 11 Batch 7400 Loss 0.0816\n",
      "Epoch 11 Batch 7500 Loss 0.1421\n",
      "Epoch 11 Batch 7600 Loss 0.0907\n",
      "Epoch 11 Batch 7700 Loss 0.1678\n",
      "Epoch 11 Batch 7800 Loss 0.0822\n",
      "Epoch 11 Loss 0.0966\n",
      "Time taken for 1 epoch 9128.897106409073 sec\n",
      "\n",
      "Epoch 12 Batch 0 Loss 0.0534\n",
      "Epoch 12 Batch 100 Loss 0.0357\n",
      "Epoch 12 Batch 200 Loss 0.1114\n",
      "Epoch 12 Batch 300 Loss 0.0446\n",
      "Epoch 12 Batch 400 Loss 0.0614\n",
      "Epoch 12 Batch 500 Loss 0.0699\n",
      "Epoch 12 Batch 600 Loss 0.0593\n",
      "Epoch 12 Batch 700 Loss 0.0317\n",
      "Epoch 12 Batch 800 Loss 0.0635\n",
      "Epoch 12 Batch 900 Loss 0.0584\n",
      "Epoch 12 Batch 1000 Loss 0.0705\n",
      "Epoch 12 Batch 1100 Loss 0.0432\n",
      "Epoch 12 Batch 1200 Loss 0.0377\n",
      "Epoch 12 Batch 1300 Loss 0.0753\n",
      "Epoch 12 Batch 1400 Loss 0.0462\n",
      "Epoch 12 Batch 1500 Loss 0.0342\n",
      "Epoch 12 Batch 1600 Loss 0.0447\n",
      "Epoch 12 Batch 1700 Loss 0.0984\n",
      "Epoch 12 Batch 1800 Loss 0.0517\n",
      "Epoch 12 Batch 1900 Loss 0.0303\n",
      "Epoch 12 Batch 2000 Loss 0.0498\n",
      "Epoch 12 Batch 2100 Loss 0.1126\n",
      "Epoch 12 Batch 2200 Loss 0.0856\n",
      "Epoch 12 Batch 2300 Loss 0.1076\n",
      "Epoch 12 Batch 2400 Loss 0.0596\n",
      "Epoch 12 Batch 2500 Loss 0.0700\n",
      "Epoch 12 Batch 2600 Loss 0.1108\n",
      "Epoch 12 Batch 2700 Loss 0.0684\n",
      "Epoch 12 Batch 2800 Loss 0.0550\n",
      "Epoch 12 Batch 2900 Loss 0.0813\n",
      "Epoch 12 Batch 3000 Loss 0.1677\n",
      "Epoch 12 Batch 3100 Loss 0.0975\n",
      "Epoch 12 Batch 3200 Loss 0.0308\n",
      "Epoch 12 Batch 3300 Loss 0.0819\n",
      "Epoch 12 Batch 3400 Loss 0.0554\n",
      "Epoch 12 Batch 3500 Loss 0.0811\n",
      "Epoch 12 Batch 3600 Loss 0.1046\n",
      "Epoch 12 Batch 3700 Loss 0.0748\n",
      "Epoch 12 Batch 3800 Loss 0.0536\n",
      "Epoch 12 Batch 3900 Loss 0.0997\n",
      "Epoch 12 Batch 4000 Loss 0.1279\n",
      "Epoch 12 Batch 4100 Loss 0.1186\n",
      "Epoch 12 Batch 4200 Loss 0.0580\n",
      "Epoch 12 Batch 4300 Loss 0.0746\n",
      "Epoch 12 Batch 4400 Loss 0.1729\n",
      "Epoch 12 Batch 4500 Loss 0.0797\n",
      "Epoch 12 Batch 4600 Loss 0.0901\n",
      "Epoch 12 Batch 4700 Loss 0.1074\n",
      "Epoch 12 Batch 4800 Loss 0.0643\n",
      "Epoch 12 Batch 4900 Loss 0.0941\n",
      "Epoch 12 Batch 5000 Loss 0.0894\n",
      "Epoch 12 Batch 5100 Loss 0.1313\n",
      "Epoch 12 Batch 5200 Loss 0.1924\n",
      "Epoch 12 Batch 5300 Loss 0.0613\n",
      "Epoch 12 Batch 5400 Loss 0.1663\n",
      "Epoch 12 Batch 5500 Loss 0.1305\n",
      "Epoch 12 Batch 5600 Loss 0.0911\n",
      "Epoch 12 Batch 5700 Loss 0.0537\n",
      "Epoch 12 Batch 5800 Loss 0.0329\n",
      "Epoch 12 Batch 5900 Loss 0.1181\n",
      "Epoch 12 Batch 6000 Loss 0.0875\n",
      "Epoch 12 Batch 6100 Loss 0.1413\n",
      "Epoch 12 Batch 6200 Loss 0.0953\n",
      "Epoch 12 Batch 6300 Loss 0.1864\n",
      "Epoch 12 Batch 6400 Loss 0.0237\n",
      "Epoch 12 Batch 6500 Loss 0.0885\n",
      "Epoch 12 Batch 6600 Loss 0.0948\n",
      "Epoch 12 Batch 6700 Loss 0.0929\n",
      "Epoch 12 Batch 6800 Loss 0.1077\n",
      "Epoch 12 Batch 6900 Loss 0.1138\n",
      "Epoch 12 Batch 7000 Loss 0.1431\n",
      "Epoch 12 Batch 7100 Loss 0.1161\n",
      "Epoch 12 Batch 7200 Loss 0.0934\n",
      "Epoch 12 Batch 7300 Loss 0.1070\n",
      "Epoch 12 Batch 7400 Loss 0.0844\n",
      "Epoch 12 Batch 7500 Loss 0.0934\n",
      "Epoch 12 Batch 7600 Loss 0.0702\n",
      "Epoch 12 Batch 7700 Loss 0.0444\n",
      "Epoch 12 Batch 7800 Loss 0.0905\n",
      "Epoch 12 Loss 0.0872\n",
      "Time taken for 1 epoch 9110.496887683868 sec\n",
      "\n"
     ]
    }
   ],
   "source": [
    "# Training the network for 12 epochs using Eager Execution\n",
    "EPOCHS = 12\n",
    "for epoch in range(EPOCHS):\n",
    "    start = time.time()  \n",
    "    hidden = encoder.initialize_hidden_state()\n",
    "    total_loss = 0 \n",
    "    for (batch, (inp, targ)) in enumerate(dataset):\n",
    "        loss = 0\n",
    "        with tf.GradientTape() as tape:\n",
    "            enc_output, enc_hidden = encoder(inp, hidden)\n",
    "            dec_hidden = enc_hidden\n",
    "            dec_input = tf.expand_dims([targ_lang.word2idx['<start>']] * BATCH_SIZE, 1)       \n",
    "            # Teacher forcing - feeding the target as the next input\n",
    "            for t in range(1, targ.shape[1]):\n",
    "                # passing enc_output to the decoder\n",
    "                predictions, dec_hidden, _ = decoder(dec_input, dec_hidden, enc_output)\n",
    "                loss += loss_function(targ[:, t], predictions)\n",
    "                # using teacher forcing\n",
    "                dec_input = tf.expand_dims(targ[:, t], 1)\n",
    "        batch_loss = (loss / int(targ.shape[1]))\n",
    "        total_loss += batch_loss\n",
    "        variables = encoder.variables + decoder.variables\n",
    "        gradients = tape.gradient(loss, variables)\n",
    "        optimizer.apply_gradients(zip(gradients, variables))\n",
    "        if batch % 100 == 0:\n",
    "            print('Epoch {} Batch {} Loss {:.4f}'.format(epoch + 1,\n",
    "                                                         batch,\n",
    "                                                         batch_loss.numpy()))\n",
    "    # saving (checkpoint) the model every epoch\n",
    "    checkpoint.save(file_prefix = checkpoint_prefix)\n",
    "    \n",
    "    print('Epoch {} Loss {:.4f}'.format(epoch + 1,\n",
    "                                        total_loss / N_BATCH))\n",
    "    print('Time taken for 1 epoch {} sec\\n'.format(time.time() - start))"
   ]
  },
  {
   "cell_type": "code",
   "execution_count": 70,
   "metadata": {},
   "outputs": [
    {
     "data": {
      "text/plain": [
       "<tensorflow.python.training.checkpointable.util.CheckpointLoadStatus at 0x19792cf6b70>"
      ]
     },
     "execution_count": 70,
     "metadata": {},
     "output_type": "execute_result"
    }
   ],
   "source": [
    "# restoring the latest checkpoint in checkpoint_dir\n",
    "checkpoint.restore(tf.train.latest_checkpoint(checkpoint_dir))"
   ]
  },
  {
   "cell_type": "code",
   "execution_count": 71,
   "metadata": {},
   "outputs": [],
   "source": [
    "def evaluate(inputs, encoder, decoder, inp_lang, targ_lang, max_length_inp, max_length_targ):\n",
    "    attention_plot = np.zeros((max_length_targ, max_length_inp))\n",
    "    sentence = ''\n",
    "    for i in inputs[0]:\n",
    "        if i == 0:\n",
    "            break\n",
    "        sentence = sentence + inp_lang.idx2word[i] + ' '\n",
    "    sentence = sentence[:-1]\n",
    "    inputs = tf.convert_to_tensor(inputs)\n",
    "    result = ''\n",
    "    hidden = [tf.zeros((1, units))]\n",
    "    enc_out, enc_hidden = encoder(inputs, hidden)\n",
    "    dec_hidden = enc_hidden\n",
    "    dec_input = tf.expand_dims([targ_lang.word2idx['<start>']], 0)\n",
    "    for t in range(max_length_targ):\n",
    "        predictions, dec_hidden, attention_weights = decoder(dec_input, dec_hidden, enc_out)\n",
    "        # storing the attention weights to plot later on\n",
    "        attention_weights = tf.reshape(attention_weights, (-1, ))\n",
    "        attention_plot[t] = attention_weights.numpy()\n",
    "        predicted_id = tf.argmax(predictions[0]).numpy()\n",
    "        result += targ_lang.idx2word[predicted_id] + ' '\n",
    "        if targ_lang.idx2word[predicted_id] == '<end>':\n",
    "            return result, sentence, attention_plot\n",
    "        # the predicted ID is fed back into the model\n",
    "        dec_input = tf.expand_dims([predicted_id], 0)\n",
    "    return result, sentence, attention_plot"
   ]
  },
  {
   "cell_type": "code",
   "execution_count": 72,
   "metadata": {},
   "outputs": [],
   "source": [
    "def predict_random_val_sentence():\n",
    "    actual_sent = ''\n",
    "    k = np.random.randint(len(input_tensor_val))\n",
    "    random_input = input_tensor_val[k]\n",
    "    random_output = target_tensor_val[k]\n",
    "    random_input = np.expand_dims(random_input,0)\n",
    "    result, sentence, attention_plot = evaluate(random_input, encoder, decoder, inp_lang, targ_lang, max_length_inp, max_length_targ)\n",
    "    print('Input: {}'.format(sentence[8:-6]))\n",
    "    print('Predicted translation: {}'.format(result[:-6]))\n",
    "    for i in random_output:\n",
    "        if i == 0:\n",
    "            break\n",
    "        actual_sent = actual_sent + targ_lang.idx2word[i] + ' '\n",
    "    actual_sent = actual_sent[8:-7]\n",
    "    print('Actual translation: {}'.format(actual_sent))\n",
    "    attention_plot = attention_plot[:len(result.split(' '))-2, 1:len(sentence.split(' '))-1]\n",
    "    sentence, result = sentence.split(' '), result.split(' ')\n",
    "    sentence = sentence[1:-1]\n",
    "    result = result[:-2]\n",
    "    # use plotly to generate the heat map\n",
    "    trace = go.Heatmap(z = attention_plot, x = sentence, y = result, colorscale='Reds')\n",
    "    data=[trace]\n",
    "    iplot(data)"
   ]
  },
  {
   "cell_type": "code",
   "execution_count": 73,
   "metadata": {},
   "outputs": [
    {
     "name": "stdout",
     "output_type": "stream",
     "text": [
      "Input: i mean its an old sad story\n",
      "Predicted translation: मेरा मतलब है यह एक पुराने और एक पुराने और एक बहुत पुरानी है \n",
      "Actual translation: मेरा मतलब है यह एक पुराने दुखद कहानी है।\n"
     ]
    },
    {
     "data": {
      "application/vnd.plotly.v1+json": {
       "config": {
        "linkText": "Export to plot.ly",
        "plotlyServerURL": "https://plot.ly",
        "showLink": false
       },
       "data": [
        {
         "colorscale": "Reds",
         "type": "heatmap",
         "uid": "c784220d-bae3-4105-9794-cbc24fb16aaf",
         "x": [
          "i",
          "mean",
          "its",
          "an",
          "old",
          "sad",
          "story"
         ],
         "y": [
          "मेरा",
          "मतलब",
          "है",
          "यह",
          "एक",
          "पुराने",
          "और",
          "एक",
          "पुराने",
          "और",
          "एक",
          "बहुत",
          "पुरानी",
          "है"
         ],
         "z": [
          [
           0.23412269353866577,
           0.3046615719795227,
           0.1053013801574707,
           0.02489338256418705,
           0.04970286786556244,
           0.06933681666851044,
           0.04380163922905922
          ],
          [
           0.07327861338853836,
           0.3011264503002167,
           0.2439362108707428,
           0.06136027351021767,
           0.05441245064139366,
           0.04131556674838066,
           0.02225341461598873
          ],
          [
           0.05490536242723465,
           0.18466511368751526,
           0.3095768988132477,
           0.07246675342321396,
           0.12623974680900574,
           0.08513633906841278,
           0.05518012493848801
          ],
          [
           0.02222110703587532,
           0.07285677641630173,
           0.21284447610378265,
           0.10467682033777237,
           0.14322823286056519,
           0.14185920357704163,
           0.049991630017757416
          ],
          [
           0.009998920373618603,
           0.01796780526638031,
           0.08767098188400269,
           0.07024599611759186,
           0.19532956182956696,
           0.08590039610862732,
           0.11092846840620041
          ],
          [
           0.010815874673426151,
           0.018684685230255127,
           0.027519159018993378,
           0.06891348212957382,
           0.31231966614723206,
           0.18822500109672546,
           0.12633459270000458
          ],
          [
           0.013106976635754108,
           0.015562834218144417,
           0.02490072138607502,
           0.019378818571567535,
           0.053635865449905396,
           0.16965912282466888,
           0.3524431586265564
          ],
          [
           0.015097459778189659,
           0.013920260593295097,
           0.020927295088768005,
           0.025748346000909805,
           0.0590154267847538,
           0.09576387703418732,
           0.11446478217840195
          ],
          [
           0.00907819252461195,
           0.017755422741174698,
           0.011523479595780373,
           0.02524634078145027,
           0.09508935362100601,
           0.07811363786458969,
           0.0683068037033081
          ],
          [
           0.007718024309724569,
           0.011831460520625114,
           0.006360301747918129,
           0.009924309328198433,
           0.035815395414829254,
           0.12279704958200455,
           0.16620740294456482
          ],
          [
           0.015782779082655907,
           0.011491574347019196,
           0.016342421993613243,
           0.02328701689839363,
           0.040428124368190765,
           0.07699214667081833,
           0.07623695582151413
          ],
          [
           0.009448615834116936,
           0.01820765994489193,
           0.010101160034537315,
           0.023506298661231995,
           0.08522745966911316,
           0.06487144529819489,
           0.06591822952032089
          ],
          [
           0.00831275712698698,
           0.013587783090770245,
           0.006473522167652845,
           0.009923122823238373,
           0.03940046951174736,
           0.12691594660282135,
           0.15068012475967407
          ],
          [
           0.017806680873036385,
           0.015434188768267632,
           0.02403496578335762,
           0.020059723407030106,
           0.05210302397608757,
           0.13566990196704865,
           0.1431661993265152
          ]
         ]
        }
       ],
       "layout": {}
      },
      "text/html": [
       "<div>\n",
       "        \n",
       "        \n",
       "            <div id=\"6d57b456-6c09-466f-8c29-7e50ec156372\" class=\"plotly-graph-div\" style=\"height:525px; width:100%;\"></div>\n",
       "            <script type=\"text/javascript\">\n",
       "                require([\"plotly\"], function(Plotly) {\n",
       "                    window.PLOTLYENV=window.PLOTLYENV || {};\n",
       "                    window.PLOTLYENV.BASE_URL='https://plot.ly';\n",
       "                    \n",
       "                if (document.getElementById(\"6d57b456-6c09-466f-8c29-7e50ec156372\")) {\n",
       "                    Plotly.newPlot(\n",
       "                        '6d57b456-6c09-466f-8c29-7e50ec156372',\n",
       "                        [{\"colorscale\": \"Reds\", \"type\": \"heatmap\", \"uid\": \"c784220d-bae3-4105-9794-cbc24fb16aaf\", \"x\": [\"i\", \"mean\", \"its\", \"an\", \"old\", \"sad\", \"story\"], \"y\": [\"\\u092e\\u0947\\u0930\\u093e\", \"\\u092e\\u0924\\u0932\\u092c\", \"\\u0939\\u0948\", \"\\u092f\\u0939\", \"\\u090f\\u0915\", \"\\u092a\\u0941\\u0930\\u093e\\u0928\\u0947\", \"\\u0914\\u0930\", \"\\u090f\\u0915\", \"\\u092a\\u0941\\u0930\\u093e\\u0928\\u0947\", \"\\u0914\\u0930\", \"\\u090f\\u0915\", \"\\u092c\\u0939\\u0941\\u0924\", \"\\u092a\\u0941\\u0930\\u093e\\u0928\\u0940\", \"\\u0939\\u0948\"], \"z\": [[0.23412269353866577, 0.3046615719795227, 0.1053013801574707, 0.02489338256418705, 0.04970286786556244, 0.06933681666851044, 0.04380163922905922], [0.07327861338853836, 0.3011264503002167, 0.2439362108707428, 0.06136027351021767, 0.05441245064139366, 0.04131556674838066, 0.02225341461598873], [0.05490536242723465, 0.18466511368751526, 0.3095768988132477, 0.07246675342321396, 0.12623974680900574, 0.08513633906841278, 0.05518012493848801], [0.02222110703587532, 0.07285677641630173, 0.21284447610378265, 0.10467682033777237, 0.14322823286056519, 0.14185920357704163, 0.049991630017757416], [0.009998920373618603, 0.01796780526638031, 0.08767098188400269, 0.07024599611759186, 0.19532956182956696, 0.08590039610862732, 0.11092846840620041], [0.010815874673426151, 0.018684685230255127, 0.027519159018993378, 0.06891348212957382, 0.31231966614723206, 0.18822500109672546, 0.12633459270000458], [0.013106976635754108, 0.015562834218144417, 0.02490072138607502, 0.019378818571567535, 0.053635865449905396, 0.16965912282466888, 0.3524431586265564], [0.015097459778189659, 0.013920260593295097, 0.020927295088768005, 0.025748346000909805, 0.0590154267847538, 0.09576387703418732, 0.11446478217840195], [0.00907819252461195, 0.017755422741174698, 0.011523479595780373, 0.02524634078145027, 0.09508935362100601, 0.07811363786458969, 0.0683068037033081], [0.007718024309724569, 0.011831460520625114, 0.006360301747918129, 0.009924309328198433, 0.035815395414829254, 0.12279704958200455, 0.16620740294456482], [0.015782779082655907, 0.011491574347019196, 0.016342421993613243, 0.02328701689839363, 0.040428124368190765, 0.07699214667081833, 0.07623695582151413], [0.009448615834116936, 0.01820765994489193, 0.010101160034537315, 0.023506298661231995, 0.08522745966911316, 0.06487144529819489, 0.06591822952032089], [0.00831275712698698, 0.013587783090770245, 0.006473522167652845, 0.009923122823238373, 0.03940046951174736, 0.12691594660282135, 0.15068012475967407], [0.017806680873036385, 0.015434188768267632, 0.02403496578335762, 0.020059723407030106, 0.05210302397608757, 0.13566990196704865, 0.1431661993265152]]}],\n",
       "                        {},\n",
       "                        {\"showLink\": false, \"linkText\": \"Export to plot.ly\", \"plotlyServerURL\": \"https://plot.ly\", \"responsive\": true}\n",
       "                    ).then(function(){\n",
       "                            \n",
       "var gd = document.getElementById('6d57b456-6c09-466f-8c29-7e50ec156372');\n",
       "var x = new MutationObserver(function (mutations, observer) {{\n",
       "        var display = window.getComputedStyle(gd).display;\n",
       "        if (!display || display === 'none') {{\n",
       "            console.log([gd, 'removed!']);\n",
       "            Plotly.purge(gd);\n",
       "            observer.disconnect();\n",
       "        }}\n",
       "}});\n",
       "\n",
       "// Listen for the removal of the full notebook cells\n",
       "var notebookContainer = gd.closest('#notebook-container');\n",
       "if (notebookContainer) {{\n",
       "    x.observe(notebookContainer, {childList: true});\n",
       "}}\n",
       "\n",
       "// Listen for the clearing of the current output cell\n",
       "var outputEl = gd.closest('.output');\n",
       "if (outputEl) {{\n",
       "    x.observe(outputEl, {childList: true});\n",
       "}}\n",
       "\n",
       "                        })\n",
       "                };\n",
       "                });\n",
       "            </script>\n",
       "        </div>"
      ]
     },
     "metadata": {},
     "output_type": "display_data"
    }
   ],
   "source": [
    "predict_random_val_sentence()"
   ]
  },
  {
   "cell_type": "code",
   "execution_count": 74,
   "metadata": {},
   "outputs": [
    {
     "name": "stdout",
     "output_type": "stream",
     "text": [
      "Input: well hes a criminal and a killer\n",
      "Predicted translation: खैर वह एक अंगूठी और एक हत्यारा है \n",
      "Actual translation: खैर वह एक अपराधी है और एक हत्यारा है\n"
     ]
    },
    {
     "data": {
      "application/vnd.plotly.v1+json": {
       "config": {
        "linkText": "Export to plot.ly",
        "plotlyServerURL": "https://plot.ly",
        "showLink": false
       },
       "data": [
        {
         "colorscale": "Reds",
         "type": "heatmap",
         "uid": "192e1643-729e-491b-aa2c-723659434e68",
         "x": [
          "well",
          "hes",
          "a",
          "criminal",
          "and",
          "a",
          "killer"
         ],
         "y": [
          "खैर",
          "वह",
          "एक",
          "अंगूठी",
          "और",
          "एक",
          "हत्यारा",
          "है"
         ],
         "z": [
          [
           0.3922831416130066,
           0.2159709632396698,
           0.06395503133535385,
           0.04782241955399513,
           0.03308650478720665,
           0.0145017821341753,
           0.053671110421419144
          ],
          [
           0.0710546001791954,
           0.3527582585811615,
           0.10812507569789886,
           0.07822593301534653,
           0.04676432907581329,
           0.027597684413194656,
           0.04451017081737518
          ],
          [
           0.03509385883808136,
           0.19010411202907562,
           0.14799340069293976,
           0.11625077575445175,
           0.08905687928199768,
           0.03532101958990097,
           0.08665536344051361
          ],
          [
           0.011097254231572151,
           0.023999739438295364,
           0.02548966184258461,
           0.3176459074020386,
           0.09382986277341843,
           0.0299113430082798,
           0.3780585527420044
          ],
          [
           0.023065313696861267,
           0.03584640473127365,
           0.03246738389134407,
           0.15947937965393066,
           0.168477863073349,
           0.0703326016664505,
           0.20569667220115662
          ],
          [
           0.015776414424180984,
           0.04469390958547592,
           0.03441697359085083,
           0.06635689735412598,
           0.08003222197294235,
           0.05739680305123329,
           0.1310785561800003
          ],
          [
           0.004399968311190605,
           0.003122650785371661,
           0.00630364753305912,
           0.05652877688407898,
           0.01745363511145115,
           0.013540958054363728,
           0.31457963585853577
          ],
          [
           0.011799123138189316,
           0.011441458947956562,
           0.013316286727786064,
           0.06940503418445587,
           0.0579092837870121,
           0.046023450791835785,
           0.15333420038223267
          ]
         ]
        }
       ],
       "layout": {}
      },
      "text/html": [
       "<div>\n",
       "        \n",
       "        \n",
       "            <div id=\"7f644e52-f3a7-477d-a39d-c089f989d515\" class=\"plotly-graph-div\" style=\"height:525px; width:100%;\"></div>\n",
       "            <script type=\"text/javascript\">\n",
       "                require([\"plotly\"], function(Plotly) {\n",
       "                    window.PLOTLYENV=window.PLOTLYENV || {};\n",
       "                    window.PLOTLYENV.BASE_URL='https://plot.ly';\n",
       "                    \n",
       "                if (document.getElementById(\"7f644e52-f3a7-477d-a39d-c089f989d515\")) {\n",
       "                    Plotly.newPlot(\n",
       "                        '7f644e52-f3a7-477d-a39d-c089f989d515',\n",
       "                        [{\"colorscale\": \"Reds\", \"type\": \"heatmap\", \"uid\": \"192e1643-729e-491b-aa2c-723659434e68\", \"x\": [\"well\", \"hes\", \"a\", \"criminal\", \"and\", \"a\", \"killer\"], \"y\": [\"\\u0916\\u0948\\u0930\", \"\\u0935\\u0939\", \"\\u090f\\u0915\", \"\\u0905\\u0902\\u0917\\u0942\\u0920\\u0940\", \"\\u0914\\u0930\", \"\\u090f\\u0915\", \"\\u0939\\u0924\\u094d\\u092f\\u093e\\u0930\\u093e\", \"\\u0939\\u0948\"], \"z\": [[0.3922831416130066, 0.2159709632396698, 0.06395503133535385, 0.04782241955399513, 0.03308650478720665, 0.0145017821341753, 0.053671110421419144], [0.0710546001791954, 0.3527582585811615, 0.10812507569789886, 0.07822593301534653, 0.04676432907581329, 0.027597684413194656, 0.04451017081737518], [0.03509385883808136, 0.19010411202907562, 0.14799340069293976, 0.11625077575445175, 0.08905687928199768, 0.03532101958990097, 0.08665536344051361], [0.011097254231572151, 0.023999739438295364, 0.02548966184258461, 0.3176459074020386, 0.09382986277341843, 0.0299113430082798, 0.3780585527420044], [0.023065313696861267, 0.03584640473127365, 0.03246738389134407, 0.15947937965393066, 0.168477863073349, 0.0703326016664505, 0.20569667220115662], [0.015776414424180984, 0.04469390958547592, 0.03441697359085083, 0.06635689735412598, 0.08003222197294235, 0.05739680305123329, 0.1310785561800003], [0.004399968311190605, 0.003122650785371661, 0.00630364753305912, 0.05652877688407898, 0.01745363511145115, 0.013540958054363728, 0.31457963585853577], [0.011799123138189316, 0.011441458947956562, 0.013316286727786064, 0.06940503418445587, 0.0579092837870121, 0.046023450791835785, 0.15333420038223267]]}],\n",
       "                        {},\n",
       "                        {\"showLink\": false, \"linkText\": \"Export to plot.ly\", \"plotlyServerURL\": \"https://plot.ly\", \"responsive\": true}\n",
       "                    ).then(function(){\n",
       "                            \n",
       "var gd = document.getElementById('7f644e52-f3a7-477d-a39d-c089f989d515');\n",
       "var x = new MutationObserver(function (mutations, observer) {{\n",
       "        var display = window.getComputedStyle(gd).display;\n",
       "        if (!display || display === 'none') {{\n",
       "            console.log([gd, 'removed!']);\n",
       "            Plotly.purge(gd);\n",
       "            observer.disconnect();\n",
       "        }}\n",
       "}});\n",
       "\n",
       "// Listen for the removal of the full notebook cells\n",
       "var notebookContainer = gd.closest('#notebook-container');\n",
       "if (notebookContainer) {{\n",
       "    x.observe(notebookContainer, {childList: true});\n",
       "}}\n",
       "\n",
       "// Listen for the clearing of the current output cell\n",
       "var outputEl = gd.closest('.output');\n",
       "if (outputEl) {{\n",
       "    x.observe(outputEl, {childList: true});\n",
       "}}\n",
       "\n",
       "                        })\n",
       "                };\n",
       "                });\n",
       "            </script>\n",
       "        </div>"
      ]
     },
     "metadata": {},
     "output_type": "display_data"
    }
   ],
   "source": [
    "predict_random_val_sentence()"
   ]
  },
  {
   "cell_type": "code",
   "execution_count": 75,
   "metadata": {},
   "outputs": [
    {
     "name": "stdout",
     "output_type": "stream",
     "text": [
      "Input: and take out the vermin\n",
      "Predicted translation: और कीड़े बाहर ले \n",
      "Actual translation: और कीड़े बाहर ले\n"
     ]
    },
    {
     "data": {
      "application/vnd.plotly.v1+json": {
       "config": {
        "linkText": "Export to plot.ly",
        "plotlyServerURL": "https://plot.ly",
        "showLink": false
       },
       "data": [
        {
         "colorscale": "Reds",
         "type": "heatmap",
         "uid": "bb5d5453-70dc-4f8a-8523-bf7bb73c6499",
         "x": [
          "and",
          "take",
          "out",
          "the",
          "vermin"
         ],
         "y": [
          "और",
          "कीड़े",
          "बाहर",
          "ले"
         ],
         "z": [
          [
           0.36696135997772217,
           0.056043919175863266,
           0.07026861608028412,
           0.026203906163573265,
           0.26293185353279114
          ],
          [
           0.04337121918797493,
           0.05437706410884857,
           0.1205863356590271,
           0.017812389880418777,
           0.5232570171356201
          ],
          [
           0.015303034335374832,
           0.12207242101430893,
           0.1700562685728073,
           0.1557793766260147,
           0.15475930273532867
          ],
          [
           0.01571829244494438,
           0.16301876306533813,
           0.10582111775875092,
           0.14413224160671234,
           0.048490263521671295
          ]
         ]
        }
       ],
       "layout": {}
      },
      "text/html": [
       "<div>\n",
       "        \n",
       "        \n",
       "            <div id=\"45134918-ffac-4569-9745-5ccf45667f30\" class=\"plotly-graph-div\" style=\"height:525px; width:100%;\"></div>\n",
       "            <script type=\"text/javascript\">\n",
       "                require([\"plotly\"], function(Plotly) {\n",
       "                    window.PLOTLYENV=window.PLOTLYENV || {};\n",
       "                    window.PLOTLYENV.BASE_URL='https://plot.ly';\n",
       "                    \n",
       "                if (document.getElementById(\"45134918-ffac-4569-9745-5ccf45667f30\")) {\n",
       "                    Plotly.newPlot(\n",
       "                        '45134918-ffac-4569-9745-5ccf45667f30',\n",
       "                        [{\"colorscale\": \"Reds\", \"type\": \"heatmap\", \"uid\": \"bb5d5453-70dc-4f8a-8523-bf7bb73c6499\", \"x\": [\"and\", \"take\", \"out\", \"the\", \"vermin\"], \"y\": [\"\\u0914\\u0930\", \"\\u0915\\u0940\\u0921\\u093c\\u0947\", \"\\u092c\\u093e\\u0939\\u0930\", \"\\u0932\\u0947\"], \"z\": [[0.36696135997772217, 0.056043919175863266, 0.07026861608028412, 0.026203906163573265, 0.26293185353279114], [0.04337121918797493, 0.05437706410884857, 0.1205863356590271, 0.017812389880418777, 0.5232570171356201], [0.015303034335374832, 0.12207242101430893, 0.1700562685728073, 0.1557793766260147, 0.15475930273532867], [0.01571829244494438, 0.16301876306533813, 0.10582111775875092, 0.14413224160671234, 0.048490263521671295]]}],\n",
       "                        {},\n",
       "                        {\"showLink\": false, \"linkText\": \"Export to plot.ly\", \"plotlyServerURL\": \"https://plot.ly\", \"responsive\": true}\n",
       "                    ).then(function(){\n",
       "                            \n",
       "var gd = document.getElementById('45134918-ffac-4569-9745-5ccf45667f30');\n",
       "var x = new MutationObserver(function (mutations, observer) {{\n",
       "        var display = window.getComputedStyle(gd).display;\n",
       "        if (!display || display === 'none') {{\n",
       "            console.log([gd, 'removed!']);\n",
       "            Plotly.purge(gd);\n",
       "            observer.disconnect();\n",
       "        }}\n",
       "}});\n",
       "\n",
       "// Listen for the removal of the full notebook cells\n",
       "var notebookContainer = gd.closest('#notebook-container');\n",
       "if (notebookContainer) {{\n",
       "    x.observe(notebookContainer, {childList: true});\n",
       "}}\n",
       "\n",
       "// Listen for the clearing of the current output cell\n",
       "var outputEl = gd.closest('.output');\n",
       "if (outputEl) {{\n",
       "    x.observe(outputEl, {childList: true});\n",
       "}}\n",
       "\n",
       "                        })\n",
       "                };\n",
       "                });\n",
       "            </script>\n",
       "        </div>"
      ]
     },
     "metadata": {},
     "output_type": "display_data"
    }
   ],
   "source": [
    "predict_random_val_sentence()"
   ]
  },
  {
   "cell_type": "code",
   "execution_count": 76,
   "metadata": {},
   "outputs": [
    {
     "name": "stdout",
     "output_type": "stream",
     "text": [
      "Input: thats how you brought down the odyssey\n",
      "Predicted translation: यही कारण है कि आप बेवकूफ हो \n",
      "Actual translation: कि आप ओडिसी नीचे लाया कैसे है\n"
     ]
    },
    {
     "data": {
      "application/vnd.plotly.v1+json": {
       "config": {
        "linkText": "Export to plot.ly",
        "plotlyServerURL": "https://plot.ly",
        "showLink": false
       },
       "data": [
        {
         "colorscale": "Reds",
         "type": "heatmap",
         "uid": "4e34bcc8-7689-419a-b9d6-e512563a41a4",
         "x": [
          "thats",
          "how",
          "you",
          "brought",
          "down",
          "the",
          "odyssey"
         ],
         "y": [
          "यही",
          "कारण",
          "है",
          "कि",
          "आप",
          "बेवकूफ",
          "हो"
         ],
         "z": [
          [
           0.2730962932109833,
           0.12328846752643585,
           0.1103382408618927,
           0.02801147662103176,
           0.03797995671629906,
           0.020598482340574265,
           0.1997077912092209
          ],
          [
           0.052157193422317505,
           0.1228862851858139,
           0.19611915946006775,
           0.07598482072353363,
           0.10077843070030212,
           0.01217800285667181,
           0.19357606768608093
          ],
          [
           0.036215875297784805,
           0.1313672810792923,
           0.2056647390127182,
           0.11062382906675339,
           0.09995358437299728,
           0.018937690183520317,
           0.202469140291214
          ],
          [
           0.07243501394987106,
           0.12085928022861481,
           0.30618345737457275,
           0.07166103273630142,
           0.08090531080961227,
           0.030559001490473747,
           0.15638022124767303
          ],
          [
           0.025087976828217506,
           0.0761362835764885,
           0.13355909287929535,
           0.0606539249420166,
           0.11787732690572739,
           0.023464014753699303,
           0.21723516285419464
          ],
          [
           0.008609296754002571,
           0.07280227541923523,
           0.052988264709711075,
           0.07611701637506485,
           0.17973323166370392,
           0.030587101355195045,
           0.2360355705022812
          ],
          [
           0.020904429256916046,
           0.022393401712179184,
           0.02842700108885765,
           0.24583718180656433,
           0.22683025896549225,
           0.12859901785850525,
           0.10418251901865005
          ]
         ]
        }
       ],
       "layout": {}
      },
      "text/html": [
       "<div>\n",
       "        \n",
       "        \n",
       "            <div id=\"8f96e0d5-8001-4e78-9044-cb1b0e305346\" class=\"plotly-graph-div\" style=\"height:525px; width:100%;\"></div>\n",
       "            <script type=\"text/javascript\">\n",
       "                require([\"plotly\"], function(Plotly) {\n",
       "                    window.PLOTLYENV=window.PLOTLYENV || {};\n",
       "                    window.PLOTLYENV.BASE_URL='https://plot.ly';\n",
       "                    \n",
       "                if (document.getElementById(\"8f96e0d5-8001-4e78-9044-cb1b0e305346\")) {\n",
       "                    Plotly.newPlot(\n",
       "                        '8f96e0d5-8001-4e78-9044-cb1b0e305346',\n",
       "                        [{\"colorscale\": \"Reds\", \"type\": \"heatmap\", \"uid\": \"4e34bcc8-7689-419a-b9d6-e512563a41a4\", \"x\": [\"thats\", \"how\", \"you\", \"brought\", \"down\", \"the\", \"odyssey\"], \"y\": [\"\\u092f\\u0939\\u0940\", \"\\u0915\\u093e\\u0930\\u0923\", \"\\u0939\\u0948\", \"\\u0915\\u093f\", \"\\u0906\\u092a\", \"\\u092c\\u0947\\u0935\\u0915\\u0942\\u092b\", \"\\u0939\\u094b\"], \"z\": [[0.2730962932109833, 0.12328846752643585, 0.1103382408618927, 0.02801147662103176, 0.03797995671629906, 0.020598482340574265, 0.1997077912092209], [0.052157193422317505, 0.1228862851858139, 0.19611915946006775, 0.07598482072353363, 0.10077843070030212, 0.01217800285667181, 0.19357606768608093], [0.036215875297784805, 0.1313672810792923, 0.2056647390127182, 0.11062382906675339, 0.09995358437299728, 0.018937690183520317, 0.202469140291214], [0.07243501394987106, 0.12085928022861481, 0.30618345737457275, 0.07166103273630142, 0.08090531080961227, 0.030559001490473747, 0.15638022124767303], [0.025087976828217506, 0.0761362835764885, 0.13355909287929535, 0.0606539249420166, 0.11787732690572739, 0.023464014753699303, 0.21723516285419464], [0.008609296754002571, 0.07280227541923523, 0.052988264709711075, 0.07611701637506485, 0.17973323166370392, 0.030587101355195045, 0.2360355705022812], [0.020904429256916046, 0.022393401712179184, 0.02842700108885765, 0.24583718180656433, 0.22683025896549225, 0.12859901785850525, 0.10418251901865005]]}],\n",
       "                        {},\n",
       "                        {\"showLink\": false, \"linkText\": \"Export to plot.ly\", \"plotlyServerURL\": \"https://plot.ly\", \"responsive\": true}\n",
       "                    ).then(function(){\n",
       "                            \n",
       "var gd = document.getElementById('8f96e0d5-8001-4e78-9044-cb1b0e305346');\n",
       "var x = new MutationObserver(function (mutations, observer) {{\n",
       "        var display = window.getComputedStyle(gd).display;\n",
       "        if (!display || display === 'none') {{\n",
       "            console.log([gd, 'removed!']);\n",
       "            Plotly.purge(gd);\n",
       "            observer.disconnect();\n",
       "        }}\n",
       "}});\n",
       "\n",
       "// Listen for the removal of the full notebook cells\n",
       "var notebookContainer = gd.closest('#notebook-container');\n",
       "if (notebookContainer) {{\n",
       "    x.observe(notebookContainer, {childList: true});\n",
       "}}\n",
       "\n",
       "// Listen for the clearing of the current output cell\n",
       "var outputEl = gd.closest('.output');\n",
       "if (outputEl) {{\n",
       "    x.observe(outputEl, {childList: true});\n",
       "}}\n",
       "\n",
       "                        })\n",
       "                };\n",
       "                });\n",
       "            </script>\n",
       "        </div>"
      ]
     },
     "metadata": {},
     "output_type": "display_data"
    }
   ],
   "source": [
    "predict_random_val_sentence()"
   ]
  },
  {
   "cell_type": "code",
   "execution_count": 77,
   "metadata": {},
   "outputs": [
    {
     "name": "stdout",
     "output_type": "stream",
     "text": [
      "Input: a large one\n",
      "Predicted translation: एक बड़ी एक \n",
      "Actual translation: बड़ा वाला\n"
     ]
    },
    {
     "data": {
      "application/vnd.plotly.v1+json": {
       "config": {
        "linkText": "Export to plot.ly",
        "plotlyServerURL": "https://plot.ly",
        "showLink": false
       },
       "data": [
        {
         "colorscale": "Reds",
         "type": "heatmap",
         "uid": "e3671998-f03f-4402-926c-de5e5f42229c",
         "x": [
          "a",
          "large",
          "one"
         ],
         "y": [
          "एक",
          "बड़ी",
          "एक"
         ],
         "z": [
          [
           0.22754335403442383,
           0.2262004017829895,
           0.09820249676704407
          ],
          [
           0.0685938224196434,
           0.34927284717559814,
           0.14147482812404633
          ],
          [
           0.10366862267255783,
           0.13037435710430145,
           0.24886541068553925
          ]
         ]
        }
       ],
       "layout": {}
      },
      "text/html": [
       "<div>\n",
       "        \n",
       "        \n",
       "            <div id=\"89ae2a2a-f465-4f6d-8a32-d3509dfcc78a\" class=\"plotly-graph-div\" style=\"height:525px; width:100%;\"></div>\n",
       "            <script type=\"text/javascript\">\n",
       "                require([\"plotly\"], function(Plotly) {\n",
       "                    window.PLOTLYENV=window.PLOTLYENV || {};\n",
       "                    window.PLOTLYENV.BASE_URL='https://plot.ly';\n",
       "                    \n",
       "                if (document.getElementById(\"89ae2a2a-f465-4f6d-8a32-d3509dfcc78a\")) {\n",
       "                    Plotly.newPlot(\n",
       "                        '89ae2a2a-f465-4f6d-8a32-d3509dfcc78a',\n",
       "                        [{\"colorscale\": \"Reds\", \"type\": \"heatmap\", \"uid\": \"e3671998-f03f-4402-926c-de5e5f42229c\", \"x\": [\"a\", \"large\", \"one\"], \"y\": [\"\\u090f\\u0915\", \"\\u092c\\u0921\\u093c\\u0940\", \"\\u090f\\u0915\"], \"z\": [[0.22754335403442383, 0.2262004017829895, 0.09820249676704407], [0.0685938224196434, 0.34927284717559814, 0.14147482812404633], [0.10366862267255783, 0.13037435710430145, 0.24886541068553925]]}],\n",
       "                        {},\n",
       "                        {\"showLink\": false, \"linkText\": \"Export to plot.ly\", \"plotlyServerURL\": \"https://plot.ly\", \"responsive\": true}\n",
       "                    ).then(function(){\n",
       "                            \n",
       "var gd = document.getElementById('89ae2a2a-f465-4f6d-8a32-d3509dfcc78a');\n",
       "var x = new MutationObserver(function (mutations, observer) {{\n",
       "        var display = window.getComputedStyle(gd).display;\n",
       "        if (!display || display === 'none') {{\n",
       "            console.log([gd, 'removed!']);\n",
       "            Plotly.purge(gd);\n",
       "            observer.disconnect();\n",
       "        }}\n",
       "}});\n",
       "\n",
       "// Listen for the removal of the full notebook cells\n",
       "var notebookContainer = gd.closest('#notebook-container');\n",
       "if (notebookContainer) {{\n",
       "    x.observe(notebookContainer, {childList: true});\n",
       "}}\n",
       "\n",
       "// Listen for the clearing of the current output cell\n",
       "var outputEl = gd.closest('.output');\n",
       "if (outputEl) {{\n",
       "    x.observe(outputEl, {childList: true});\n",
       "}}\n",
       "\n",
       "                        })\n",
       "                };\n",
       "                });\n",
       "            </script>\n",
       "        </div>"
      ]
     },
     "metadata": {},
     "output_type": "display_data"
    }
   ],
   "source": [
    "predict_random_val_sentence()"
   ]
  },
  {
   "cell_type": "code",
   "execution_count": 78,
   "metadata": {},
   "outputs": [
    {
     "name": "stdout",
     "output_type": "stream",
     "text": [
      "Input: ask me again any time\n",
      "Predicted translation: फिर से और समय \n",
      "Actual translation: बढीया है।\n"
     ]
    },
    {
     "data": {
      "application/vnd.plotly.v1+json": {
       "config": {
        "linkText": "Export to plot.ly",
        "plotlyServerURL": "https://plot.ly",
        "showLink": false
       },
       "data": [
        {
         "colorscale": "Reds",
         "type": "heatmap",
         "uid": "e0ceb9c4-48e8-4356-bfff-d370e8287728",
         "x": [
          "ask",
          "me",
          "again",
          "any",
          "time"
         ],
         "y": [
          "फिर",
          "से",
          "और",
          "समय"
         ],
         "z": [
          [
           0.15462371706962585,
           0.17039422690868378,
           0.21514761447906494,
           0.11811105906963348,
           0.07619469612836838
          ],
          [
           0.09776008874177933,
           0.10613042861223221,
           0.19078747928142548,
           0.183844655752182,
           0.16793285310268402
          ],
          [
           0.17166563868522644,
           0.0804448127746582,
           0.14128237962722778,
           0.15434597432613373,
           0.1811928004026413
          ],
          [
           0.17272472381591797,
           0.05592064931988716,
           0.09527335315942764,
           0.11711195856332779,
           0.21675443649291992
          ]
         ]
        }
       ],
       "layout": {}
      },
      "text/html": [
       "<div>\n",
       "        \n",
       "        \n",
       "            <div id=\"a368706d-c008-4b96-8005-bdb19610cf60\" class=\"plotly-graph-div\" style=\"height:525px; width:100%;\"></div>\n",
       "            <script type=\"text/javascript\">\n",
       "                require([\"plotly\"], function(Plotly) {\n",
       "                    window.PLOTLYENV=window.PLOTLYENV || {};\n",
       "                    window.PLOTLYENV.BASE_URL='https://plot.ly';\n",
       "                    \n",
       "                if (document.getElementById(\"a368706d-c008-4b96-8005-bdb19610cf60\")) {\n",
       "                    Plotly.newPlot(\n",
       "                        'a368706d-c008-4b96-8005-bdb19610cf60',\n",
       "                        [{\"colorscale\": \"Reds\", \"type\": \"heatmap\", \"uid\": \"e0ceb9c4-48e8-4356-bfff-d370e8287728\", \"x\": [\"ask\", \"me\", \"again\", \"any\", \"time\"], \"y\": [\"\\u092b\\u093f\\u0930\", \"\\u0938\\u0947\", \"\\u0914\\u0930\", \"\\u0938\\u092e\\u092f\"], \"z\": [[0.15462371706962585, 0.17039422690868378, 0.21514761447906494, 0.11811105906963348, 0.07619469612836838], [0.09776008874177933, 0.10613042861223221, 0.19078747928142548, 0.183844655752182, 0.16793285310268402], [0.17166563868522644, 0.0804448127746582, 0.14128237962722778, 0.15434597432613373, 0.1811928004026413], [0.17272472381591797, 0.05592064931988716, 0.09527335315942764, 0.11711195856332779, 0.21675443649291992]]}],\n",
       "                        {},\n",
       "                        {\"showLink\": false, \"linkText\": \"Export to plot.ly\", \"plotlyServerURL\": \"https://plot.ly\", \"responsive\": true}\n",
       "                    ).then(function(){\n",
       "                            \n",
       "var gd = document.getElementById('a368706d-c008-4b96-8005-bdb19610cf60');\n",
       "var x = new MutationObserver(function (mutations, observer) {{\n",
       "        var display = window.getComputedStyle(gd).display;\n",
       "        if (!display || display === 'none') {{\n",
       "            console.log([gd, 'removed!']);\n",
       "            Plotly.purge(gd);\n",
       "            observer.disconnect();\n",
       "        }}\n",
       "}});\n",
       "\n",
       "// Listen for the removal of the full notebook cells\n",
       "var notebookContainer = gd.closest('#notebook-container');\n",
       "if (notebookContainer) {{\n",
       "    x.observe(notebookContainer, {childList: true});\n",
       "}}\n",
       "\n",
       "// Listen for the clearing of the current output cell\n",
       "var outputEl = gd.closest('.output');\n",
       "if (outputEl) {{\n",
       "    x.observe(outputEl, {childList: true});\n",
       "}}\n",
       "\n",
       "                        })\n",
       "                };\n",
       "                });\n",
       "            </script>\n",
       "        </div>"
      ]
     },
     "metadata": {},
     "output_type": "display_data"
    }
   ],
   "source": [
    "predict_random_val_sentence()"
   ]
  },
  {
   "cell_type": "code",
   "execution_count": 79,
   "metadata": {},
   "outputs": [
    {
     "name": "stdout",
     "output_type": "stream",
     "text": [
      "Input: pull back\n",
      "Predicted translation: पीछे हटो \n",
      "Actual translation: वापस खींचो\n"
     ]
    },
    {
     "data": {
      "application/vnd.plotly.v1+json": {
       "config": {
        "linkText": "Export to plot.ly",
        "plotlyServerURL": "https://plot.ly",
        "showLink": false
       },
       "data": [
        {
         "colorscale": "Reds",
         "type": "heatmap",
         "uid": "f5703afe-76a3-4983-8eba-59936c19a6de",
         "x": [
          "pull",
          "back"
         ],
         "y": [
          "पीछे",
          "हटो"
         ],
         "z": [
          [
           0.2410881221294403,
           0.2894575595855713
          ],
          [
           0.27225354313850403,
           0.3379071354866028
          ]
         ]
        }
       ],
       "layout": {}
      },
      "text/html": [
       "<div>\n",
       "        \n",
       "        \n",
       "            <div id=\"49c20db0-2bd4-4559-a27f-5d570b732236\" class=\"plotly-graph-div\" style=\"height:525px; width:100%;\"></div>\n",
       "            <script type=\"text/javascript\">\n",
       "                require([\"plotly\"], function(Plotly) {\n",
       "                    window.PLOTLYENV=window.PLOTLYENV || {};\n",
       "                    window.PLOTLYENV.BASE_URL='https://plot.ly';\n",
       "                    \n",
       "                if (document.getElementById(\"49c20db0-2bd4-4559-a27f-5d570b732236\")) {\n",
       "                    Plotly.newPlot(\n",
       "                        '49c20db0-2bd4-4559-a27f-5d570b732236',\n",
       "                        [{\"colorscale\": \"Reds\", \"type\": \"heatmap\", \"uid\": \"f5703afe-76a3-4983-8eba-59936c19a6de\", \"x\": [\"pull\", \"back\"], \"y\": [\"\\u092a\\u0940\\u091b\\u0947\", \"\\u0939\\u091f\\u094b\"], \"z\": [[0.2410881221294403, 0.2894575595855713], [0.27225354313850403, 0.3379071354866028]]}],\n",
       "                        {},\n",
       "                        {\"showLink\": false, \"linkText\": \"Export to plot.ly\", \"plotlyServerURL\": \"https://plot.ly\", \"responsive\": true}\n",
       "                    ).then(function(){\n",
       "                            \n",
       "var gd = document.getElementById('49c20db0-2bd4-4559-a27f-5d570b732236');\n",
       "var x = new MutationObserver(function (mutations, observer) {{\n",
       "        var display = window.getComputedStyle(gd).display;\n",
       "        if (!display || display === 'none') {{\n",
       "            console.log([gd, 'removed!']);\n",
       "            Plotly.purge(gd);\n",
       "            observer.disconnect();\n",
       "        }}\n",
       "}});\n",
       "\n",
       "// Listen for the removal of the full notebook cells\n",
       "var notebookContainer = gd.closest('#notebook-container');\n",
       "if (notebookContainer) {{\n",
       "    x.observe(notebookContainer, {childList: true});\n",
       "}}\n",
       "\n",
       "// Listen for the clearing of the current output cell\n",
       "var outputEl = gd.closest('.output');\n",
       "if (outputEl) {{\n",
       "    x.observe(outputEl, {childList: true});\n",
       "}}\n",
       "\n",
       "                        })\n",
       "                };\n",
       "                });\n",
       "            </script>\n",
       "        </div>"
      ]
     },
     "metadata": {},
     "output_type": "display_data"
    }
   ],
   "source": [
    "predict_random_val_sentence()"
   ]
  },
  {
   "cell_type": "code",
   "execution_count": 80,
   "metadata": {},
   "outputs": [
    {
     "name": "stdout",
     "output_type": "stream",
     "text": [
      "Input: actually dont say that all right\n",
      "Predicted translation: नहीं यह सब ठीक नहीं है कि \n",
      "Actual translation: बहुत अच्छे। वैसे वह मत कहना ठीक\n"
     ]
    },
    {
     "data": {
      "application/vnd.plotly.v1+json": {
       "config": {
        "linkText": "Export to plot.ly",
        "plotlyServerURL": "https://plot.ly",
        "showLink": false
       },
       "data": [
        {
         "colorscale": "Reds",
         "type": "heatmap",
         "uid": "762d638c-ff3d-4321-8669-efe2b90451c6",
         "x": [
          "actually",
          "dont",
          "say",
          "that",
          "all",
          "right"
         ],
         "y": [
          "नहीं",
          "यह",
          "सब",
          "ठीक",
          "नहीं",
          "है",
          "कि"
         ],
         "z": [
          [
           0.4832989275455475,
           0.03504406288266182,
           0.09745747596025467,
           0.0548730306327343,
           0.04867665097117424,
           0.06790398806333542
          ],
          [
           0.289124071598053,
           0.04090088978409767,
           0.12339994311332703,
           0.09856446832418442,
           0.11494077742099762,
           0.09981530159711838
          ],
          [
           0.0522661916911602,
           0.047918643802404404,
           0.10065264254808426,
           0.18181195855140686,
           0.19078674912452698,
           0.15081629157066345
          ],
          [
           0.022179095074534416,
           0.06586622446775436,
           0.20960013568401337,
           0.062114592641592026,
           0.13559366762638092,
           0.12992024421691895
          ],
          [
           0.025310151278972626,
           0.0660024881362915,
           0.23871441185474396,
           0.028656506910920143,
           0.05841146036982536,
           0.05340147390961647
          ],
          [
           0.018254270777106285,
           0.11095256358385086,
           0.1385771632194519,
           0.023447444662451744,
           0.04229504615068436,
           0.05048710107803345
          ],
          [
           0.014516129158437252,
           0.04646473005414009,
           0.044582661241292953,
           0.04531818628311157,
           0.08298378437757492,
           0.05812825262546539
          ]
         ]
        }
       ],
       "layout": {}
      },
      "text/html": [
       "<div>\n",
       "        \n",
       "        \n",
       "            <div id=\"12fce15a-a1ac-4b4e-bbe3-58ac326209f6\" class=\"plotly-graph-div\" style=\"height:525px; width:100%;\"></div>\n",
       "            <script type=\"text/javascript\">\n",
       "                require([\"plotly\"], function(Plotly) {\n",
       "                    window.PLOTLYENV=window.PLOTLYENV || {};\n",
       "                    window.PLOTLYENV.BASE_URL='https://plot.ly';\n",
       "                    \n",
       "                if (document.getElementById(\"12fce15a-a1ac-4b4e-bbe3-58ac326209f6\")) {\n",
       "                    Plotly.newPlot(\n",
       "                        '12fce15a-a1ac-4b4e-bbe3-58ac326209f6',\n",
       "                        [{\"colorscale\": \"Reds\", \"type\": \"heatmap\", \"uid\": \"762d638c-ff3d-4321-8669-efe2b90451c6\", \"x\": [\"actually\", \"dont\", \"say\", \"that\", \"all\", \"right\"], \"y\": [\"\\u0928\\u0939\\u0940\\u0902\", \"\\u092f\\u0939\", \"\\u0938\\u092c\", \"\\u0920\\u0940\\u0915\", \"\\u0928\\u0939\\u0940\\u0902\", \"\\u0939\\u0948\", \"\\u0915\\u093f\"], \"z\": [[0.4832989275455475, 0.03504406288266182, 0.09745747596025467, 0.0548730306327343, 0.04867665097117424, 0.06790398806333542], [0.289124071598053, 0.04090088978409767, 0.12339994311332703, 0.09856446832418442, 0.11494077742099762, 0.09981530159711838], [0.0522661916911602, 0.047918643802404404, 0.10065264254808426, 0.18181195855140686, 0.19078674912452698, 0.15081629157066345], [0.022179095074534416, 0.06586622446775436, 0.20960013568401337, 0.062114592641592026, 0.13559366762638092, 0.12992024421691895], [0.025310151278972626, 0.0660024881362915, 0.23871441185474396, 0.028656506910920143, 0.05841146036982536, 0.05340147390961647], [0.018254270777106285, 0.11095256358385086, 0.1385771632194519, 0.023447444662451744, 0.04229504615068436, 0.05048710107803345], [0.014516129158437252, 0.04646473005414009, 0.044582661241292953, 0.04531818628311157, 0.08298378437757492, 0.05812825262546539]]}],\n",
       "                        {},\n",
       "                        {\"showLink\": false, \"linkText\": \"Export to plot.ly\", \"plotlyServerURL\": \"https://plot.ly\", \"responsive\": true}\n",
       "                    ).then(function(){\n",
       "                            \n",
       "var gd = document.getElementById('12fce15a-a1ac-4b4e-bbe3-58ac326209f6');\n",
       "var x = new MutationObserver(function (mutations, observer) {{\n",
       "        var display = window.getComputedStyle(gd).display;\n",
       "        if (!display || display === 'none') {{\n",
       "            console.log([gd, 'removed!']);\n",
       "            Plotly.purge(gd);\n",
       "            observer.disconnect();\n",
       "        }}\n",
       "}});\n",
       "\n",
       "// Listen for the removal of the full notebook cells\n",
       "var notebookContainer = gd.closest('#notebook-container');\n",
       "if (notebookContainer) {{\n",
       "    x.observe(notebookContainer, {childList: true});\n",
       "}}\n",
       "\n",
       "// Listen for the clearing of the current output cell\n",
       "var outputEl = gd.closest('.output');\n",
       "if (outputEl) {{\n",
       "    x.observe(outputEl, {childList: true});\n",
       "}}\n",
       "\n",
       "                        })\n",
       "                };\n",
       "                });\n",
       "            </script>\n",
       "        </div>"
      ]
     },
     "metadata": {},
     "output_type": "display_data"
    }
   ],
   "source": [
    "predict_random_val_sentence()"
   ]
  },
  {
   "cell_type": "code",
   "execution_count": 81,
   "metadata": {},
   "outputs": [
    {
     "name": "stdout",
     "output_type": "stream",
     "text": [
      "Input: i knew who it was\n",
      "Predicted translation: मैं जानता हूँ कि यह वास्तव में था \n",
      "Actual translation: मुझे पता था की वो आप थे\n"
     ]
    },
    {
     "data": {
      "application/vnd.plotly.v1+json": {
       "config": {
        "linkText": "Export to plot.ly",
        "plotlyServerURL": "https://plot.ly",
        "showLink": false
       },
       "data": [
        {
         "colorscale": "Reds",
         "type": "heatmap",
         "uid": "6a46745a-020b-4670-80da-71c7cfe6da6e",
         "x": [
          "i",
          "knew",
          "who",
          "it",
          "was"
         ],
         "y": [
          "मैं",
          "जानता",
          "हूँ",
          "कि",
          "यह",
          "वास्तव",
          "में",
          "था"
         ],
         "z": [
          [
           0.3787180483341217,
           0.164581298828125,
           0.09341996908187866,
           0.12300675362348557,
           0.04104483872652054
          ],
          [
           0.10577606409788132,
           0.16563409566879272,
           0.1273604780435562,
           0.22924669086933136,
           0.018887529149651527
          ],
          [
           0.03874496743083,
           0.1265244036912918,
           0.1632102131843567,
           0.17770017683506012,
           0.023179294541478157
          ],
          [
           0.03547603636980057,
           0.11424856632947922,
           0.17807026207447052,
           0.18245084583759308,
           0.08093932271003723
          ],
          [
           0.014370876364409924,
           0.03906453028321266,
           0.07759293913841248,
           0.08190422505140305,
           0.045322928577661514
          ],
          [
           0.007566359825432301,
           0.027153169736266136,
           0.06543481349945068,
           0.040444035083055496,
           0.04019704461097717
          ],
          [
           0.011767152696847916,
           0.04418995976448059,
           0.06372307986021042,
           0.025320304557681084,
           0.08938635885715485
          ],
          [
           0.010056513361632824,
           0.029487263411283493,
           0.053959667682647705,
           0.04926501214504242,
           0.055203475058078766
          ]
         ]
        }
       ],
       "layout": {}
      },
      "text/html": [
       "<div>\n",
       "        \n",
       "        \n",
       "            <div id=\"1360cbba-b20b-46f1-b683-12b6b4e2db54\" class=\"plotly-graph-div\" style=\"height:525px; width:100%;\"></div>\n",
       "            <script type=\"text/javascript\">\n",
       "                require([\"plotly\"], function(Plotly) {\n",
       "                    window.PLOTLYENV=window.PLOTLYENV || {};\n",
       "                    window.PLOTLYENV.BASE_URL='https://plot.ly';\n",
       "                    \n",
       "                if (document.getElementById(\"1360cbba-b20b-46f1-b683-12b6b4e2db54\")) {\n",
       "                    Plotly.newPlot(\n",
       "                        '1360cbba-b20b-46f1-b683-12b6b4e2db54',\n",
       "                        [{\"colorscale\": \"Reds\", \"type\": \"heatmap\", \"uid\": \"6a46745a-020b-4670-80da-71c7cfe6da6e\", \"x\": [\"i\", \"knew\", \"who\", \"it\", \"was\"], \"y\": [\"\\u092e\\u0948\\u0902\", \"\\u091c\\u093e\\u0928\\u0924\\u093e\", \"\\u0939\\u0942\\u0901\", \"\\u0915\\u093f\", \"\\u092f\\u0939\", \"\\u0935\\u093e\\u0938\\u094d\\u0924\\u0935\", \"\\u092e\\u0947\\u0902\", \"\\u0925\\u093e\"], \"z\": [[0.3787180483341217, 0.164581298828125, 0.09341996908187866, 0.12300675362348557, 0.04104483872652054], [0.10577606409788132, 0.16563409566879272, 0.1273604780435562, 0.22924669086933136, 0.018887529149651527], [0.03874496743083, 0.1265244036912918, 0.1632102131843567, 0.17770017683506012, 0.023179294541478157], [0.03547603636980057, 0.11424856632947922, 0.17807026207447052, 0.18245084583759308, 0.08093932271003723], [0.014370876364409924, 0.03906453028321266, 0.07759293913841248, 0.08190422505140305, 0.045322928577661514], [0.007566359825432301, 0.027153169736266136, 0.06543481349945068, 0.040444035083055496, 0.04019704461097717], [0.011767152696847916, 0.04418995976448059, 0.06372307986021042, 0.025320304557681084, 0.08938635885715485], [0.010056513361632824, 0.029487263411283493, 0.053959667682647705, 0.04926501214504242, 0.055203475058078766]]}],\n",
       "                        {},\n",
       "                        {\"showLink\": false, \"linkText\": \"Export to plot.ly\", \"plotlyServerURL\": \"https://plot.ly\", \"responsive\": true}\n",
       "                    ).then(function(){\n",
       "                            \n",
       "var gd = document.getElementById('1360cbba-b20b-46f1-b683-12b6b4e2db54');\n",
       "var x = new MutationObserver(function (mutations, observer) {{\n",
       "        var display = window.getComputedStyle(gd).display;\n",
       "        if (!display || display === 'none') {{\n",
       "            console.log([gd, 'removed!']);\n",
       "            Plotly.purge(gd);\n",
       "            observer.disconnect();\n",
       "        }}\n",
       "}});\n",
       "\n",
       "// Listen for the removal of the full notebook cells\n",
       "var notebookContainer = gd.closest('#notebook-container');\n",
       "if (notebookContainer) {{\n",
       "    x.observe(notebookContainer, {childList: true});\n",
       "}}\n",
       "\n",
       "// Listen for the clearing of the current output cell\n",
       "var outputEl = gd.closest('.output');\n",
       "if (outputEl) {{\n",
       "    x.observe(outputEl, {childList: true});\n",
       "}}\n",
       "\n",
       "                        })\n",
       "                };\n",
       "                });\n",
       "            </script>\n",
       "        </div>"
      ]
     },
     "metadata": {},
     "output_type": "display_data"
    }
   ],
   "source": [
    "predict_random_val_sentence()"
   ]
  },
  {
   "cell_type": "code",
   "execution_count": 82,
   "metadata": {},
   "outputs": [
    {
     "name": "stdout",
     "output_type": "stream",
     "text": [
      "Input: we have to find another way\n",
      "Predicted translation: हम एक और रास्ता खोजने के लिए है \n",
      "Actual translation: हम दूसरा रास्ता खोजने के लिए है\n"
     ]
    },
    {
     "data": {
      "application/vnd.plotly.v1+json": {
       "config": {
        "linkText": "Export to plot.ly",
        "plotlyServerURL": "https://plot.ly",
        "showLink": false
       },
       "data": [
        {
         "colorscale": "Reds",
         "type": "heatmap",
         "uid": "793fef08-1a29-4016-a8f9-eb2b1140361e",
         "x": [
          "we",
          "have",
          "to",
          "find",
          "another",
          "way"
         ],
         "y": [
          "हम",
          "एक",
          "और",
          "रास्ता",
          "खोजने",
          "के",
          "लिए",
          "है"
         ],
         "z": [
          [
           0.2741257846355438,
           0.081280417740345,
           0.030561305582523346,
           0.09350234270095825,
           0.09850625693798065,
           0.09474726766347885
          ],
          [
           0.08151096850633621,
           0.02418615110218525,
           0.010140236467123032,
           0.06996379047632217,
           0.2710166871547699,
           0.18649625778198242
          ],
          [
           0.029442831873893738,
           0.009150494821369648,
           0.013898502103984356,
           0.11438392847776413,
           0.2359178364276886,
           0.33469972014427185
          ],
          [
           0.011150667443871498,
           0.024413365870714188,
           0.01985282078385353,
           0.13354209065437317,
           0.06351703405380249,
           0.37791988253593445
          ],
          [
           0.01906341314315796,
           0.03177688643336296,
           0.04065294563770294,
           0.2081722468137741,
           0.08260971307754517,
           0.2550971508026123
          ],
          [
           0.037015706300735474,
           0.10294793546199799,
           0.10167056322097778,
           0.15967802703380585,
           0.05281922593712807,
           0.13387539982795715
          ],
          [
           0.027377402409911156,
           0.06723615527153015,
           0.24083080887794495,
           0.08378469198942184,
           0.03224976733326912,
           0.04298371821641922
          ],
          [
           0.026485761627554893,
           0.11703996360301971,
           0.24954365193843842,
           0.07322274148464203,
           0.03457236289978027,
           0.06651848554611206
          ]
         ]
        }
       ],
       "layout": {}
      },
      "text/html": [
       "<div>\n",
       "        \n",
       "        \n",
       "            <div id=\"fcefa2bd-ecac-4847-bd4b-e414c2aca371\" class=\"plotly-graph-div\" style=\"height:525px; width:100%;\"></div>\n",
       "            <script type=\"text/javascript\">\n",
       "                require([\"plotly\"], function(Plotly) {\n",
       "                    window.PLOTLYENV=window.PLOTLYENV || {};\n",
       "                    window.PLOTLYENV.BASE_URL='https://plot.ly';\n",
       "                    \n",
       "                if (document.getElementById(\"fcefa2bd-ecac-4847-bd4b-e414c2aca371\")) {\n",
       "                    Plotly.newPlot(\n",
       "                        'fcefa2bd-ecac-4847-bd4b-e414c2aca371',\n",
       "                        [{\"colorscale\": \"Reds\", \"type\": \"heatmap\", \"uid\": \"793fef08-1a29-4016-a8f9-eb2b1140361e\", \"x\": [\"we\", \"have\", \"to\", \"find\", \"another\", \"way\"], \"y\": [\"\\u0939\\u092e\", \"\\u090f\\u0915\", \"\\u0914\\u0930\", \"\\u0930\\u093e\\u0938\\u094d\\u0924\\u093e\", \"\\u0916\\u094b\\u091c\\u0928\\u0947\", \"\\u0915\\u0947\", \"\\u0932\\u093f\\u090f\", \"\\u0939\\u0948\"], \"z\": [[0.2741257846355438, 0.081280417740345, 0.030561305582523346, 0.09350234270095825, 0.09850625693798065, 0.09474726766347885], [0.08151096850633621, 0.02418615110218525, 0.010140236467123032, 0.06996379047632217, 0.2710166871547699, 0.18649625778198242], [0.029442831873893738, 0.009150494821369648, 0.013898502103984356, 0.11438392847776413, 0.2359178364276886, 0.33469972014427185], [0.011150667443871498, 0.024413365870714188, 0.01985282078385353, 0.13354209065437317, 0.06351703405380249, 0.37791988253593445], [0.01906341314315796, 0.03177688643336296, 0.04065294563770294, 0.2081722468137741, 0.08260971307754517, 0.2550971508026123], [0.037015706300735474, 0.10294793546199799, 0.10167056322097778, 0.15967802703380585, 0.05281922593712807, 0.13387539982795715], [0.027377402409911156, 0.06723615527153015, 0.24083080887794495, 0.08378469198942184, 0.03224976733326912, 0.04298371821641922], [0.026485761627554893, 0.11703996360301971, 0.24954365193843842, 0.07322274148464203, 0.03457236289978027, 0.06651848554611206]]}],\n",
       "                        {},\n",
       "                        {\"showLink\": false, \"linkText\": \"Export to plot.ly\", \"plotlyServerURL\": \"https://plot.ly\", \"responsive\": true}\n",
       "                    ).then(function(){\n",
       "                            \n",
       "var gd = document.getElementById('fcefa2bd-ecac-4847-bd4b-e414c2aca371');\n",
       "var x = new MutationObserver(function (mutations, observer) {{\n",
       "        var display = window.getComputedStyle(gd).display;\n",
       "        if (!display || display === 'none') {{\n",
       "            console.log([gd, 'removed!']);\n",
       "            Plotly.purge(gd);\n",
       "            observer.disconnect();\n",
       "        }}\n",
       "}});\n",
       "\n",
       "// Listen for the removal of the full notebook cells\n",
       "var notebookContainer = gd.closest('#notebook-container');\n",
       "if (notebookContainer) {{\n",
       "    x.observe(notebookContainer, {childList: true});\n",
       "}}\n",
       "\n",
       "// Listen for the clearing of the current output cell\n",
       "var outputEl = gd.closest('.output');\n",
       "if (outputEl) {{\n",
       "    x.observe(outputEl, {childList: true});\n",
       "}}\n",
       "\n",
       "                        })\n",
       "                };\n",
       "                });\n",
       "            </script>\n",
       "        </div>"
      ]
     },
     "metadata": {},
     "output_type": "display_data"
    }
   ],
   "source": [
    "predict_random_val_sentence()"
   ]
  },
  {
   "cell_type": "code",
   "execution_count": 84,
   "metadata": {},
   "outputs": [
    {
     "name": "stdout",
     "output_type": "stream",
     "text": [
      "Input: hey youve done a stretch in cashman right\n",
      "Predicted translation: अरे तुम उस में उस पर आया है \n",
      "Actual translation: अरे तुम ने कैशमन में भी सजा काटी है है ना\n"
     ]
    },
    {
     "data": {
      "application/vnd.plotly.v1+json": {
       "config": {
        "linkText": "Export to plot.ly",
        "plotlyServerURL": "https://plot.ly",
        "showLink": false
       },
       "data": [
        {
         "colorscale": "Reds",
         "type": "heatmap",
         "uid": "b3187091-e2e7-4bab-bb81-057ea337fcef",
         "x": [
          "hey",
          "youve",
          "done",
          "a",
          "stretch",
          "in",
          "cashman",
          "right"
         ],
         "y": [
          "अरे",
          "तुम",
          "उस",
          "में",
          "उस",
          "पर",
          "आया",
          "है"
         ],
         "z": [
          [
           0.2919454574584961,
           0.1301477700471878,
           0.04547342285513878,
           0.024591974914073944,
           0.051436278969049454,
           0.02420628070831299,
           0.1997254341840744,
           0.03948283568024635
          ],
          [
           0.035726964473724365,
           0.2711491584777832,
           0.06598993390798569,
           0.039313171058893204,
           0.025872118771076202,
           0.009596134535968304,
           0.2737426161766052,
           0.04291153699159622
          ],
          [
           0.02083880454301834,
           0.1193636879324913,
           0.07494848221540451,
           0.05807749181985855,
           0.036370132118463516,
           0.00960802286863327,
           0.3100982904434204,
           0.061677414923906326
          ],
          [
           0.011781509034335613,
           0.035303995013237,
           0.05000210925936699,
           0.040106937289237976,
           0.20710523426532745,
           0.11502846330404282,
           0.2070465087890625,
           0.14601685106754303
          ],
          [
           0.01720712147653103,
           0.027174247428774834,
           0.07960273325443268,
           0.055238980799913406,
           0.10498684644699097,
           0.15957343578338623,
           0.11092560738325119,
           0.11949747800827026
          ],
          [
           0.0058044916950166225,
           0.01901807077229023,
           0.11481554061174393,
           0.02432352490723133,
           0.21053750813007355,
           0.09776437282562256,
           0.03729230910539627,
           0.07414223253726959
          ],
          [
           0.012110436335206032,
           0.02613295242190361,
           0.10797950625419617,
           0.032832518219947815,
           0.10860417783260345,
           0.17995068430900574,
           0.04558240994811058,
           0.05381516367197037
          ],
          [
           0.010833501815795898,
           0.03980879858136177,
           0.12771378457546234,
           0.021462036296725273,
           0.1871403008699417,
           0.05361398309469223,
           0.03311072662472725,
           0.057993315160274506
          ]
         ]
        }
       ],
       "layout": {}
      },
      "text/html": [
       "<div>\n",
       "        \n",
       "        \n",
       "            <div id=\"b9612a5e-98b0-4057-a41f-5d3ee4d966dc\" class=\"plotly-graph-div\" style=\"height:525px; width:100%;\"></div>\n",
       "            <script type=\"text/javascript\">\n",
       "                require([\"plotly\"], function(Plotly) {\n",
       "                    window.PLOTLYENV=window.PLOTLYENV || {};\n",
       "                    window.PLOTLYENV.BASE_URL='https://plot.ly';\n",
       "                    \n",
       "                if (document.getElementById(\"b9612a5e-98b0-4057-a41f-5d3ee4d966dc\")) {\n",
       "                    Plotly.newPlot(\n",
       "                        'b9612a5e-98b0-4057-a41f-5d3ee4d966dc',\n",
       "                        [{\"colorscale\": \"Reds\", \"type\": \"heatmap\", \"uid\": \"b3187091-e2e7-4bab-bb81-057ea337fcef\", \"x\": [\"hey\", \"youve\", \"done\", \"a\", \"stretch\", \"in\", \"cashman\", \"right\"], \"y\": [\"\\u0905\\u0930\\u0947\", \"\\u0924\\u0941\\u092e\", \"\\u0909\\u0938\", \"\\u092e\\u0947\\u0902\", \"\\u0909\\u0938\", \"\\u092a\\u0930\", \"\\u0906\\u092f\\u093e\", \"\\u0939\\u0948\"], \"z\": [[0.2919454574584961, 0.1301477700471878, 0.04547342285513878, 0.024591974914073944, 0.051436278969049454, 0.02420628070831299, 0.1997254341840744, 0.03948283568024635], [0.035726964473724365, 0.2711491584777832, 0.06598993390798569, 0.039313171058893204, 0.025872118771076202, 0.009596134535968304, 0.2737426161766052, 0.04291153699159622], [0.02083880454301834, 0.1193636879324913, 0.07494848221540451, 0.05807749181985855, 0.036370132118463516, 0.00960802286863327, 0.3100982904434204, 0.061677414923906326], [0.011781509034335613, 0.035303995013237, 0.05000210925936699, 0.040106937289237976, 0.20710523426532745, 0.11502846330404282, 0.2070465087890625, 0.14601685106754303], [0.01720712147653103, 0.027174247428774834, 0.07960273325443268, 0.055238980799913406, 0.10498684644699097, 0.15957343578338623, 0.11092560738325119, 0.11949747800827026], [0.0058044916950166225, 0.01901807077229023, 0.11481554061174393, 0.02432352490723133, 0.21053750813007355, 0.09776437282562256, 0.03729230910539627, 0.07414223253726959], [0.012110436335206032, 0.02613295242190361, 0.10797950625419617, 0.032832518219947815, 0.10860417783260345, 0.17995068430900574, 0.04558240994811058, 0.05381516367197037], [0.010833501815795898, 0.03980879858136177, 0.12771378457546234, 0.021462036296725273, 0.1871403008699417, 0.05361398309469223, 0.03311072662472725, 0.057993315160274506]]}],\n",
       "                        {},\n",
       "                        {\"showLink\": false, \"linkText\": \"Export to plot.ly\", \"plotlyServerURL\": \"https://plot.ly\", \"responsive\": true}\n",
       "                    ).then(function(){\n",
       "                            \n",
       "var gd = document.getElementById('b9612a5e-98b0-4057-a41f-5d3ee4d966dc');\n",
       "var x = new MutationObserver(function (mutations, observer) {{\n",
       "        var display = window.getComputedStyle(gd).display;\n",
       "        if (!display || display === 'none') {{\n",
       "            console.log([gd, 'removed!']);\n",
       "            Plotly.purge(gd);\n",
       "            observer.disconnect();\n",
       "        }}\n",
       "}});\n",
       "\n",
       "// Listen for the removal of the full notebook cells\n",
       "var notebookContainer = gd.closest('#notebook-container');\n",
       "if (notebookContainer) {{\n",
       "    x.observe(notebookContainer, {childList: true});\n",
       "}}\n",
       "\n",
       "// Listen for the clearing of the current output cell\n",
       "var outputEl = gd.closest('.output');\n",
       "if (outputEl) {{\n",
       "    x.observe(outputEl, {childList: true});\n",
       "}}\n",
       "\n",
       "                        })\n",
       "                };\n",
       "                });\n",
       "            </script>\n",
       "        </div>"
      ]
     },
     "metadata": {},
     "output_type": "display_data"
    }
   ],
   "source": [
    "predict_random_val_sentence()"
   ]
  },
  {
   "cell_type": "code",
   "execution_count": 85,
   "metadata": {},
   "outputs": [
    {
     "name": "stdout",
     "output_type": "stream",
     "text": [
      "Input: tyrant they yell so easily\n",
      "Predicted translation: आलसी लोगों को जीतने के \n",
      "Actual translation: तानाशाह वे इतनी आसानी से चिल्लाना\n"
     ]
    },
    {
     "data": {
      "application/vnd.plotly.v1+json": {
       "config": {
        "linkText": "Export to plot.ly",
        "plotlyServerURL": "https://plot.ly",
        "showLink": false
       },
       "data": [
        {
         "colorscale": "Reds",
         "type": "heatmap",
         "uid": "7ff20dde-fbeb-4011-bcb2-c9d9e6b1a681",
         "x": [
          "tyrant",
          "they",
          "yell",
          "so",
          "easily"
         ],
         "y": [
          "आलसी",
          "लोगों",
          "को",
          "जीतने",
          "के"
         ],
         "z": [
          [
           0.4843898415565491,
           0.18611560761928558,
           0.0678047314286232,
           0.04215008765459061,
           0.06743013858795166
          ],
          [
           0.13925036787986755,
           0.48516130447387695,
           0.06805592775344849,
           0.060127731412649155,
           0.0876619964838028
          ],
          [
           0.035562124103307724,
           0.10151373594999313,
           0.1351429671049118,
           0.10988122969865799,
           0.1742006093263626
          ],
          [
           0.061237845569849014,
           0.031269706785678864,
           0.2661513686180115,
           0.0580187626183033,
           0.14405116438865662
          ],
          [
           0.04945371672511101,
           0.020874392241239548,
           0.19220685958862305,
           0.0374358706176281,
           0.09223108738660812
          ]
         ]
        }
       ],
       "layout": {}
      },
      "text/html": [
       "<div>\n",
       "        \n",
       "        \n",
       "            <div id=\"28f4c4c6-857a-4fce-9a37-a31bfdaed534\" class=\"plotly-graph-div\" style=\"height:525px; width:100%;\"></div>\n",
       "            <script type=\"text/javascript\">\n",
       "                require([\"plotly\"], function(Plotly) {\n",
       "                    window.PLOTLYENV=window.PLOTLYENV || {};\n",
       "                    window.PLOTLYENV.BASE_URL='https://plot.ly';\n",
       "                    \n",
       "                if (document.getElementById(\"28f4c4c6-857a-4fce-9a37-a31bfdaed534\")) {\n",
       "                    Plotly.newPlot(\n",
       "                        '28f4c4c6-857a-4fce-9a37-a31bfdaed534',\n",
       "                        [{\"colorscale\": \"Reds\", \"type\": \"heatmap\", \"uid\": \"7ff20dde-fbeb-4011-bcb2-c9d9e6b1a681\", \"x\": [\"tyrant\", \"they\", \"yell\", \"so\", \"easily\"], \"y\": [\"\\u0906\\u0932\\u0938\\u0940\", \"\\u0932\\u094b\\u0917\\u094b\\u0902\", \"\\u0915\\u094b\", \"\\u091c\\u0940\\u0924\\u0928\\u0947\", \"\\u0915\\u0947\"], \"z\": [[0.4843898415565491, 0.18611560761928558, 0.0678047314286232, 0.04215008765459061, 0.06743013858795166], [0.13925036787986755, 0.48516130447387695, 0.06805592775344849, 0.060127731412649155, 0.0876619964838028], [0.035562124103307724, 0.10151373594999313, 0.1351429671049118, 0.10988122969865799, 0.1742006093263626], [0.061237845569849014, 0.031269706785678864, 0.2661513686180115, 0.0580187626183033, 0.14405116438865662], [0.04945371672511101, 0.020874392241239548, 0.19220685958862305, 0.0374358706176281, 0.09223108738660812]]}],\n",
       "                        {},\n",
       "                        {\"showLink\": false, \"linkText\": \"Export to plot.ly\", \"plotlyServerURL\": \"https://plot.ly\", \"responsive\": true}\n",
       "                    ).then(function(){\n",
       "                            \n",
       "var gd = document.getElementById('28f4c4c6-857a-4fce-9a37-a31bfdaed534');\n",
       "var x = new MutationObserver(function (mutations, observer) {{\n",
       "        var display = window.getComputedStyle(gd).display;\n",
       "        if (!display || display === 'none') {{\n",
       "            console.log([gd, 'removed!']);\n",
       "            Plotly.purge(gd);\n",
       "            observer.disconnect();\n",
       "        }}\n",
       "}});\n",
       "\n",
       "// Listen for the removal of the full notebook cells\n",
       "var notebookContainer = gd.closest('#notebook-container');\n",
       "if (notebookContainer) {{\n",
       "    x.observe(notebookContainer, {childList: true});\n",
       "}}\n",
       "\n",
       "// Listen for the clearing of the current output cell\n",
       "var outputEl = gd.closest('.output');\n",
       "if (outputEl) {{\n",
       "    x.observe(outputEl, {childList: true});\n",
       "}}\n",
       "\n",
       "                        })\n",
       "                };\n",
       "                });\n",
       "            </script>\n",
       "        </div>"
      ]
     },
     "metadata": {},
     "output_type": "display_data"
    }
   ],
   "source": [
    "predict_random_val_sentence()"
   ]
  },
  {
   "cell_type": "code",
   "execution_count": 86,
   "metadata": {},
   "outputs": [
    {
     "name": "stdout",
     "output_type": "stream",
     "text": [
      "Input: please tell your sir\n",
      "Predicted translation: कृपया अपनी टीम साहब \n",
      "Actual translation: कृपया अपने सर बता\n"
     ]
    },
    {
     "data": {
      "application/vnd.plotly.v1+json": {
       "config": {
        "linkText": "Export to plot.ly",
        "plotlyServerURL": "https://plot.ly",
        "showLink": false
       },
       "data": [
        {
         "colorscale": "Reds",
         "type": "heatmap",
         "uid": "cf9e032b-a55b-4c11-849c-6e74b3a7753c",
         "x": [
          "please",
          "tell",
          "your",
          "sir"
         ],
         "y": [
          "कृपया",
          "अपनी",
          "टीम",
          "साहब"
         ],
         "z": [
          [
           0.26682430505752563,
           0.17585457861423492,
           0.18315564095973969,
           0.10726998001337051
          ],
          [
           0.08476850390434265,
           0.30710557103157043,
           0.1337142437696457,
           0.23086200654506683
          ],
          [
           0.034419916570186615,
           0.17254243791103363,
           0.044455114752054214,
           0.3938197195529938
          ],
          [
           0.055211104452610016,
           0.17576798796653748,
           0.07278330624103546,
           0.1291615068912506
          ]
         ]
        }
       ],
       "layout": {}
      },
      "text/html": [
       "<div>\n",
       "        \n",
       "        \n",
       "            <div id=\"e50acf7e-c163-4415-81a8-1b2fef4fd425\" class=\"plotly-graph-div\" style=\"height:525px; width:100%;\"></div>\n",
       "            <script type=\"text/javascript\">\n",
       "                require([\"plotly\"], function(Plotly) {\n",
       "                    window.PLOTLYENV=window.PLOTLYENV || {};\n",
       "                    window.PLOTLYENV.BASE_URL='https://plot.ly';\n",
       "                    \n",
       "                if (document.getElementById(\"e50acf7e-c163-4415-81a8-1b2fef4fd425\")) {\n",
       "                    Plotly.newPlot(\n",
       "                        'e50acf7e-c163-4415-81a8-1b2fef4fd425',\n",
       "                        [{\"colorscale\": \"Reds\", \"type\": \"heatmap\", \"uid\": \"cf9e032b-a55b-4c11-849c-6e74b3a7753c\", \"x\": [\"please\", \"tell\", \"your\", \"sir\"], \"y\": [\"\\u0915\\u0943\\u092a\\u092f\\u093e\", \"\\u0905\\u092a\\u0928\\u0940\", \"\\u091f\\u0940\\u092e\", \"\\u0938\\u093e\\u0939\\u092c\"], \"z\": [[0.26682430505752563, 0.17585457861423492, 0.18315564095973969, 0.10726998001337051], [0.08476850390434265, 0.30710557103157043, 0.1337142437696457, 0.23086200654506683], [0.034419916570186615, 0.17254243791103363, 0.044455114752054214, 0.3938197195529938], [0.055211104452610016, 0.17576798796653748, 0.07278330624103546, 0.1291615068912506]]}],\n",
       "                        {},\n",
       "                        {\"showLink\": false, \"linkText\": \"Export to plot.ly\", \"plotlyServerURL\": \"https://plot.ly\", \"responsive\": true}\n",
       "                    ).then(function(){\n",
       "                            \n",
       "var gd = document.getElementById('e50acf7e-c163-4415-81a8-1b2fef4fd425');\n",
       "var x = new MutationObserver(function (mutations, observer) {{\n",
       "        var display = window.getComputedStyle(gd).display;\n",
       "        if (!display || display === 'none') {{\n",
       "            console.log([gd, 'removed!']);\n",
       "            Plotly.purge(gd);\n",
       "            observer.disconnect();\n",
       "        }}\n",
       "}});\n",
       "\n",
       "// Listen for the removal of the full notebook cells\n",
       "var notebookContainer = gd.closest('#notebook-container');\n",
       "if (notebookContainer) {{\n",
       "    x.observe(notebookContainer, {childList: true});\n",
       "}}\n",
       "\n",
       "// Listen for the clearing of the current output cell\n",
       "var outputEl = gd.closest('.output');\n",
       "if (outputEl) {{\n",
       "    x.observe(outputEl, {childList: true});\n",
       "}}\n",
       "\n",
       "                        })\n",
       "                };\n",
       "                });\n",
       "            </script>\n",
       "        </div>"
      ]
     },
     "metadata": {},
     "output_type": "display_data"
    }
   ],
   "source": [
    "predict_random_val_sentence()"
   ]
  },
  {
   "cell_type": "code",
   "execution_count": 87,
   "metadata": {},
   "outputs": [
    {
     "name": "stdout",
     "output_type": "stream",
     "text": [
      "Input: hey i got an appointment\n",
      "Predicted translation: अरे हाँ मैं एक अपॉइंटमेंट है \n",
      "Actual translation: अरे मैं एक नियुक्ति है\n"
     ]
    },
    {
     "data": {
      "application/vnd.plotly.v1+json": {
       "config": {
        "linkText": "Export to plot.ly",
        "plotlyServerURL": "https://plot.ly",
        "showLink": false
       },
       "data": [
        {
         "colorscale": "Reds",
         "type": "heatmap",
         "uid": "4e83e30a-993b-4615-9ed6-8401161b27f9",
         "x": [
          "hey",
          "i",
          "got",
          "an",
          "appointment"
         ],
         "y": [
          "अरे",
          "हाँ",
          "मैं",
          "एक",
          "अपॉइंटमेंट",
          "है"
         ],
         "z": [
          [
           0.37795233726501465,
           0.2222892940044403,
           0.027612857520580292,
           0.025209978222846985,
           0.02819070778787136
          ],
          [
           0.05205750837922096,
           0.45941051840782166,
           0.0186273455619812,
           0.04728590324521065,
           0.016832705587148666
          ],
          [
           0.029019461944699287,
           0.1860824078321457,
           0.03097192570567131,
           0.1077292263507843,
           0.032793670892715454
          ],
          [
           0.029651766642928123,
           0.04690474644303322,
           0.021923964843153954,
           0.052833300083875656,
           0.0461886040866375
          ],
          [
           0.01241348311305046,
           0.012644278816878796,
           0.06592809408903122,
           0.07034710794687271,
           0.19639332592487335
          ],
          [
           0.02233751118183136,
           0.018893985077738762,
           0.2546307444572449,
           0.07615064829587936,
           0.11090860515832901
          ]
         ]
        }
       ],
       "layout": {}
      },
      "text/html": [
       "<div>\n",
       "        \n",
       "        \n",
       "            <div id=\"32d54e2d-b347-4eec-b7c8-b6f557838a56\" class=\"plotly-graph-div\" style=\"height:525px; width:100%;\"></div>\n",
       "            <script type=\"text/javascript\">\n",
       "                require([\"plotly\"], function(Plotly) {\n",
       "                    window.PLOTLYENV=window.PLOTLYENV || {};\n",
       "                    window.PLOTLYENV.BASE_URL='https://plot.ly';\n",
       "                    \n",
       "                if (document.getElementById(\"32d54e2d-b347-4eec-b7c8-b6f557838a56\")) {\n",
       "                    Plotly.newPlot(\n",
       "                        '32d54e2d-b347-4eec-b7c8-b6f557838a56',\n",
       "                        [{\"colorscale\": \"Reds\", \"type\": \"heatmap\", \"uid\": \"4e83e30a-993b-4615-9ed6-8401161b27f9\", \"x\": [\"hey\", \"i\", \"got\", \"an\", \"appointment\"], \"y\": [\"\\u0905\\u0930\\u0947\", \"\\u0939\\u093e\\u0901\", \"\\u092e\\u0948\\u0902\", \"\\u090f\\u0915\", \"\\u0905\\u092a\\u0949\\u0907\\u0902\\u091f\\u092e\\u0947\\u0902\\u091f\", \"\\u0939\\u0948\"], \"z\": [[0.37795233726501465, 0.2222892940044403, 0.027612857520580292, 0.025209978222846985, 0.02819070778787136], [0.05205750837922096, 0.45941051840782166, 0.0186273455619812, 0.04728590324521065, 0.016832705587148666], [0.029019461944699287, 0.1860824078321457, 0.03097192570567131, 0.1077292263507843, 0.032793670892715454], [0.029651766642928123, 0.04690474644303322, 0.021923964843153954, 0.052833300083875656, 0.0461886040866375], [0.01241348311305046, 0.012644278816878796, 0.06592809408903122, 0.07034710794687271, 0.19639332592487335], [0.02233751118183136, 0.018893985077738762, 0.2546307444572449, 0.07615064829587936, 0.11090860515832901]]}],\n",
       "                        {},\n",
       "                        {\"showLink\": false, \"linkText\": \"Export to plot.ly\", \"plotlyServerURL\": \"https://plot.ly\", \"responsive\": true}\n",
       "                    ).then(function(){\n",
       "                            \n",
       "var gd = document.getElementById('32d54e2d-b347-4eec-b7c8-b6f557838a56');\n",
       "var x = new MutationObserver(function (mutations, observer) {{\n",
       "        var display = window.getComputedStyle(gd).display;\n",
       "        if (!display || display === 'none') {{\n",
       "            console.log([gd, 'removed!']);\n",
       "            Plotly.purge(gd);\n",
       "            observer.disconnect();\n",
       "        }}\n",
       "}});\n",
       "\n",
       "// Listen for the removal of the full notebook cells\n",
       "var notebookContainer = gd.closest('#notebook-container');\n",
       "if (notebookContainer) {{\n",
       "    x.observe(notebookContainer, {childList: true});\n",
       "}}\n",
       "\n",
       "// Listen for the clearing of the current output cell\n",
       "var outputEl = gd.closest('.output');\n",
       "if (outputEl) {{\n",
       "    x.observe(outputEl, {childList: true});\n",
       "}}\n",
       "\n",
       "                        })\n",
       "                };\n",
       "                });\n",
       "            </script>\n",
       "        </div>"
      ]
     },
     "metadata": {},
     "output_type": "display_data"
    }
   ],
   "source": [
    "predict_random_val_sentence()"
   ]
  },
  {
   "cell_type": "code",
   "execution_count": 88,
   "metadata": {},
   "outputs": [
    {
     "name": "stdout",
     "output_type": "stream",
     "text": [
      "Input: id better run im on nights\n",
      "Predicted translation: मैं बेहतर रात लाम के लिए यात्रा कर रहा हूँ \n",
      "Actual translation: मुझे जाना होगा मेरी रात की पाली है।\n"
     ]
    },
    {
     "data": {
      "application/vnd.plotly.v1+json": {
       "config": {
        "linkText": "Export to plot.ly",
        "plotlyServerURL": "https://plot.ly",
        "showLink": false
       },
       "data": [
        {
         "colorscale": "Reds",
         "type": "heatmap",
         "uid": "a250c4cc-104a-4245-9fd7-fb50ea7b9544",
         "x": [
          "id",
          "better",
          "run",
          "im",
          "on",
          "nights"
         ],
         "y": [
          "मैं",
          "बेहतर",
          "रात",
          "लाम",
          "के",
          "लिए",
          "यात्रा",
          "कर",
          "रहा",
          "हूँ"
         ],
         "z": [
          [
           0.2638051211833954,
           0.24269743263721466,
           0.11843841522932053,
           0.05485132336616516,
           0.022893382236361504,
           0.06468145549297333
          ],
          [
           0.05807291343808174,
           0.3126629590988159,
           0.1656683087348938,
           0.0688144862651825,
           0.004031197167932987,
           0.12678931653499603
          ],
          [
           0.025161853060126305,
           0.06871812045574188,
           0.22873641550540924,
           0.04509485140442848,
           0.03262034431099892,
           0.35583803057670593
          ],
          [
           0.019142501056194305,
           0.025142986327409744,
           0.16560983657836914,
           0.06142270937561989,
           0.15993712842464447,
           0.14442601799964905
          ],
          [
           0.012215881608426571,
           0.019814489409327507,
           0.11883288621902466,
           0.02223825827240944,
           0.20457187294960022,
           0.06607799977064133
          ],
          [
           0.047846775501966476,
           0.013600988313555717,
           0.028315210714936256,
           0.03639785572886467,
           0.24249477684497833,
           0.02287718653678894
          ],
          [
           0.07347557693719864,
           0.05065435543656349,
           0.06307823210954666,
           0.08780236542224884,
           0.16078931093215942,
           0.03414854034781456
          ],
          [
           0.03230397030711174,
           0.040223848074674606,
           0.10438086837530136,
           0.05431627854704857,
           0.13023042678833008,
           0.057104598730802536
          ],
          [
           0.040573954582214355,
           0.027414949610829353,
           0.06290385127067566,
           0.03395090252161026,
           0.15977492928504944,
           0.06816324591636658
          ],
          [
           0.06392066925764084,
           0.032962627708911896,
           0.08893971890211105,
           0.08161864429712296,
           0.12835635244846344,
           0.06473208218812943
          ]
         ]
        }
       ],
       "layout": {}
      },
      "text/html": [
       "<div>\n",
       "        \n",
       "        \n",
       "            <div id=\"a8ab0e99-53c0-4cb2-b50b-99d3aa918d35\" class=\"plotly-graph-div\" style=\"height:525px; width:100%;\"></div>\n",
       "            <script type=\"text/javascript\">\n",
       "                require([\"plotly\"], function(Plotly) {\n",
       "                    window.PLOTLYENV=window.PLOTLYENV || {};\n",
       "                    window.PLOTLYENV.BASE_URL='https://plot.ly';\n",
       "                    \n",
       "                if (document.getElementById(\"a8ab0e99-53c0-4cb2-b50b-99d3aa918d35\")) {\n",
       "                    Plotly.newPlot(\n",
       "                        'a8ab0e99-53c0-4cb2-b50b-99d3aa918d35',\n",
       "                        [{\"colorscale\": \"Reds\", \"type\": \"heatmap\", \"uid\": \"a250c4cc-104a-4245-9fd7-fb50ea7b9544\", \"x\": [\"id\", \"better\", \"run\", \"im\", \"on\", \"nights\"], \"y\": [\"\\u092e\\u0948\\u0902\", \"\\u092c\\u0947\\u0939\\u0924\\u0930\", \"\\u0930\\u093e\\u0924\", \"\\u0932\\u093e\\u092e\", \"\\u0915\\u0947\", \"\\u0932\\u093f\\u090f\", \"\\u092f\\u093e\\u0924\\u094d\\u0930\\u093e\", \"\\u0915\\u0930\", \"\\u0930\\u0939\\u093e\", \"\\u0939\\u0942\\u0901\"], \"z\": [[0.2638051211833954, 0.24269743263721466, 0.11843841522932053, 0.05485132336616516, 0.022893382236361504, 0.06468145549297333], [0.05807291343808174, 0.3126629590988159, 0.1656683087348938, 0.0688144862651825, 0.004031197167932987, 0.12678931653499603], [0.025161853060126305, 0.06871812045574188, 0.22873641550540924, 0.04509485140442848, 0.03262034431099892, 0.35583803057670593], [0.019142501056194305, 0.025142986327409744, 0.16560983657836914, 0.06142270937561989, 0.15993712842464447, 0.14442601799964905], [0.012215881608426571, 0.019814489409327507, 0.11883288621902466, 0.02223825827240944, 0.20457187294960022, 0.06607799977064133], [0.047846775501966476, 0.013600988313555717, 0.028315210714936256, 0.03639785572886467, 0.24249477684497833, 0.02287718653678894], [0.07347557693719864, 0.05065435543656349, 0.06307823210954666, 0.08780236542224884, 0.16078931093215942, 0.03414854034781456], [0.03230397030711174, 0.040223848074674606, 0.10438086837530136, 0.05431627854704857, 0.13023042678833008, 0.057104598730802536], [0.040573954582214355, 0.027414949610829353, 0.06290385127067566, 0.03395090252161026, 0.15977492928504944, 0.06816324591636658], [0.06392066925764084, 0.032962627708911896, 0.08893971890211105, 0.08161864429712296, 0.12835635244846344, 0.06473208218812943]]}],\n",
       "                        {},\n",
       "                        {\"showLink\": false, \"linkText\": \"Export to plot.ly\", \"plotlyServerURL\": \"https://plot.ly\", \"responsive\": true}\n",
       "                    ).then(function(){\n",
       "                            \n",
       "var gd = document.getElementById('a8ab0e99-53c0-4cb2-b50b-99d3aa918d35');\n",
       "var x = new MutationObserver(function (mutations, observer) {{\n",
       "        var display = window.getComputedStyle(gd).display;\n",
       "        if (!display || display === 'none') {{\n",
       "            console.log([gd, 'removed!']);\n",
       "            Plotly.purge(gd);\n",
       "            observer.disconnect();\n",
       "        }}\n",
       "}});\n",
       "\n",
       "// Listen for the removal of the full notebook cells\n",
       "var notebookContainer = gd.closest('#notebook-container');\n",
       "if (notebookContainer) {{\n",
       "    x.observe(notebookContainer, {childList: true});\n",
       "}}\n",
       "\n",
       "// Listen for the clearing of the current output cell\n",
       "var outputEl = gd.closest('.output');\n",
       "if (outputEl) {{\n",
       "    x.observe(outputEl, {childList: true});\n",
       "}}\n",
       "\n",
       "                        })\n",
       "                };\n",
       "                });\n",
       "            </script>\n",
       "        </div>"
      ]
     },
     "metadata": {},
     "output_type": "display_data"
    }
   ],
   "source": [
    "predict_random_val_sentence()"
   ]
  },
  {
   "cell_type": "code",
   "execution_count": 163,
   "metadata": {},
   "outputs": [
    {
     "name": "stdout",
     "output_type": "stream",
     "text": [
      "Input: but theyre not\n",
      "Predicted translation: लेकिन वे नहीं कर रहे हैं। \n",
      "Actual translation: लेकिन वे नहीं कर रहे हैं\n"
     ]
    },
    {
     "data": {
      "application/vnd.plotly.v1+json": {
       "config": {
        "linkText": "Export to plot.ly",
        "plotlyServerURL": "https://plot.ly",
        "showLink": false
       },
       "data": [
        {
         "colorscale": "Reds",
         "type": "heatmap",
         "uid": "127937f7-0498-47c1-9a77-e616dfaa93a0",
         "x": [
          "but",
          "theyre",
          "not"
         ],
         "y": [
          "लेकिन",
          "वे",
          "नहीं",
          "कर",
          "रहे",
          "हैं।"
         ],
         "z": [
          [
           0.5164662599563599,
           0.16693666577339172,
           0.04244846850633621
          ],
          [
           0.0518253892660141,
           0.4680268466472626,
           0.047119081020355225
          ],
          [
           0.022394487634301186,
           0.10736968368291855,
           0.08144097775220871
          ],
          [
           0.020497025921940804,
           0.03222360089421272,
           0.12824183702468872
          ],
          [
           0.015570728108286858,
           0.05119754374027252,
           0.07654864341020584
          ],
          [
           0.025525934994220734,
           0.044584501534700394,
           0.08073026686906815
          ]
         ]
        }
       ],
       "layout": {}
      },
      "text/html": [
       "<div>\n",
       "        \n",
       "        \n",
       "            <div id=\"e03d2d5c-509e-43c8-9ead-14c441c365e5\" class=\"plotly-graph-div\" style=\"height:525px; width:100%;\"></div>\n",
       "            <script type=\"text/javascript\">\n",
       "                require([\"plotly\"], function(Plotly) {\n",
       "                    window.PLOTLYENV=window.PLOTLYENV || {};\n",
       "                    window.PLOTLYENV.BASE_URL='https://plot.ly';\n",
       "                    \n",
       "                if (document.getElementById(\"e03d2d5c-509e-43c8-9ead-14c441c365e5\")) {\n",
       "                    Plotly.newPlot(\n",
       "                        'e03d2d5c-509e-43c8-9ead-14c441c365e5',\n",
       "                        [{\"colorscale\": \"Reds\", \"type\": \"heatmap\", \"uid\": \"127937f7-0498-47c1-9a77-e616dfaa93a0\", \"x\": [\"but\", \"theyre\", \"not\"], \"y\": [\"\\u0932\\u0947\\u0915\\u093f\\u0928\", \"\\u0935\\u0947\", \"\\u0928\\u0939\\u0940\\u0902\", \"\\u0915\\u0930\", \"\\u0930\\u0939\\u0947\", \"\\u0939\\u0948\\u0902\\u0964\"], \"z\": [[0.5164662599563599, 0.16693666577339172, 0.04244846850633621], [0.0518253892660141, 0.4680268466472626, 0.047119081020355225], [0.022394487634301186, 0.10736968368291855, 0.08144097775220871], [0.020497025921940804, 0.03222360089421272, 0.12824183702468872], [0.015570728108286858, 0.05119754374027252, 0.07654864341020584], [0.025525934994220734, 0.044584501534700394, 0.08073026686906815]]}],\n",
       "                        {},\n",
       "                        {\"showLink\": false, \"linkText\": \"Export to plot.ly\", \"plotlyServerURL\": \"https://plot.ly\", \"responsive\": true}\n",
       "                    ).then(function(){\n",
       "                            \n",
       "var gd = document.getElementById('e03d2d5c-509e-43c8-9ead-14c441c365e5');\n",
       "var x = new MutationObserver(function (mutations, observer) {{\n",
       "        var display = window.getComputedStyle(gd).display;\n",
       "        if (!display || display === 'none') {{\n",
       "            console.log([gd, 'removed!']);\n",
       "            Plotly.purge(gd);\n",
       "            observer.disconnect();\n",
       "        }}\n",
       "}});\n",
       "\n",
       "// Listen for the removal of the full notebook cells\n",
       "var notebookContainer = gd.closest('#notebook-container');\n",
       "if (notebookContainer) {{\n",
       "    x.observe(notebookContainer, {childList: true});\n",
       "}}\n",
       "\n",
       "// Listen for the clearing of the current output cell\n",
       "var outputEl = gd.closest('.output');\n",
       "if (outputEl) {{\n",
       "    x.observe(outputEl, {childList: true});\n",
       "}}\n",
       "\n",
       "                        })\n",
       "                };\n",
       "                });\n",
       "            </script>\n",
       "        </div>"
      ]
     },
     "metadata": {},
     "output_type": "display_data"
    }
   ],
   "source": [
    "predict_random_val_sentence()"
   ]
  },
  {
   "cell_type": "code",
   "execution_count": 155,
   "metadata": {},
   "outputs": [
    {
     "name": "stdout",
     "output_type": "stream",
     "text": [
      "Input: get out from here\n",
      "Predicted translation: यहाँ से चले जाओ \n",
      "Actual translation: निकल जाओ यहाँ से\n"
     ]
    },
    {
     "data": {
      "application/vnd.plotly.v1+json": {
       "config": {
        "linkText": "Export to plot.ly",
        "plotlyServerURL": "https://plot.ly",
        "showLink": false
       },
       "data": [
        {
         "colorscale": "Reds",
         "type": "heatmap",
         "uid": "564041c5-7ea6-4dbc-9b54-2581f8d307b5",
         "x": [
          "get",
          "out",
          "from",
          "here"
         ],
         "y": [
          "यहाँ",
          "से",
          "चले",
          "जाओ"
         ],
         "z": [
          [
           0.07207656651735306,
           0.11102399975061417,
           0.0609745979309082,
           0.3267523944377899
          ],
          [
           0.09107726067304611,
           0.1449354737997055,
           0.13791443407535553,
           0.2059486210346222
          ],
          [
           0.18983131647109985,
           0.15833230316638947,
           0.23557576537132263,
           0.07846833020448685
          ],
          [
           0.23154214024543762,
           0.13397830724716187,
           0.11433407664299011,
           0.03317151963710785
          ]
         ]
        }
       ],
       "layout": {}
      },
      "text/html": [
       "<div>\n",
       "        \n",
       "        \n",
       "            <div id=\"e3ed1c05-7aef-43df-8c25-a36cd5c694ff\" class=\"plotly-graph-div\" style=\"height:525px; width:100%;\"></div>\n",
       "            <script type=\"text/javascript\">\n",
       "                require([\"plotly\"], function(Plotly) {\n",
       "                    window.PLOTLYENV=window.PLOTLYENV || {};\n",
       "                    window.PLOTLYENV.BASE_URL='https://plot.ly';\n",
       "                    \n",
       "                if (document.getElementById(\"e3ed1c05-7aef-43df-8c25-a36cd5c694ff\")) {\n",
       "                    Plotly.newPlot(\n",
       "                        'e3ed1c05-7aef-43df-8c25-a36cd5c694ff',\n",
       "                        [{\"colorscale\": \"Reds\", \"type\": \"heatmap\", \"uid\": \"564041c5-7ea6-4dbc-9b54-2581f8d307b5\", \"x\": [\"get\", \"out\", \"from\", \"here\"], \"y\": [\"\\u092f\\u0939\\u093e\\u0901\", \"\\u0938\\u0947\", \"\\u091a\\u0932\\u0947\", \"\\u091c\\u093e\\u0913\"], \"z\": [[0.07207656651735306, 0.11102399975061417, 0.0609745979309082, 0.3267523944377899], [0.09107726067304611, 0.1449354737997055, 0.13791443407535553, 0.2059486210346222], [0.18983131647109985, 0.15833230316638947, 0.23557576537132263, 0.07846833020448685], [0.23154214024543762, 0.13397830724716187, 0.11433407664299011, 0.03317151963710785]]}],\n",
       "                        {},\n",
       "                        {\"showLink\": false, \"linkText\": \"Export to plot.ly\", \"plotlyServerURL\": \"https://plot.ly\", \"responsive\": true}\n",
       "                    ).then(function(){\n",
       "                            \n",
       "var gd = document.getElementById('e3ed1c05-7aef-43df-8c25-a36cd5c694ff');\n",
       "var x = new MutationObserver(function (mutations, observer) {{\n",
       "        var display = window.getComputedStyle(gd).display;\n",
       "        if (!display || display === 'none') {{\n",
       "            console.log([gd, 'removed!']);\n",
       "            Plotly.purge(gd);\n",
       "            observer.disconnect();\n",
       "        }}\n",
       "}});\n",
       "\n",
       "// Listen for the removal of the full notebook cells\n",
       "var notebookContainer = gd.closest('#notebook-container');\n",
       "if (notebookContainer) {{\n",
       "    x.observe(notebookContainer, {childList: true});\n",
       "}}\n",
       "\n",
       "// Listen for the clearing of the current output cell\n",
       "var outputEl = gd.closest('.output');\n",
       "if (outputEl) {{\n",
       "    x.observe(outputEl, {childList: true});\n",
       "}}\n",
       "\n",
       "                        })\n",
       "                };\n",
       "                });\n",
       "            </script>\n",
       "        </div>"
      ]
     },
     "metadata": {},
     "output_type": "display_data"
    }
   ],
   "source": [
    "predict_random_val_sentence()"
   ]
  },
  {
   "cell_type": "code",
   "execution_count": 151,
   "metadata": {},
   "outputs": [
    {
     "name": "stdout",
     "output_type": "stream",
     "text": [
      "Input: cale\n",
      "Predicted translation: केल \n",
      "Actual translation: केल\n"
     ]
    },
    {
     "data": {
      "application/vnd.plotly.v1+json": {
       "config": {
        "linkText": "Export to plot.ly",
        "plotlyServerURL": "https://plot.ly",
        "showLink": false
       },
       "data": [
        {
         "colorscale": "Reds",
         "type": "heatmap",
         "uid": "fabd2985-97a9-4032-81fd-e2f8f77f6117",
         "x": [
          "cale"
         ],
         "y": [
          "केल"
         ],
         "z": [
          [
           0.32154586911201477
          ]
         ]
        }
       ],
       "layout": {}
      },
      "text/html": [
       "<div>\n",
       "        \n",
       "        \n",
       "            <div id=\"b815a6dd-acd7-4d73-be1f-847a9e2f71ff\" class=\"plotly-graph-div\" style=\"height:525px; width:100%;\"></div>\n",
       "            <script type=\"text/javascript\">\n",
       "                require([\"plotly\"], function(Plotly) {\n",
       "                    window.PLOTLYENV=window.PLOTLYENV || {};\n",
       "                    window.PLOTLYENV.BASE_URL='https://plot.ly';\n",
       "                    \n",
       "                if (document.getElementById(\"b815a6dd-acd7-4d73-be1f-847a9e2f71ff\")) {\n",
       "                    Plotly.newPlot(\n",
       "                        'b815a6dd-acd7-4d73-be1f-847a9e2f71ff',\n",
       "                        [{\"colorscale\": \"Reds\", \"type\": \"heatmap\", \"uid\": \"fabd2985-97a9-4032-81fd-e2f8f77f6117\", \"x\": [\"cale\"], \"y\": [\"\\u0915\\u0947\\u0932\"], \"z\": [[0.32154586911201477]]}],\n",
       "                        {},\n",
       "                        {\"showLink\": false, \"linkText\": \"Export to plot.ly\", \"plotlyServerURL\": \"https://plot.ly\", \"responsive\": true}\n",
       "                    ).then(function(){\n",
       "                            \n",
       "var gd = document.getElementById('b815a6dd-acd7-4d73-be1f-847a9e2f71ff');\n",
       "var x = new MutationObserver(function (mutations, observer) {{\n",
       "        var display = window.getComputedStyle(gd).display;\n",
       "        if (!display || display === 'none') {{\n",
       "            console.log([gd, 'removed!']);\n",
       "            Plotly.purge(gd);\n",
       "            observer.disconnect();\n",
       "        }}\n",
       "}});\n",
       "\n",
       "// Listen for the removal of the full notebook cells\n",
       "var notebookContainer = gd.closest('#notebook-container');\n",
       "if (notebookContainer) {{\n",
       "    x.observe(notebookContainer, {childList: true});\n",
       "}}\n",
       "\n",
       "// Listen for the clearing of the current output cell\n",
       "var outputEl = gd.closest('.output');\n",
       "if (outputEl) {{\n",
       "    x.observe(outputEl, {childList: true});\n",
       "}}\n",
       "\n",
       "                        })\n",
       "                };\n",
       "                });\n",
       "            </script>\n",
       "        </div>"
      ]
     },
     "metadata": {},
     "output_type": "display_data"
    }
   ],
   "source": [
    "predict_random_val_sentence()"
   ]
  },
  {
   "cell_type": "code",
   "execution_count": 92,
   "metadata": {},
   "outputs": [
    {
     "name": "stdout",
     "output_type": "stream",
     "text": [
      "Input: utilities online\n",
      "Predicted translation: शेर्लोट ऑनलाइन \n",
      "Actual translation: ऑनलाइन यूटिलिटीज।\n"
     ]
    },
    {
     "data": {
      "application/vnd.plotly.v1+json": {
       "config": {
        "linkText": "Export to plot.ly",
        "plotlyServerURL": "https://plot.ly",
        "showLink": false
       },
       "data": [
        {
         "colorscale": "Reds",
         "type": "heatmap",
         "uid": "afc8785d-7df3-4c2a-b520-a15609df70f9",
         "x": [
          "utilities",
          "online"
         ],
         "y": [
          "शेर्लोट",
          "ऑनलाइन"
         ],
         "z": [
          [
           0.4747066795825958,
           0.20973512530326843
          ],
          [
           0.14955686032772064,
           0.3948654234409332
          ]
         ]
        }
       ],
       "layout": {}
      },
      "text/html": [
       "<div>\n",
       "        \n",
       "        \n",
       "            <div id=\"f1e0842b-b98a-40e8-91ff-1367c4070fc2\" class=\"plotly-graph-div\" style=\"height:525px; width:100%;\"></div>\n",
       "            <script type=\"text/javascript\">\n",
       "                require([\"plotly\"], function(Plotly) {\n",
       "                    window.PLOTLYENV=window.PLOTLYENV || {};\n",
       "                    window.PLOTLYENV.BASE_URL='https://plot.ly';\n",
       "                    \n",
       "                if (document.getElementById(\"f1e0842b-b98a-40e8-91ff-1367c4070fc2\")) {\n",
       "                    Plotly.newPlot(\n",
       "                        'f1e0842b-b98a-40e8-91ff-1367c4070fc2',\n",
       "                        [{\"colorscale\": \"Reds\", \"type\": \"heatmap\", \"uid\": \"afc8785d-7df3-4c2a-b520-a15609df70f9\", \"x\": [\"utilities\", \"online\"], \"y\": [\"\\u0936\\u0947\\u0930\\u094d\\u0932\\u094b\\u091f\", \"\\u0911\\u0928\\u0932\\u093e\\u0907\\u0928\"], \"z\": [[0.4747066795825958, 0.20973512530326843], [0.14955686032772064, 0.3948654234409332]]}],\n",
       "                        {},\n",
       "                        {\"showLink\": false, \"linkText\": \"Export to plot.ly\", \"plotlyServerURL\": \"https://plot.ly\", \"responsive\": true}\n",
       "                    ).then(function(){\n",
       "                            \n",
       "var gd = document.getElementById('f1e0842b-b98a-40e8-91ff-1367c4070fc2');\n",
       "var x = new MutationObserver(function (mutations, observer) {{\n",
       "        var display = window.getComputedStyle(gd).display;\n",
       "        if (!display || display === 'none') {{\n",
       "            console.log([gd, 'removed!']);\n",
       "            Plotly.purge(gd);\n",
       "            observer.disconnect();\n",
       "        }}\n",
       "}});\n",
       "\n",
       "// Listen for the removal of the full notebook cells\n",
       "var notebookContainer = gd.closest('#notebook-container');\n",
       "if (notebookContainer) {{\n",
       "    x.observe(notebookContainer, {childList: true});\n",
       "}}\n",
       "\n",
       "// Listen for the clearing of the current output cell\n",
       "var outputEl = gd.closest('.output');\n",
       "if (outputEl) {{\n",
       "    x.observe(outputEl, {childList: true});\n",
       "}}\n",
       "\n",
       "                        })\n",
       "                };\n",
       "                });\n",
       "            </script>\n",
       "        </div>"
      ]
     },
     "metadata": {},
     "output_type": "display_data"
    }
   ],
   "source": [
    "predict_random_val_sentence()"
   ]
  },
  {
   "cell_type": "code",
   "execution_count": 93,
   "metadata": {},
   "outputs": [
    {
     "name": "stdout",
     "output_type": "stream",
     "text": [
      "Input: watch your three\n",
      "Predicted translation: वहाँ तीन तीन देखो \n",
      "Actual translation: अपने तीन देखो\n"
     ]
    },
    {
     "data": {
      "application/vnd.plotly.v1+json": {
       "config": {
        "linkText": "Export to plot.ly",
        "plotlyServerURL": "https://plot.ly",
        "showLink": false
       },
       "data": [
        {
         "colorscale": "Reds",
         "type": "heatmap",
         "uid": "6be74282-8097-442d-ab05-1c2c738ac753",
         "x": [
          "watch",
          "your",
          "three"
         ],
         "y": [
          "वहाँ",
          "तीन",
          "तीन",
          "देखो"
         ],
         "z": [
          [
           0.2523764371871948,
           0.24705547094345093,
           0.16286180913448334
          ],
          [
           0.05872058495879173,
           0.17579199373722076,
           0.45186159014701843
          ],
          [
           0.12856444716453552,
           0.04350653663277626,
           0.3998948037624359
          ],
          [
           0.17884832620620728,
           0.04904475063085556,
           0.0779135450720787
          ]
         ]
        }
       ],
       "layout": {}
      },
      "text/html": [
       "<div>\n",
       "        \n",
       "        \n",
       "            <div id=\"34cc392c-aaaa-4cf2-abe4-9948fe93d3e8\" class=\"plotly-graph-div\" style=\"height:525px; width:100%;\"></div>\n",
       "            <script type=\"text/javascript\">\n",
       "                require([\"plotly\"], function(Plotly) {\n",
       "                    window.PLOTLYENV=window.PLOTLYENV || {};\n",
       "                    window.PLOTLYENV.BASE_URL='https://plot.ly';\n",
       "                    \n",
       "                if (document.getElementById(\"34cc392c-aaaa-4cf2-abe4-9948fe93d3e8\")) {\n",
       "                    Plotly.newPlot(\n",
       "                        '34cc392c-aaaa-4cf2-abe4-9948fe93d3e8',\n",
       "                        [{\"colorscale\": \"Reds\", \"type\": \"heatmap\", \"uid\": \"6be74282-8097-442d-ab05-1c2c738ac753\", \"x\": [\"watch\", \"your\", \"three\"], \"y\": [\"\\u0935\\u0939\\u093e\\u0901\", \"\\u0924\\u0940\\u0928\", \"\\u0924\\u0940\\u0928\", \"\\u0926\\u0947\\u0916\\u094b\"], \"z\": [[0.2523764371871948, 0.24705547094345093, 0.16286180913448334], [0.05872058495879173, 0.17579199373722076, 0.45186159014701843], [0.12856444716453552, 0.04350653663277626, 0.3998948037624359], [0.17884832620620728, 0.04904475063085556, 0.0779135450720787]]}],\n",
       "                        {},\n",
       "                        {\"showLink\": false, \"linkText\": \"Export to plot.ly\", \"plotlyServerURL\": \"https://plot.ly\", \"responsive\": true}\n",
       "                    ).then(function(){\n",
       "                            \n",
       "var gd = document.getElementById('34cc392c-aaaa-4cf2-abe4-9948fe93d3e8');\n",
       "var x = new MutationObserver(function (mutations, observer) {{\n",
       "        var display = window.getComputedStyle(gd).display;\n",
       "        if (!display || display === 'none') {{\n",
       "            console.log([gd, 'removed!']);\n",
       "            Plotly.purge(gd);\n",
       "            observer.disconnect();\n",
       "        }}\n",
       "}});\n",
       "\n",
       "// Listen for the removal of the full notebook cells\n",
       "var notebookContainer = gd.closest('#notebook-container');\n",
       "if (notebookContainer) {{\n",
       "    x.observe(notebookContainer, {childList: true});\n",
       "}}\n",
       "\n",
       "// Listen for the clearing of the current output cell\n",
       "var outputEl = gd.closest('.output');\n",
       "if (outputEl) {{\n",
       "    x.observe(outputEl, {childList: true});\n",
       "}}\n",
       "\n",
       "                        })\n",
       "                };\n",
       "                });\n",
       "            </script>\n",
       "        </div>"
      ]
     },
     "metadata": {},
     "output_type": "display_data"
    }
   ],
   "source": [
    "predict_random_val_sentence()"
   ]
  },
  {
   "cell_type": "code",
   "execution_count": 94,
   "metadata": {},
   "outputs": [
    {
     "name": "stdout",
     "output_type": "stream",
     "text": [
      "Input: but we need to start doing things that will directly impact on those offenders\n",
      "Predicted translation: लेकिन हम पर उपयोगी समय की आवश्यकता होगी तो वे उन स्थानों पर गांठ के लिए तैयार करते हैं कि ये करना कि कठिन निर्णय करने की जरूरत है \n",
      "Actual translation: लेकिन हमें कुछ ऐसा करने की ज़रूरत है जो इन पर्यावरण अपराधियों पर सीधे असर डाले\n"
     ]
    },
    {
     "data": {
      "application/vnd.plotly.v1+json": {
       "config": {
        "linkText": "Export to plot.ly",
        "plotlyServerURL": "https://plot.ly",
        "showLink": false
       },
       "data": [
        {
         "colorscale": "Reds",
         "type": "heatmap",
         "uid": "ede968a1-4b69-4399-8bc5-605f13e0adae",
         "x": [
          "but",
          "we",
          "need",
          "to",
          "start",
          "doing",
          "things",
          "that",
          "will",
          "directly",
          "impact",
          "on",
          "those",
          "offenders"
         ],
         "y": [
          "लेकिन",
          "हम",
          "पर",
          "उपयोगी",
          "समय",
          "की",
          "आवश्यकता",
          "होगी",
          "तो",
          "वे",
          "उन",
          "स्थानों",
          "पर",
          "गांठ",
          "के",
          "लिए",
          "तैयार",
          "करते",
          "हैं",
          "कि",
          "ये",
          "करना",
          "कि",
          "कठिन",
          "निर्णय",
          "करने",
          "की",
          "जरूरत",
          "है"
         ],
         "z": [
          [
           0.41591039299964905,
           0.16731522977352142,
           0.018568573519587517,
           0.015654927119612694,
           0.060003120452165604,
           0.03068765625357628,
           0.032548047602176666,
           0.023449160158634186,
           0.01600840874016285,
           0.02374204993247986,
           0.022001363337039948,
           0.012953191064298153,
           0.025194155052304268,
           0.02327202633023262
          ],
          [
           0.03365735337138176,
           0.42864179611206055,
           0.016404321417212486,
           0.007731472607702017,
           0.08503841608762741,
           0.08820225298404694,
           0.07631358504295349,
           0.03275642171502113,
           0.004815046675503254,
           0.020199334248900414,
           0.02403854764997959,
           0.006648576818406582,
           0.029798118397593498,
           0.02617853507399559
          ],
          [
           0.01786484755575657,
           0.0996939092874527,
           0.017657695338129997,
           0.006721330340951681,
           0.08812595903873444,
           0.10762599110603333,
           0.2299477756023407,
           0.06658108532428741,
           0.007401295006275177,
           0.050928208976984024,
           0.05156205594539642,
           0.006821925286203623,
           0.050381291657686234,
           0.040227849036455154
          ],
          [
           0.005205581896007061,
           0.01120377704501152,
           0.025845831260085106,
           0.012261164374649525,
           0.08614958077669144,
           0.06754577159881592,
           0.17870575189590454,
           0.05506123974919319,
           0.008781574666500092,
           0.07939276844263077,
           0.10321424156427383,
           0.02321816049516201,
           0.03401769697666168,
           0.13708482682704926
          ],
          [
           0.0031279074028134346,
           0.00643986975774169,
           0.048078376799821854,
           0.02607947774231434,
           0.10063615441322327,
           0.061440084129571915,
           0.06515831500291824,
           0.024875199422240257,
           0.01693832315504551,
           0.08318138122558594,
           0.12154009938240051,
           0.07507484406232834,
           0.014342308044433594,
           0.07803495973348618
          ],
          [
           0.0027604023925960064,
           0.004166109953075647,
           0.0810360237956047,
           0.034627873450517654,
           0.043880660086870193,
           0.031607914716005325,
           0.020568426698446274,
           0.025735974311828613,
           0.06866563856601715,
           0.07000117748975754,
           0.06969284266233444,
           0.08251378685235977,
           0.013449998572468758,
           0.0427839420735836
          ],
          [
           0.0037436778657138348,
           0.005069071426987648,
           0.06074710935354233,
           0.036292560398578644,
           0.04954586550593376,
           0.038484860211610794,
           0.02340366132557392,
           0.02389049343764782,
           0.05057565122842789,
           0.1282568722963333,
           0.09965711086988449,
           0.10212875157594681,
           0.015187324956059456,
           0.06625541299581528
          ],
          [
           0.003510073758661747,
           0.005546618718653917,
           0.04968797788023949,
           0.03165118023753166,
           0.058765873312950134,
           0.0362982377409935,
           0.036977872252464294,
           0.029765473678708076,
           0.036214232444763184,
           0.09239242970943451,
           0.11845140159130096,
           0.06505972146987915,
           0.01145109347999096,
           0.08395140618085861
          ],
          [
           0.004675953183323145,
           0.009905485436320305,
           0.03659446910023689,
           0.016880905255675316,
           0.028901970013976097,
           0.02686631679534912,
           0.02191145159304142,
           0.0394761748611927,
           0.053191281855106354,
           0.11313698440790176,
           0.07444894313812256,
           0.04517930746078491,
           0.024918008595705032,
           0.04256024584174156
          ],
          [
           0.005257390905171633,
           0.007926062680780888,
           0.01225233543664217,
           0.007304869592189789,
           0.036039434373378754,
           0.028320109471678734,
           0.042776841670274734,
           0.03722166270017624,
           0.02559204213321209,
           0.08115222305059433,
           0.0770818293094635,
           0.03304937854409218,
           0.03143027424812317,
           0.07010180503129959
          ],
          [
           0.003571503795683384,
           0.006555991712957621,
           0.009380885399878025,
           0.005113003775477409,
           0.05255186930298805,
           0.022869326174259186,
           0.05501364916563034,
           0.01700224168598652,
           0.015356483869254589,
           0.10536301136016846,
           0.09855037182569504,
           0.04341131076216698,
           0.02099217288196087,
           0.10987591743469238
          ],
          [
           0.002090777037665248,
           0.002594617661088705,
           0.018924284726381302,
           0.013750334270298481,
           0.05812610313296318,
           0.024829896166920662,
           0.07409387826919556,
           0.010638182051479816,
           0.013604408130049706,
           0.06127352640032768,
           0.09841340780258179,
           0.04219067469239235,
           0.017816338688135147,
           0.2199496626853943
          ],
          [
           0.006396453827619553,
           0.00866067036986351,
           0.03565819188952446,
           0.03044591285288334,
           0.16731153428554535,
           0.07614805549383163,
           0.06580517441034317,
           0.014328730292618275,
           0.013284265995025635,
           0.036381110548973083,
           0.18788780272006989,
           0.08761227130889893,
           0.018775489181280136,
           0.08555766195058823
          ],
          [
           0.002892343793064356,
           0.004850319586694241,
           0.04085376858711243,
           0.03168142959475517,
           0.07947021722793579,
           0.07087859511375427,
           0.02616690658032894,
           0.012020091526210308,
           0.02035258337855339,
           0.07428561896085739,
           0.10617920011281967,
           0.1640011966228485,
           0.013856700621545315,
           0.07497149705886841
          ],
          [
           0.0024237611796706915,
           0.006296796258538961,
           0.059195782989263535,
           0.03155996650457382,
           0.0602894052863121,
           0.04135303199291229,
           0.04302254691720009,
           0.021117717027664185,
           0.04210178926587105,
           0.10798436403274536,
           0.11046169698238373,
           0.08487948030233383,
           0.011034808121621609,
           0.06870629638433456
          ],
          [
           0.002695745090022683,
           0.003735507372766733,
           0.04934963956475258,
           0.049098946154117584,
           0.04679115489125252,
           0.02811475843191147,
           0.021137375384569168,
           0.008701089769601822,
           0.020984817296266556,
           0.05881279706954956,
           0.09468492120504379,
           0.18237847089767456,
           0.015156797133386135,
           0.06218261644244194
          ],
          [
           0.003590278560295701,
           0.009382876567542553,
           0.05798942595720291,
           0.11333388835191727,
           0.03788980096578598,
           0.026672253385186195,
           0.026994021609425545,
           0.0246364064514637,
           0.0254133902490139,
           0.060916718095541,
           0.078445203602314,
           0.2021932750940323,
           0.010662605054676533,
           0.047061990946531296
          ],
          [
           0.003311206353828311,
           0.006282702088356018,
           0.051581013947725296,
           0.030839459970593452,
           0.036704063415527344,
           0.04067295044660568,
           0.031405895948410034,
           0.03054625913500786,
           0.059483859688043594,
           0.10201823711395264,
           0.10003180801868439,
           0.07473617047071457,
           0.011885436251759529,
           0.06786945462226868
          ],
          [
           0.005251108668744564,
           0.011154461652040482,
           0.0325050912797451,
           0.014317940920591354,
           0.02753649465739727,
           0.023861607536673546,
           0.022413475438952446,
           0.03579908609390259,
           0.06866002082824707,
           0.1378834843635559,
           0.07404783368110657,
           0.046945031732320786,
           0.03234914317727089,
           0.057112209498882294
          ],
          [
           0.007237087935209274,
           0.012338703498244286,
           0.013792179524898529,
           0.010983891785144806,
           0.02749485708773136,
           0.018440857529640198,
           0.025727903470396996,
           0.04414208605885506,
           0.0445934534072876,
           0.10996187478303909,
           0.07401211559772491,
           0.030234359204769135,
           0.04107586294412613,
           0.04959260672330856
          ],
          [
           0.004475083667784929,
           0.008113733492791653,
           0.008340313099324703,
           0.004701350349932909,
           0.022992074489593506,
           0.018555184826254845,
           0.04101647809147835,
           0.04227915033698082,
           0.013266374357044697,
           0.10350745916366577,
           0.060763582587242126,
           0.0251743383705616,
           0.04230795428156853,
           0.07233921438455582
          ],
          [
           0.0024280918296426535,
           0.005583495367318392,
           0.009502402506768703,
           0.005307985004037619,
           0.06059035286307335,
           0.04290657490491867,
           0.08449570834636688,
           0.01682148687541485,
           0.012582138180732727,
           0.09633810073137283,
           0.10004796087741852,
           0.02935040555894375,
           0.029220327734947205,
           0.13999544084072113
          ],
          [
           0.0035634299274533987,
           0.00877591222524643,
           0.017400410026311874,
           0.009734545834362507,
           0.0494077242910862,
           0.03528836369514465,
           0.07676016539335251,
           0.021876325830817223,
           0.01923862285912037,
           0.09866130352020264,
           0.12780259549617767,
           0.0533040389418602,
           0.01856962963938713,
           0.12720833718776703
          ],
          [
           0.004731314722448587,
           0.007272748276591301,
           0.018276164308190346,
           0.01212092861533165,
           0.04099247232079506,
           0.0325300432741642,
           0.03727683052420616,
           0.04717523232102394,
           0.022139260545372963,
           0.08413693308830261,
           0.08908013999462128,
           0.051962710916996,
           0.017720472067594528,
           0.0594906210899353
          ],
          [
           0.0023259404115378857,
           0.006517554633319378,
           0.01141708716750145,
           0.006730188615620136,
           0.07136622816324234,
           0.05429040268063545,
           0.0834929570555687,
           0.019335519522428513,
           0.015103310346603394,
           0.09495511651039124,
           0.11306634545326233,
           0.054632630199193954,
           0.018405167385935783,
           0.11837634444236755
          ],
          [
           0.0025721874553710222,
           0.009307165630161762,
           0.055200450122356415,
           0.039270609617233276,
           0.05699414387345314,
           0.03188341110944748,
           0.03403760492801666,
           0.035399772226810455,
           0.03511807322502136,
           0.11305471509695053,
           0.10134029388427734,
           0.0738246887922287,
           0.011369965970516205,
           0.061850231140851974
          ],
          [
           0.0029161712154746056,
           0.005493981763720512,
           0.05623473972082138,
           0.0498424656689167,
           0.03641541302204132,
           0.02239869348704815,
           0.021136831492185593,
           0.015353633090853691,
           0.08822523802518845,
           0.06782402098178864,
           0.05159839615225792,
           0.08994699269533157,
           0.010762238875031471,
           0.04378290846943855
          ],
          [
           0.0024156656581908464,
           0.004069322254508734,
           0.08166678994894028,
           0.1276055872440338,
           0.01870778016746044,
           0.01748485304415226,
           0.010376646183431149,
           0.009443606249988079,
           0.06869672238826752,
           0.04110710322856903,
           0.04663831740617752,
           0.07117712497711182,
           0.006226112600415945,
           0.02637164667248726
          ],
          [
           0.004543186165392399,
           0.009382260031998158,
           0.06442293524742126,
           0.03670428320765495,
           0.034173447638750076,
           0.030045663937926292,
           0.02497640997171402,
           0.02507256343960762,
           0.04975970834493637,
           0.08469267189502716,
           0.12707160413265228,
           0.067205511033535,
           0.008157082833349705,
           0.07888408750295639
          ]
         ]
        }
       ],
       "layout": {}
      },
      "text/html": [
       "<div>\n",
       "        \n",
       "        \n",
       "            <div id=\"5a44101b-2f06-4268-bd06-a55d9842b6b1\" class=\"plotly-graph-div\" style=\"height:525px; width:100%;\"></div>\n",
       "            <script type=\"text/javascript\">\n",
       "                require([\"plotly\"], function(Plotly) {\n",
       "                    window.PLOTLYENV=window.PLOTLYENV || {};\n",
       "                    window.PLOTLYENV.BASE_URL='https://plot.ly';\n",
       "                    \n",
       "                if (document.getElementById(\"5a44101b-2f06-4268-bd06-a55d9842b6b1\")) {\n",
       "                    Plotly.newPlot(\n",
       "                        '5a44101b-2f06-4268-bd06-a55d9842b6b1',\n",
       "                        [{\"colorscale\": \"Reds\", \"type\": \"heatmap\", \"uid\": \"ede968a1-4b69-4399-8bc5-605f13e0adae\", \"x\": [\"but\", \"we\", \"need\", \"to\", \"start\", \"doing\", \"things\", \"that\", \"will\", \"directly\", \"impact\", \"on\", \"those\", \"offenders\"], \"y\": [\"\\u0932\\u0947\\u0915\\u093f\\u0928\", \"\\u0939\\u092e\", \"\\u092a\\u0930\", \"\\u0909\\u092a\\u092f\\u094b\\u0917\\u0940\", \"\\u0938\\u092e\\u092f\", \"\\u0915\\u0940\", \"\\u0906\\u0935\\u0936\\u094d\\u092f\\u0915\\u0924\\u093e\", \"\\u0939\\u094b\\u0917\\u0940\", \"\\u0924\\u094b\", \"\\u0935\\u0947\", \"\\u0909\\u0928\", \"\\u0938\\u094d\\u0925\\u093e\\u0928\\u094b\\u0902\", \"\\u092a\\u0930\", \"\\u0917\\u093e\\u0902\\u0920\", \"\\u0915\\u0947\", \"\\u0932\\u093f\\u090f\", \"\\u0924\\u0948\\u092f\\u093e\\u0930\", \"\\u0915\\u0930\\u0924\\u0947\", \"\\u0939\\u0948\\u0902\", \"\\u0915\\u093f\", \"\\u092f\\u0947\", \"\\u0915\\u0930\\u0928\\u093e\", \"\\u0915\\u093f\", \"\\u0915\\u0920\\u093f\\u0928\", \"\\u0928\\u093f\\u0930\\u094d\\u0923\\u092f\", \"\\u0915\\u0930\\u0928\\u0947\", \"\\u0915\\u0940\", \"\\u091c\\u0930\\u0942\\u0930\\u0924\", \"\\u0939\\u0948\"], \"z\": [[0.41591039299964905, 0.16731522977352142, 0.018568573519587517, 0.015654927119612694, 0.060003120452165604, 0.03068765625357628, 0.032548047602176666, 0.023449160158634186, 0.01600840874016285, 0.02374204993247986, 0.022001363337039948, 0.012953191064298153, 0.025194155052304268, 0.02327202633023262], [0.03365735337138176, 0.42864179611206055, 0.016404321417212486, 0.007731472607702017, 0.08503841608762741, 0.08820225298404694, 0.07631358504295349, 0.03275642171502113, 0.004815046675503254, 0.020199334248900414, 0.02403854764997959, 0.006648576818406582, 0.029798118397593498, 0.02617853507399559], [0.01786484755575657, 0.0996939092874527, 0.017657695338129997, 0.006721330340951681, 0.08812595903873444, 0.10762599110603333, 0.2299477756023407, 0.06658108532428741, 0.007401295006275177, 0.050928208976984024, 0.05156205594539642, 0.006821925286203623, 0.050381291657686234, 0.040227849036455154], [0.005205581896007061, 0.01120377704501152, 0.025845831260085106, 0.012261164374649525, 0.08614958077669144, 0.06754577159881592, 0.17870575189590454, 0.05506123974919319, 0.008781574666500092, 0.07939276844263077, 0.10321424156427383, 0.02321816049516201, 0.03401769697666168, 0.13708482682704926], [0.0031279074028134346, 0.00643986975774169, 0.048078376799821854, 0.02607947774231434, 0.10063615441322327, 0.061440084129571915, 0.06515831500291824, 0.024875199422240257, 0.01693832315504551, 0.08318138122558594, 0.12154009938240051, 0.07507484406232834, 0.014342308044433594, 0.07803495973348618], [0.0027604023925960064, 0.004166109953075647, 0.0810360237956047, 0.034627873450517654, 0.043880660086870193, 0.031607914716005325, 0.020568426698446274, 0.025735974311828613, 0.06866563856601715, 0.07000117748975754, 0.06969284266233444, 0.08251378685235977, 0.013449998572468758, 0.0427839420735836], [0.0037436778657138348, 0.005069071426987648, 0.06074710935354233, 0.036292560398578644, 0.04954586550593376, 0.038484860211610794, 0.02340366132557392, 0.02389049343764782, 0.05057565122842789, 0.1282568722963333, 0.09965711086988449, 0.10212875157594681, 0.015187324956059456, 0.06625541299581528], [0.003510073758661747, 0.005546618718653917, 0.04968797788023949, 0.03165118023753166, 0.058765873312950134, 0.0362982377409935, 0.036977872252464294, 0.029765473678708076, 0.036214232444763184, 0.09239242970943451, 0.11845140159130096, 0.06505972146987915, 0.01145109347999096, 0.08395140618085861], [0.004675953183323145, 0.009905485436320305, 0.03659446910023689, 0.016880905255675316, 0.028901970013976097, 0.02686631679534912, 0.02191145159304142, 0.0394761748611927, 0.053191281855106354, 0.11313698440790176, 0.07444894313812256, 0.04517930746078491, 0.024918008595705032, 0.04256024584174156], [0.005257390905171633, 0.007926062680780888, 0.01225233543664217, 0.007304869592189789, 0.036039434373378754, 0.028320109471678734, 0.042776841670274734, 0.03722166270017624, 0.02559204213321209, 0.08115222305059433, 0.0770818293094635, 0.03304937854409218, 0.03143027424812317, 0.07010180503129959], [0.003571503795683384, 0.006555991712957621, 0.009380885399878025, 0.005113003775477409, 0.05255186930298805, 0.022869326174259186, 0.05501364916563034, 0.01700224168598652, 0.015356483869254589, 0.10536301136016846, 0.09855037182569504, 0.04341131076216698, 0.02099217288196087, 0.10987591743469238], [0.002090777037665248, 0.002594617661088705, 0.018924284726381302, 0.013750334270298481, 0.05812610313296318, 0.024829896166920662, 0.07409387826919556, 0.010638182051479816, 0.013604408130049706, 0.06127352640032768, 0.09841340780258179, 0.04219067469239235, 0.017816338688135147, 0.2199496626853943], [0.006396453827619553, 0.00866067036986351, 0.03565819188952446, 0.03044591285288334, 0.16731153428554535, 0.07614805549383163, 0.06580517441034317, 0.014328730292618275, 0.013284265995025635, 0.036381110548973083, 0.18788780272006989, 0.08761227130889893, 0.018775489181280136, 0.08555766195058823], [0.002892343793064356, 0.004850319586694241, 0.04085376858711243, 0.03168142959475517, 0.07947021722793579, 0.07087859511375427, 0.02616690658032894, 0.012020091526210308, 0.02035258337855339, 0.07428561896085739, 0.10617920011281967, 0.1640011966228485, 0.013856700621545315, 0.07497149705886841], [0.0024237611796706915, 0.006296796258538961, 0.059195782989263535, 0.03155996650457382, 0.0602894052863121, 0.04135303199291229, 0.04302254691720009, 0.021117717027664185, 0.04210178926587105, 0.10798436403274536, 0.11046169698238373, 0.08487948030233383, 0.011034808121621609, 0.06870629638433456], [0.002695745090022683, 0.003735507372766733, 0.04934963956475258, 0.049098946154117584, 0.04679115489125252, 0.02811475843191147, 0.021137375384569168, 0.008701089769601822, 0.020984817296266556, 0.05881279706954956, 0.09468492120504379, 0.18237847089767456, 0.015156797133386135, 0.06218261644244194], [0.003590278560295701, 0.009382876567542553, 0.05798942595720291, 0.11333388835191727, 0.03788980096578598, 0.026672253385186195, 0.026994021609425545, 0.0246364064514637, 0.0254133902490139, 0.060916718095541, 0.078445203602314, 0.2021932750940323, 0.010662605054676533, 0.047061990946531296], [0.003311206353828311, 0.006282702088356018, 0.051581013947725296, 0.030839459970593452, 0.036704063415527344, 0.04067295044660568, 0.031405895948410034, 0.03054625913500786, 0.059483859688043594, 0.10201823711395264, 0.10003180801868439, 0.07473617047071457, 0.011885436251759529, 0.06786945462226868], [0.005251108668744564, 0.011154461652040482, 0.0325050912797451, 0.014317940920591354, 0.02753649465739727, 0.023861607536673546, 0.022413475438952446, 0.03579908609390259, 0.06866002082824707, 0.1378834843635559, 0.07404783368110657, 0.046945031732320786, 0.03234914317727089, 0.057112209498882294], [0.007237087935209274, 0.012338703498244286, 0.013792179524898529, 0.010983891785144806, 0.02749485708773136, 0.018440857529640198, 0.025727903470396996, 0.04414208605885506, 0.0445934534072876, 0.10996187478303909, 0.07401211559772491, 0.030234359204769135, 0.04107586294412613, 0.04959260672330856], [0.004475083667784929, 0.008113733492791653, 0.008340313099324703, 0.004701350349932909, 0.022992074489593506, 0.018555184826254845, 0.04101647809147835, 0.04227915033698082, 0.013266374357044697, 0.10350745916366577, 0.060763582587242126, 0.0251743383705616, 0.04230795428156853, 0.07233921438455582], [0.0024280918296426535, 0.005583495367318392, 0.009502402506768703, 0.005307985004037619, 0.06059035286307335, 0.04290657490491867, 0.08449570834636688, 0.01682148687541485, 0.012582138180732727, 0.09633810073137283, 0.10004796087741852, 0.02935040555894375, 0.029220327734947205, 0.13999544084072113], [0.0035634299274533987, 0.00877591222524643, 0.017400410026311874, 0.009734545834362507, 0.0494077242910862, 0.03528836369514465, 0.07676016539335251, 0.021876325830817223, 0.01923862285912037, 0.09866130352020264, 0.12780259549617767, 0.0533040389418602, 0.01856962963938713, 0.12720833718776703], [0.004731314722448587, 0.007272748276591301, 0.018276164308190346, 0.01212092861533165, 0.04099247232079506, 0.0325300432741642, 0.03727683052420616, 0.04717523232102394, 0.022139260545372963, 0.08413693308830261, 0.08908013999462128, 0.051962710916996, 0.017720472067594528, 0.0594906210899353], [0.0023259404115378857, 0.006517554633319378, 0.01141708716750145, 0.006730188615620136, 0.07136622816324234, 0.05429040268063545, 0.0834929570555687, 0.019335519522428513, 0.015103310346603394, 0.09495511651039124, 0.11306634545326233, 0.054632630199193954, 0.018405167385935783, 0.11837634444236755], [0.0025721874553710222, 0.009307165630161762, 0.055200450122356415, 0.039270609617233276, 0.05699414387345314, 0.03188341110944748, 0.03403760492801666, 0.035399772226810455, 0.03511807322502136, 0.11305471509695053, 0.10134029388427734, 0.0738246887922287, 0.011369965970516205, 0.061850231140851974], [0.0029161712154746056, 0.005493981763720512, 0.05623473972082138, 0.0498424656689167, 0.03641541302204132, 0.02239869348704815, 0.021136831492185593, 0.015353633090853691, 0.08822523802518845, 0.06782402098178864, 0.05159839615225792, 0.08994699269533157, 0.010762238875031471, 0.04378290846943855], [0.0024156656581908464, 0.004069322254508734, 0.08166678994894028, 0.1276055872440338, 0.01870778016746044, 0.01748485304415226, 0.010376646183431149, 0.009443606249988079, 0.06869672238826752, 0.04110710322856903, 0.04663831740617752, 0.07117712497711182, 0.006226112600415945, 0.02637164667248726], [0.004543186165392399, 0.009382260031998158, 0.06442293524742126, 0.03670428320765495, 0.034173447638750076, 0.030045663937926292, 0.02497640997171402, 0.02507256343960762, 0.04975970834493637, 0.08469267189502716, 0.12707160413265228, 0.067205511033535, 0.008157082833349705, 0.07888408750295639]]}],\n",
       "                        {},\n",
       "                        {\"showLink\": false, \"linkText\": \"Export to plot.ly\", \"plotlyServerURL\": \"https://plot.ly\", \"responsive\": true}\n",
       "                    ).then(function(){\n",
       "                            \n",
       "var gd = document.getElementById('5a44101b-2f06-4268-bd06-a55d9842b6b1');\n",
       "var x = new MutationObserver(function (mutations, observer) {{\n",
       "        var display = window.getComputedStyle(gd).display;\n",
       "        if (!display || display === 'none') {{\n",
       "            console.log([gd, 'removed!']);\n",
       "            Plotly.purge(gd);\n",
       "            observer.disconnect();\n",
       "        }}\n",
       "}});\n",
       "\n",
       "// Listen for the removal of the full notebook cells\n",
       "var notebookContainer = gd.closest('#notebook-container');\n",
       "if (notebookContainer) {{\n",
       "    x.observe(notebookContainer, {childList: true});\n",
       "}}\n",
       "\n",
       "// Listen for the clearing of the current output cell\n",
       "var outputEl = gd.closest('.output');\n",
       "if (outputEl) {{\n",
       "    x.observe(outputEl, {childList: true});\n",
       "}}\n",
       "\n",
       "                        })\n",
       "                };\n",
       "                });\n",
       "            </script>\n",
       "        </div>"
      ]
     },
     "metadata": {},
     "output_type": "display_data"
    }
   ],
   "source": [
    "predict_random_val_sentence()"
   ]
  },
  {
   "cell_type": "code",
   "execution_count": 164,
   "metadata": {},
   "outputs": [],
   "source": [
    "def predict_random_val_sentence_bleu():\n",
    "    actual_sent = ''\n",
    "    k = np.random.randint(len(input_tensor_val))\n",
    "    random_input = input_tensor_val[k]\n",
    "    random_output = target_tensor_val[k]\n",
    "    random_input = np.expand_dims(random_input,0)\n",
    "    result, sentence, attention_plot = evaluate(random_input, encoder, decoder, inp_lang, targ_lang, max_length_inp, max_length_targ)\n",
    "    print('Input: {}'.format(sentence[8:-6]))\n",
    "    print('Predicted translation: {}'.format(result[:-6]))\n",
    "    for i in random_output:\n",
    "        if i == 0:\n",
    "            break\n",
    "        actual_sent = actual_sent + targ_lang.idx2word[i] + ' '\n",
    "    actual_sent = actual_sent[8:-7]\n",
    "    print('Actual translation: {}'.format(actual_sent))\n",
    "    reference = actual_sent.split()\n",
    "    candidate = result[:-6].split()\n",
    "    print('Actual translation split: ',actual_sent.split())\n",
    "    print('Predicted tanslation split: ',result[:-6].split())\n",
    "    attention_plot = attention_plot[:len(result.split(' '))-2, 1:len(sentence.split(' '))-1]\n",
    "    sentence, result = sentence.split(' '), result.split(' ')\n",
    "    sentence = sentence[1:-1]\n",
    "    result = result[:-2]\n",
    "    # use plotly to generate the heat map\n",
    "    trace = go.Heatmap(z = attention_plot, x = sentence, y = result, colorscale='Reds')\n",
    "    data=[trace]\n",
    "    iplot(data)\n"
   ]
  },
  {
   "cell_type": "code",
   "execution_count": 104,
   "metadata": {},
   "outputs": [
    {
     "name": "stdout",
     "output_type": "stream",
     "text": [
      "Input: foxtrot\n",
      "Predicted translation: फ़ाक्सत्रोट \n",
      "Actual translation: फ़ाक्सत्रोट\n",
      "['फ़ाक्सत्रोट']\n",
      "['फ़ाक्सत्रोट']\n"
     ]
    },
    {
     "data": {
      "application/vnd.plotly.v1+json": {
       "config": {
        "linkText": "Export to plot.ly",
        "plotlyServerURL": "https://plot.ly",
        "showLink": false
       },
       "data": [
        {
         "colorscale": "Reds",
         "type": "heatmap",
         "uid": "a43ac33e-46a2-4174-9297-2ed5585aae89",
         "x": [
          "foxtrot"
         ],
         "y": [
          "फ़ाक्सत्रोट"
         ],
         "z": [
          [
           0.4274146854877472
          ]
         ]
        }
       ],
       "layout": {}
      },
      "text/html": [
       "<div>\n",
       "        \n",
       "        \n",
       "            <div id=\"acb1bbbb-27f4-40ad-8ee8-f032b791a0f8\" class=\"plotly-graph-div\" style=\"height:525px; width:100%;\"></div>\n",
       "            <script type=\"text/javascript\">\n",
       "                require([\"plotly\"], function(Plotly) {\n",
       "                    window.PLOTLYENV=window.PLOTLYENV || {};\n",
       "                    window.PLOTLYENV.BASE_URL='https://plot.ly';\n",
       "                    \n",
       "                if (document.getElementById(\"acb1bbbb-27f4-40ad-8ee8-f032b791a0f8\")) {\n",
       "                    Plotly.newPlot(\n",
       "                        'acb1bbbb-27f4-40ad-8ee8-f032b791a0f8',\n",
       "                        [{\"colorscale\": \"Reds\", \"type\": \"heatmap\", \"uid\": \"a43ac33e-46a2-4174-9297-2ed5585aae89\", \"x\": [\"foxtrot\"], \"y\": [\"\\u092b\\u093c\\u093e\\u0915\\u094d\\u0938\\u0924\\u094d\\u0930\\u094b\\u091f\"], \"z\": [[0.4274146854877472]]}],\n",
       "                        {},\n",
       "                        {\"showLink\": false, \"linkText\": \"Export to plot.ly\", \"plotlyServerURL\": \"https://plot.ly\", \"responsive\": true}\n",
       "                    ).then(function(){\n",
       "                            \n",
       "var gd = document.getElementById('acb1bbbb-27f4-40ad-8ee8-f032b791a0f8');\n",
       "var x = new MutationObserver(function (mutations, observer) {{\n",
       "        var display = window.getComputedStyle(gd).display;\n",
       "        if (!display || display === 'none') {{\n",
       "            console.log([gd, 'removed!']);\n",
       "            Plotly.purge(gd);\n",
       "            observer.disconnect();\n",
       "        }}\n",
       "}});\n",
       "\n",
       "// Listen for the removal of the full notebook cells\n",
       "var notebookContainer = gd.closest('#notebook-container');\n",
       "if (notebookContainer) {{\n",
       "    x.observe(notebookContainer, {childList: true});\n",
       "}}\n",
       "\n",
       "// Listen for the clearing of the current output cell\n",
       "var outputEl = gd.closest('.output');\n",
       "if (outputEl) {{\n",
       "    x.observe(outputEl, {childList: true});\n",
       "}}\n",
       "\n",
       "                        })\n",
       "                };\n",
       "                });\n",
       "            </script>\n",
       "        </div>"
      ]
     },
     "metadata": {},
     "output_type": "display_data"
    },
    {
     "name": "stdout",
     "output_type": "stream",
     "text": [
      "0\n"
     ]
    }
   ],
   "source": [
    "predict_random_val_sentence_bleu()"
   ]
  },
  {
   "cell_type": "code",
   "execution_count": 188,
   "metadata": {},
   "outputs": [
    {
     "name": "stdout",
     "output_type": "stream",
     "text": [
      "Input: i believe you can do it\n",
      "Predicted translation: मैं आप यह कर सकते हैं \n",
      "Actual translation: मैं आप यह कर सकते हैं\n",
      "Actual translation split:  ['मैं', 'आप', 'यह', 'कर', 'सकते', 'हैं']\n",
      "Predicted tanslation split:  ['मैं', 'आप', 'यह', 'कर', 'सकते', 'हैं']\n"
     ]
    },
    {
     "data": {
      "application/vnd.plotly.v1+json": {
       "config": {
        "linkText": "Export to plot.ly",
        "plotlyServerURL": "https://plot.ly",
        "showLink": false
       },
       "data": [
        {
         "colorscale": "Reds",
         "type": "heatmap",
         "uid": "c3f6a68e-f3b5-4519-97d6-a6830e731ff9",
         "x": [
          "i",
          "believe",
          "you",
          "can",
          "do",
          "it"
         ],
         "y": [
          "मैं",
          "आप",
          "यह",
          "कर",
          "सकते",
          "हैं"
         ],
         "z": [
          [
           0.2959219217300415,
           0.18992774188518524,
           0.19964580237865448,
           0.023982033133506775,
           0.03601225093007088,
           0.06995292007923126
          ],
          [
           0.07697176188230515,
           0.18574345111846924,
           0.3174003064632416,
           0.014987220056355,
           0.0232101920992136,
           0.12181583046913147
          ],
          [
           0.032672636210918427,
           0.11650019139051437,
           0.1103290468454361,
           0.03899247571825981,
           0.06424584984779358,
           0.38153111934661865
          ],
          [
           0.025766119360923767,
           0.06888575106859207,
           0.05597718432545662,
           0.08338344842195511,
           0.21770764887332916,
           0.17191872000694275
          ],
          [
           0.01478506252169609,
           0.052667777985334396,
           0.025147240608930588,
           0.10067734122276306,
           0.258892685174942,
           0.04477478563785553
          ],
          [
           0.029036402702331543,
           0.06585817039012909,
           0.042602986097335815,
           0.16514398157596588,
           0.1612320989370346,
           0.05519163981080055
          ]
         ]
        }
       ],
       "layout": {}
      },
      "text/html": [
       "<div>\n",
       "        \n",
       "        \n",
       "            <div id=\"88bc8251-abd3-4f09-92eb-1c14630c0307\" class=\"plotly-graph-div\" style=\"height:525px; width:100%;\"></div>\n",
       "            <script type=\"text/javascript\">\n",
       "                require([\"plotly\"], function(Plotly) {\n",
       "                    window.PLOTLYENV=window.PLOTLYENV || {};\n",
       "                    window.PLOTLYENV.BASE_URL='https://plot.ly';\n",
       "                    \n",
       "                if (document.getElementById(\"88bc8251-abd3-4f09-92eb-1c14630c0307\")) {\n",
       "                    Plotly.newPlot(\n",
       "                        '88bc8251-abd3-4f09-92eb-1c14630c0307',\n",
       "                        [{\"colorscale\": \"Reds\", \"type\": \"heatmap\", \"uid\": \"c3f6a68e-f3b5-4519-97d6-a6830e731ff9\", \"x\": [\"i\", \"believe\", \"you\", \"can\", \"do\", \"it\"], \"y\": [\"\\u092e\\u0948\\u0902\", \"\\u0906\\u092a\", \"\\u092f\\u0939\", \"\\u0915\\u0930\", \"\\u0938\\u0915\\u0924\\u0947\", \"\\u0939\\u0948\\u0902\"], \"z\": [[0.2959219217300415, 0.18992774188518524, 0.19964580237865448, 0.023982033133506775, 0.03601225093007088, 0.06995292007923126], [0.07697176188230515, 0.18574345111846924, 0.3174003064632416, 0.014987220056355, 0.0232101920992136, 0.12181583046913147], [0.032672636210918427, 0.11650019139051437, 0.1103290468454361, 0.03899247571825981, 0.06424584984779358, 0.38153111934661865], [0.025766119360923767, 0.06888575106859207, 0.05597718432545662, 0.08338344842195511, 0.21770764887332916, 0.17191872000694275], [0.01478506252169609, 0.052667777985334396, 0.025147240608930588, 0.10067734122276306, 0.258892685174942, 0.04477478563785553], [0.029036402702331543, 0.06585817039012909, 0.042602986097335815, 0.16514398157596588, 0.1612320989370346, 0.05519163981080055]]}],\n",
       "                        {},\n",
       "                        {\"showLink\": false, \"linkText\": \"Export to plot.ly\", \"plotlyServerURL\": \"https://plot.ly\", \"responsive\": true}\n",
       "                    ).then(function(){\n",
       "                            \n",
       "var gd = document.getElementById('88bc8251-abd3-4f09-92eb-1c14630c0307');\n",
       "var x = new MutationObserver(function (mutations, observer) {{\n",
       "        var display = window.getComputedStyle(gd).display;\n",
       "        if (!display || display === 'none') {{\n",
       "            console.log([gd, 'removed!']);\n",
       "            Plotly.purge(gd);\n",
       "            observer.disconnect();\n",
       "        }}\n",
       "}});\n",
       "\n",
       "// Listen for the removal of the full notebook cells\n",
       "var notebookContainer = gd.closest('#notebook-container');\n",
       "if (notebookContainer) {{\n",
       "    x.observe(notebookContainer, {childList: true});\n",
       "}}\n",
       "\n",
       "// Listen for the clearing of the current output cell\n",
       "var outputEl = gd.closest('.output');\n",
       "if (outputEl) {{\n",
       "    x.observe(outputEl, {childList: true});\n",
       "}}\n",
       "\n",
       "                        })\n",
       "                };\n",
       "                });\n",
       "            </script>\n",
       "        </div>"
      ]
     },
     "metadata": {},
     "output_type": "display_data"
    }
   ],
   "source": [
    "predict_random_val_sentence_bleu()"
   ]
  },
  {
   "cell_type": "code",
   "execution_count": 191,
   "metadata": {},
   "outputs": [
    {
     "name": "stdout",
     "output_type": "stream",
     "text": [
      "Input: mission\n",
      "Predicted translation: मिशन \n",
      "Actual translation: मिशन\n",
      "Actual translation split:  ['मिशन']\n",
      "Predicted tanslation split:  ['मिशन']\n"
     ]
    },
    {
     "data": {
      "application/vnd.plotly.v1+json": {
       "config": {
        "linkText": "Export to plot.ly",
        "plotlyServerURL": "https://plot.ly",
        "showLink": false
       },
       "data": [
        {
         "colorscale": "Reds",
         "type": "heatmap",
         "uid": "1768c487-9125-49a7-844c-74e259005f35",
         "x": [
          "mission"
         ],
         "y": [
          "मिशन"
         ],
         "z": [
          [
           0.4667086899280548
          ]
         ]
        }
       ],
       "layout": {}
      },
      "text/html": [
       "<div>\n",
       "        \n",
       "        \n",
       "            <div id=\"dc4e862b-4b73-4d36-98a2-8d903b62408d\" class=\"plotly-graph-div\" style=\"height:525px; width:100%;\"></div>\n",
       "            <script type=\"text/javascript\">\n",
       "                require([\"plotly\"], function(Plotly) {\n",
       "                    window.PLOTLYENV=window.PLOTLYENV || {};\n",
       "                    window.PLOTLYENV.BASE_URL='https://plot.ly';\n",
       "                    \n",
       "                if (document.getElementById(\"dc4e862b-4b73-4d36-98a2-8d903b62408d\")) {\n",
       "                    Plotly.newPlot(\n",
       "                        'dc4e862b-4b73-4d36-98a2-8d903b62408d',\n",
       "                        [{\"colorscale\": \"Reds\", \"type\": \"heatmap\", \"uid\": \"1768c487-9125-49a7-844c-74e259005f35\", \"x\": [\"mission\"], \"y\": [\"\\u092e\\u093f\\u0936\\u0928\"], \"z\": [[0.4667086899280548]]}],\n",
       "                        {},\n",
       "                        {\"showLink\": false, \"linkText\": \"Export to plot.ly\", \"plotlyServerURL\": \"https://plot.ly\", \"responsive\": true}\n",
       "                    ).then(function(){\n",
       "                            \n",
       "var gd = document.getElementById('dc4e862b-4b73-4d36-98a2-8d903b62408d');\n",
       "var x = new MutationObserver(function (mutations, observer) {{\n",
       "        var display = window.getComputedStyle(gd).display;\n",
       "        if (!display || display === 'none') {{\n",
       "            console.log([gd, 'removed!']);\n",
       "            Plotly.purge(gd);\n",
       "            observer.disconnect();\n",
       "        }}\n",
       "}});\n",
       "\n",
       "// Listen for the removal of the full notebook cells\n",
       "var notebookContainer = gd.closest('#notebook-container');\n",
       "if (notebookContainer) {{\n",
       "    x.observe(notebookContainer, {childList: true});\n",
       "}}\n",
       "\n",
       "// Listen for the clearing of the current output cell\n",
       "var outputEl = gd.closest('.output');\n",
       "if (outputEl) {{\n",
       "    x.observe(outputEl, {childList: true});\n",
       "}}\n",
       "\n",
       "                        })\n",
       "                };\n",
       "                });\n",
       "            </script>\n",
       "        </div>"
      ]
     },
     "metadata": {},
     "output_type": "display_data"
    }
   ],
   "source": [
    "predict_random_val_sentence_bleu()"
   ]
  },
  {
   "cell_type": "code",
   "execution_count": 198,
   "metadata": {},
   "outputs": [
    {
     "name": "stdout",
     "output_type": "stream",
     "text": [
      "Input: and a puppy\n",
      "Predicted translation: और एक पिल्ला \n",
      "Actual translation: और एक पिल्ला।\n",
      "Actual translation split:  ['और', 'एक', 'पिल्ला।']\n",
      "Predicted tanslation split:  ['और', 'एक', 'पिल्ला']\n"
     ]
    },
    {
     "data": {
      "application/vnd.plotly.v1+json": {
       "config": {
        "linkText": "Export to plot.ly",
        "plotlyServerURL": "https://plot.ly",
        "showLink": false
       },
       "data": [
        {
         "colorscale": "Reds",
         "type": "heatmap",
         "uid": "195fbd4f-90b3-4ce2-b034-cfd9ebaca180",
         "x": [
          "and",
          "a",
          "puppy"
         ],
         "y": [
          "और",
          "एक",
          "पिल्ला"
         ],
         "z": [
          [
           0.4529513418674469,
           0.19478443264961243,
           0.10393368452787399
          ],
          [
           0.05715864151716232,
           0.4425957202911377,
           0.2780517339706421
          ],
          [
           0.027728913351893425,
           0.16551874577999115,
           0.45406273007392883
          ]
         ]
        }
       ],
       "layout": {}
      },
      "text/html": [
       "<div>\n",
       "        \n",
       "        \n",
       "            <div id=\"8a33e719-217e-48ee-ba14-733325fbf707\" class=\"plotly-graph-div\" style=\"height:525px; width:100%;\"></div>\n",
       "            <script type=\"text/javascript\">\n",
       "                require([\"plotly\"], function(Plotly) {\n",
       "                    window.PLOTLYENV=window.PLOTLYENV || {};\n",
       "                    window.PLOTLYENV.BASE_URL='https://plot.ly';\n",
       "                    \n",
       "                if (document.getElementById(\"8a33e719-217e-48ee-ba14-733325fbf707\")) {\n",
       "                    Plotly.newPlot(\n",
       "                        '8a33e719-217e-48ee-ba14-733325fbf707',\n",
       "                        [{\"colorscale\": \"Reds\", \"type\": \"heatmap\", \"uid\": \"195fbd4f-90b3-4ce2-b034-cfd9ebaca180\", \"x\": [\"and\", \"a\", \"puppy\"], \"y\": [\"\\u0914\\u0930\", \"\\u090f\\u0915\", \"\\u092a\\u093f\\u0932\\u094d\\u0932\\u093e\"], \"z\": [[0.4529513418674469, 0.19478443264961243, 0.10393368452787399], [0.05715864151716232, 0.4425957202911377, 0.2780517339706421], [0.027728913351893425, 0.16551874577999115, 0.45406273007392883]]}],\n",
       "                        {},\n",
       "                        {\"showLink\": false, \"linkText\": \"Export to plot.ly\", \"plotlyServerURL\": \"https://plot.ly\", \"responsive\": true}\n",
       "                    ).then(function(){\n",
       "                            \n",
       "var gd = document.getElementById('8a33e719-217e-48ee-ba14-733325fbf707');\n",
       "var x = new MutationObserver(function (mutations, observer) {{\n",
       "        var display = window.getComputedStyle(gd).display;\n",
       "        if (!display || display === 'none') {{\n",
       "            console.log([gd, 'removed!']);\n",
       "            Plotly.purge(gd);\n",
       "            observer.disconnect();\n",
       "        }}\n",
       "}});\n",
       "\n",
       "// Listen for the removal of the full notebook cells\n",
       "var notebookContainer = gd.closest('#notebook-container');\n",
       "if (notebookContainer) {{\n",
       "    x.observe(notebookContainer, {childList: true});\n",
       "}}\n",
       "\n",
       "// Listen for the clearing of the current output cell\n",
       "var outputEl = gd.closest('.output');\n",
       "if (outputEl) {{\n",
       "    x.observe(outputEl, {childList: true});\n",
       "}}\n",
       "\n",
       "                        })\n",
       "                };\n",
       "                });\n",
       "            </script>\n",
       "        </div>"
      ]
     },
     "metadata": {},
     "output_type": "display_data"
    }
   ],
   "source": [
    "predict_random_val_sentence_bleu()"
   ]
  },
  {
   "cell_type": "code",
   "execution_count": 202,
   "metadata": {},
   "outputs": [
    {
     "name": "stdout",
     "output_type": "stream",
     "text": [
      "Input: yes indu\n",
      "Predicted translation: हाँ इंदु \n",
      "Actual translation: हाँ इंदु\n",
      "Actual translation split:  ['हाँ', 'इंदु']\n",
      "Predicted tanslation split:  ['हाँ', 'इंदु']\n"
     ]
    },
    {
     "data": {
      "application/vnd.plotly.v1+json": {
       "config": {
        "linkText": "Export to plot.ly",
        "plotlyServerURL": "https://plot.ly",
        "showLink": false
       },
       "data": [
        {
         "colorscale": "Reds",
         "type": "heatmap",
         "uid": "413a97f7-841e-4a84-bdc4-9a53978033fe",
         "x": [
          "yes",
          "indu"
         ],
         "y": [
          "हाँ",
          "इंदु"
         ],
         "z": [
          [
           0.4731210172176361,
           0.2326921671628952
          ],
          [
           0.075714610517025,
           0.561894416809082
          ]
         ]
        }
       ],
       "layout": {}
      },
      "text/html": [
       "<div>\n",
       "        \n",
       "        \n",
       "            <div id=\"634dc101-fee7-4d3a-a4e8-54302a5eb59b\" class=\"plotly-graph-div\" style=\"height:525px; width:100%;\"></div>\n",
       "            <script type=\"text/javascript\">\n",
       "                require([\"plotly\"], function(Plotly) {\n",
       "                    window.PLOTLYENV=window.PLOTLYENV || {};\n",
       "                    window.PLOTLYENV.BASE_URL='https://plot.ly';\n",
       "                    \n",
       "                if (document.getElementById(\"634dc101-fee7-4d3a-a4e8-54302a5eb59b\")) {\n",
       "                    Plotly.newPlot(\n",
       "                        '634dc101-fee7-4d3a-a4e8-54302a5eb59b',\n",
       "                        [{\"colorscale\": \"Reds\", \"type\": \"heatmap\", \"uid\": \"413a97f7-841e-4a84-bdc4-9a53978033fe\", \"x\": [\"yes\", \"indu\"], \"y\": [\"\\u0939\\u093e\\u0901\", \"\\u0907\\u0902\\u0926\\u0941\"], \"z\": [[0.4731210172176361, 0.2326921671628952], [0.075714610517025, 0.561894416809082]]}],\n",
       "                        {},\n",
       "                        {\"showLink\": false, \"linkText\": \"Export to plot.ly\", \"plotlyServerURL\": \"https://plot.ly\", \"responsive\": true}\n",
       "                    ).then(function(){\n",
       "                            \n",
       "var gd = document.getElementById('634dc101-fee7-4d3a-a4e8-54302a5eb59b');\n",
       "var x = new MutationObserver(function (mutations, observer) {{\n",
       "        var display = window.getComputedStyle(gd).display;\n",
       "        if (!display || display === 'none') {{\n",
       "            console.log([gd, 'removed!']);\n",
       "            Plotly.purge(gd);\n",
       "            observer.disconnect();\n",
       "        }}\n",
       "}});\n",
       "\n",
       "// Listen for the removal of the full notebook cells\n",
       "var notebookContainer = gd.closest('#notebook-container');\n",
       "if (notebookContainer) {{\n",
       "    x.observe(notebookContainer, {childList: true});\n",
       "}}\n",
       "\n",
       "// Listen for the clearing of the current output cell\n",
       "var outputEl = gd.closest('.output');\n",
       "if (outputEl) {{\n",
       "    x.observe(outputEl, {childList: true});\n",
       "}}\n",
       "\n",
       "                        })\n",
       "                };\n",
       "                });\n",
       "            </script>\n",
       "        </div>"
      ]
     },
     "metadata": {},
     "output_type": "display_data"
    }
   ],
   "source": [
    "predict_random_val_sentence_bleu()"
   ]
  },
  {
   "cell_type": "code",
   "execution_count": null,
   "metadata": {},
   "outputs": [],
   "source": []
  }
 ],
 "metadata": {
  "kernelspec": {
   "display_name": "Python 3",
   "language": "python",
   "name": "python3"
  },
  "language_info": {
   "codemirror_mode": {
    "name": "ipython",
    "version": 3
   },
   "file_extension": ".py",
   "mimetype": "text/x-python",
   "name": "python",
   "nbconvert_exporter": "python",
   "pygments_lexer": "ipython3",
   "version": "3.7.3"
  }
 },
 "nbformat": 4,
 "nbformat_minor": 2
}
